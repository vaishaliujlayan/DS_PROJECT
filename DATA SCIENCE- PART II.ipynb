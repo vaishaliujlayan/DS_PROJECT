{
 "cells": [
  {
   "cell_type": "markdown",
   "metadata": {},
   "source": [
    "### INTRODUCTION:"
   ]
  },
  {
   "cell_type": "markdown",
   "metadata": {},
   "source": [
    "Canada contains the world's eighth largest Indian diaspora. The highest concentrations of Indian Canadians are found in the provinces of Ontario and British Columbia, followed by growing communities in Alberta and Quebec as well, with the majority of them being foreign-born.\n",
    "The demographics of Toronto, Ontario, Canada make Toronto one of the most multicultural and multiracial cities in the world. In 2016, 51.5% of the residents of the city proper belonged to a visible minority group, compared with 49.1% in 2011, and 13.6% in 1981. Toronto also has established ethnic neighbourhoods such as the multiple Chinatowns, Corso Italia, Little Italy, Little India, Greektown, Koreatown, Little Jamaica, Little Portugal and Roncesvalles, which celebrate the city's multiculturalism.\n",
    "As people all over the world are liking Indian cuisine, so why not explore some of the best locations for Indian restaurants throughout Toronto. Potentially, the owner of the new Indian restaurant can have great success and huge profit. However, as for starting off a new business, one must be aware of the consequences if things are not implemented strategically or whether or not the business will be profitable. So, a few points should be considered for opening a new business. In our case, an Indian restaurant. Thus, the main idea behind for the attempt of this project is to answer a few questions such as -” Where should the investor invest to open an Indian restaurant?” and “Where should I go if I want to experience great Indian cuisines?” \n"
   ]
  },
  {
   "cell_type": "markdown",
   "metadata": {},
   "source": [
    "### DATA:"
   ]
  },
  {
   "cell_type": "markdown",
   "metadata": {},
   "source": [
    "In order to answer the above questions, data on Toronto City neighborhoods, boroughs to include boundaries, latitude, longitude, restaurants, and restaurant ratings and tips are required.\n",
    "Toronto City data containing the neighborhoods and boroughs, latitudes, and longitudes will be obtained from the open data source: https://en.wikipedia.org/wiki/List_of_postal_codes_of_Canada:_M\n",
    "\n",
    "All data related to locations and quality of Indian restaurants will be obtained via the FourSquare API utilized via the Request library in Python."
   ]
  },
  {
   "cell_type": "markdown",
   "metadata": {},
   "source": [
    "### METHODOLOGY:"
   ]
  },
  {
   "cell_type": "markdown",
   "metadata": {},
   "source": [
    "• Data will be collected from  https://en.wikipedia.org/wiki/List_of_postal_codes_of_Canada:_M and cleaned and processed into a dataframe.\n",
    "\n",
    "• FourSquare be used to locate all venues and then filtered by Indian restaurants. Ratings, tips, and likes by users will be counted and added to the dataframe.\n",
    "\n",
    "• Data will be sorted based on rankings.\n",
    "\n",
    "• Finally, the data be will be visually assessed using graphs."
   ]
  },
  {
   "cell_type": "markdown",
   "metadata": {},
   "source": [
    "### PROBLEM STATEMENT:"
   ]
  },
  {
   "cell_type": "markdown",
   "metadata": {},
   "source": [
    "- Where should the investor invest to open an Indian restaurant\n",
    "- Where should I go if I want to experience great Indian cuisines?"
   ]
  },
  {
   "cell_type": "markdown",
   "metadata": {},
   "source": [
    "#### Importing the required libraries:"
   ]
  },
  {
   "cell_type": "code",
   "execution_count": 1,
   "metadata": {},
   "outputs": [
    {
     "name": "stdout",
     "output_type": "stream",
     "text": [
      "Libraries imported\n"
     ]
    }
   ],
   "source": [
    "import pandas as pd\n",
    "import numpy as np\n",
    "from bs4 import BeautifulSoup\n",
    "import re\n",
    "from urllib.request import Request, urlopen\n",
    "import seaborn as sns\n",
    "import matplotlib.pyplot as plt\n",
    "import matplotlib.cm as cm\n",
    "import matplotlib.colors as colors\n",
    "%matplotlib inline\n",
    "import requests\n",
    "import folium\n",
    "import os\n",
    "from pandas.io.json import json_normalize\n",
    "\n",
    "print(\"Libraries imported\")"
   ]
  },
  {
   "cell_type": "code",
   "execution_count": 2,
   "metadata": {},
   "outputs": [],
   "source": [
    "pd.set_option('display.max_columns',None)"
   ]
  },
  {
   "cell_type": "code",
   "execution_count": 3,
   "metadata": {},
   "outputs": [],
   "source": [
    "pd.set_option('display.max_rows',None)"
   ]
  },
  {
   "cell_type": "markdown",
   "metadata": {},
   "source": [
    "#### Function for scraping the open source data into a dataframe:"
   ]
  },
  {
   "cell_type": "code",
   "execution_count": 4,
   "metadata": {},
   "outputs": [],
   "source": [
    "def web_scraping():\n",
    "    url = 'https://en.wikipedia.org/wiki/List_of_postal_codes_of_Canada:_M'\n",
    "    req = Request(url)\n",
    "    webpage = urlopen(req).read()\n",
    "    soup = BeautifulSoup(webpage)\n",
    "    table_contents=[]\n",
    "    table=soup.find('table')\n",
    "    for row in table.findAll('td'):\n",
    "        cell = {}\n",
    "        if row.span.text=='Not assigned':\n",
    "            pass\n",
    "        else:\n",
    "            cell['PostalCode'] = row.p.text[:3]\n",
    "            cell['Borough'] = (row.span.text).split('(')[0]\n",
    "            cell['Neighborhood'] = (((((row.span.text).split('(')[1]).strip(')')).replace(' /',',')).replace(')',' ')).strip(' ')\n",
    "            table_contents.append(cell)\n",
    "    df = pd.DataFrame(table_contents)\n",
    "    df['Borough']=df['Borough'].replace({'Downtown TorontoStn A PO Boxes25 The Esplanade':'Downtown Toronto Stn A',\n",
    "                                             'East TorontoBusiness reply mail Processing Centre969 Eastern':'East Toronto Business',\n",
    "                                             'EtobicokeNorthwest':'Etobicoke Northwest','East YorkEast Toronto':'East York/East Toronto',\n",
    "                                             'MississaugaCanada Post Gateway Processing Centre':'Mississauga'})\n",
    "    return df"
   ]
  },
  {
   "cell_type": "code",
   "execution_count": 5,
   "metadata": {},
   "outputs": [],
   "source": [
    "frame = web_scraping()"
   ]
  },
  {
   "cell_type": "code",
   "execution_count": 6,
   "metadata": {},
   "outputs": [
    {
     "data": {
      "text/html": [
       "<div>\n",
       "<style scoped>\n",
       "    .dataframe tbody tr th:only-of-type {\n",
       "        vertical-align: middle;\n",
       "    }\n",
       "\n",
       "    .dataframe tbody tr th {\n",
       "        vertical-align: top;\n",
       "    }\n",
       "\n",
       "    .dataframe thead th {\n",
       "        text-align: right;\n",
       "    }\n",
       "</style>\n",
       "<table border=\"1\" class=\"dataframe\">\n",
       "  <thead>\n",
       "    <tr style=\"text-align: right;\">\n",
       "      <th></th>\n",
       "      <th>PostalCode</th>\n",
       "      <th>Borough</th>\n",
       "      <th>Neighborhood</th>\n",
       "    </tr>\n",
       "  </thead>\n",
       "  <tbody>\n",
       "    <tr>\n",
       "      <th>0</th>\n",
       "      <td>M3A</td>\n",
       "      <td>North York</td>\n",
       "      <td>Parkwoods</td>\n",
       "    </tr>\n",
       "    <tr>\n",
       "      <th>1</th>\n",
       "      <td>M4A</td>\n",
       "      <td>North York</td>\n",
       "      <td>Victoria Village</td>\n",
       "    </tr>\n",
       "    <tr>\n",
       "      <th>2</th>\n",
       "      <td>M5A</td>\n",
       "      <td>Downtown Toronto</td>\n",
       "      <td>Regent Park, Harbourfront</td>\n",
       "    </tr>\n",
       "    <tr>\n",
       "      <th>3</th>\n",
       "      <td>M6A</td>\n",
       "      <td>North York</td>\n",
       "      <td>Lawrence Manor, Lawrence Heights</td>\n",
       "    </tr>\n",
       "    <tr>\n",
       "      <th>4</th>\n",
       "      <td>M7A</td>\n",
       "      <td>Queen's Park</td>\n",
       "      <td>Ontario Provincial Government</td>\n",
       "    </tr>\n",
       "  </tbody>\n",
       "</table>\n",
       "</div>"
      ],
      "text/plain": [
       "  PostalCode           Borough                      Neighborhood\n",
       "0        M3A        North York                         Parkwoods\n",
       "1        M4A        North York                  Victoria Village\n",
       "2        M5A  Downtown Toronto         Regent Park, Harbourfront\n",
       "3        M6A        North York  Lawrence Manor, Lawrence Heights\n",
       "4        M7A      Queen's Park     Ontario Provincial Government"
      ]
     },
     "execution_count": 6,
     "metadata": {},
     "output_type": "execute_result"
    }
   ],
   "source": [
    "frame.head()"
   ]
  },
  {
   "cell_type": "code",
   "execution_count": 7,
   "metadata": {},
   "outputs": [
    {
     "data": {
      "text/html": [
       "<div>\n",
       "<style scoped>\n",
       "    .dataframe tbody tr th:only-of-type {\n",
       "        vertical-align: middle;\n",
       "    }\n",
       "\n",
       "    .dataframe tbody tr th {\n",
       "        vertical-align: top;\n",
       "    }\n",
       "\n",
       "    .dataframe thead th {\n",
       "        text-align: right;\n",
       "    }\n",
       "</style>\n",
       "<table border=\"1\" class=\"dataframe\">\n",
       "  <thead>\n",
       "    <tr style=\"text-align: right;\">\n",
       "      <th></th>\n",
       "      <th>PostalCode</th>\n",
       "      <th>Borough</th>\n",
       "      <th>Neighborhood</th>\n",
       "    </tr>\n",
       "  </thead>\n",
       "  <tbody>\n",
       "  </tbody>\n",
       "</table>\n",
       "</div>"
      ],
      "text/plain": [
       "Empty DataFrame\n",
       "Columns: [PostalCode, Borough, Neighborhood]\n",
       "Index: []"
      ]
     },
     "execution_count": 7,
     "metadata": {},
     "output_type": "execute_result"
    }
   ],
   "source": [
    "frame[frame['Borough'] == 'Not assigned']"
   ]
  },
  {
   "cell_type": "code",
   "execution_count": 8,
   "metadata": {},
   "outputs": [
    {
     "data": {
      "text/html": [
       "<div>\n",
       "<style scoped>\n",
       "    .dataframe tbody tr th:only-of-type {\n",
       "        vertical-align: middle;\n",
       "    }\n",
       "\n",
       "    .dataframe tbody tr th {\n",
       "        vertical-align: top;\n",
       "    }\n",
       "\n",
       "    .dataframe thead th {\n",
       "        text-align: right;\n",
       "    }\n",
       "</style>\n",
       "<table border=\"1\" class=\"dataframe\">\n",
       "  <thead>\n",
       "    <tr style=\"text-align: right;\">\n",
       "      <th></th>\n",
       "      <th>PostalCode</th>\n",
       "      <th>Borough</th>\n",
       "      <th>Neighborhood</th>\n",
       "    </tr>\n",
       "  </thead>\n",
       "  <tbody>\n",
       "    <tr>\n",
       "      <th>2</th>\n",
       "      <td>M5A</td>\n",
       "      <td>Downtown Toronto</td>\n",
       "      <td>Regent Park, Harbourfront</td>\n",
       "    </tr>\n",
       "  </tbody>\n",
       "</table>\n",
       "</div>"
      ],
      "text/plain": [
       "  PostalCode           Borough               Neighborhood\n",
       "2        M5A  Downtown Toronto  Regent Park, Harbourfront"
      ]
     },
     "execution_count": 8,
     "metadata": {},
     "output_type": "execute_result"
    }
   ],
   "source": [
    "frame[frame['PostalCode'] == 'M5A']"
   ]
  },
  {
   "cell_type": "markdown",
   "metadata": {},
   "source": [
    "#### Geocoding the location based on Postal code in Toronto:"
   ]
  },
  {
   "cell_type": "code",
   "execution_count": 9,
   "metadata": {},
   "outputs": [],
   "source": [
    "import geocoder"
   ]
  },
  {
   "cell_type": "code",
   "execution_count": 10,
   "metadata": {},
   "outputs": [],
   "source": [
    "def geocoding_df(df):\n",
    "    df['Address']=df['PostalCode']+',Toronto,Ontario'\n",
    "    lat=[]\n",
    "    long=[]\n",
    "    count = 0\n",
    "    \n",
    "    for i in df['Address']:\n",
    "        geo=geocoder.arcgis(i)\n",
    "#         print(i,': Longitude',geo.x,'Latitude',geo.y)\n",
    "        long.append(geo.x)\n",
    "        lat.append(geo.y)\n",
    "        count += 1\n",
    "    df['Longitude'] = long\n",
    "    df['Latitude'] = lat\n",
    "    return df"
   ]
  },
  {
   "cell_type": "code",
   "execution_count": 11,
   "metadata": {
    "collapsed": true
   },
   "outputs": [
    {
     "ename": "KeyboardInterrupt",
     "evalue": "",
     "output_type": "error",
     "traceback": [
      "\u001b[1;31m---------------------------------------------------------------------------\u001b[0m",
      "\u001b[1;31mKeyboardInterrupt\u001b[0m                         Traceback (most recent call last)",
      "\u001b[1;32m<ipython-input-11-8402857e0ff7>\u001b[0m in \u001b[0;36m<module>\u001b[1;34m\u001b[0m\n\u001b[1;32m----> 1\u001b[1;33m \u001b[0mframe\u001b[0m \u001b[1;33m=\u001b[0m \u001b[0mgeocoding_df\u001b[0m\u001b[1;33m(\u001b[0m\u001b[0mframe\u001b[0m\u001b[1;33m)\u001b[0m\u001b[1;33m\u001b[0m\u001b[1;33m\u001b[0m\u001b[0m\n\u001b[0m",
      "\u001b[1;32m<ipython-input-10-de38f428d11c>\u001b[0m in \u001b[0;36mgeocoding_df\u001b[1;34m(df)\u001b[0m\n\u001b[0;32m      6\u001b[0m \u001b[1;33m\u001b[0m\u001b[0m\n\u001b[0;32m      7\u001b[0m     \u001b[1;32mfor\u001b[0m \u001b[0mi\u001b[0m \u001b[1;32min\u001b[0m \u001b[0mdf\u001b[0m\u001b[1;33m[\u001b[0m\u001b[1;34m'Address'\u001b[0m\u001b[1;33m]\u001b[0m\u001b[1;33m:\u001b[0m\u001b[1;33m\u001b[0m\u001b[1;33m\u001b[0m\u001b[0m\n\u001b[1;32m----> 8\u001b[1;33m         \u001b[0mgeo\u001b[0m\u001b[1;33m=\u001b[0m\u001b[0mgeocoder\u001b[0m\u001b[1;33m.\u001b[0m\u001b[0marcgis\u001b[0m\u001b[1;33m(\u001b[0m\u001b[0mi\u001b[0m\u001b[1;33m)\u001b[0m\u001b[1;33m\u001b[0m\u001b[1;33m\u001b[0m\u001b[0m\n\u001b[0m\u001b[0;32m      9\u001b[0m \u001b[1;31m#         print(i,': Longitude',geo.x,'Latitude',geo.y)\u001b[0m\u001b[1;33m\u001b[0m\u001b[1;33m\u001b[0m\u001b[1;33m\u001b[0m\u001b[0m\n\u001b[0;32m     10\u001b[0m         \u001b[0mlong\u001b[0m\u001b[1;33m.\u001b[0m\u001b[0mappend\u001b[0m\u001b[1;33m(\u001b[0m\u001b[0mgeo\u001b[0m\u001b[1;33m.\u001b[0m\u001b[0mx\u001b[0m\u001b[1;33m)\u001b[0m\u001b[1;33m\u001b[0m\u001b[1;33m\u001b[0m\u001b[0m\n",
      "\u001b[1;32m~\\Anaconda3\\lib\\site-packages\\geocoder\\api.py\u001b[0m in \u001b[0;36marcgis\u001b[1;34m(location, **kwargs)\u001b[0m\n\u001b[0;32m    396\u001b[0m     \u001b[1;33m:\u001b[0m\u001b[0mparam\u001b[0m\u001b[0;31m \u001b[0m\u001b[0;31m`\u001b[0m\u001b[0;31m`\u001b[0m\u001b[0mlocation\u001b[0m\u001b[0;31m`\u001b[0m\u001b[0;31m`\u001b[0m\u001b[1;33m:\u001b[0m \u001b[0mYour\u001b[0m \u001b[0msearch\u001b[0m \u001b[0mlocation\u001b[0m \u001b[0myou\u001b[0m \u001b[0mwant\u001b[0m \u001b[0mgeocoded\u001b[0m\u001b[1;33m.\u001b[0m\u001b[1;33m\u001b[0m\u001b[1;33m\u001b[0m\u001b[0m\n\u001b[0;32m    397\u001b[0m     \"\"\"\n\u001b[1;32m--> 398\u001b[1;33m     \u001b[1;32mreturn\u001b[0m \u001b[0mget\u001b[0m\u001b[1;33m(\u001b[0m\u001b[0mlocation\u001b[0m\u001b[1;33m,\u001b[0m \u001b[0mprovider\u001b[0m\u001b[1;33m=\u001b[0m\u001b[1;34m'arcgis'\u001b[0m\u001b[1;33m,\u001b[0m \u001b[1;33m**\u001b[0m\u001b[0mkwargs\u001b[0m\u001b[1;33m)\u001b[0m\u001b[1;33m\u001b[0m\u001b[1;33m\u001b[0m\u001b[0m\n\u001b[0m\u001b[0;32m    399\u001b[0m \u001b[1;33m\u001b[0m\u001b[0m\n\u001b[0;32m    400\u001b[0m \u001b[1;33m\u001b[0m\u001b[0m\n",
      "\u001b[1;32m~\\Anaconda3\\lib\\site-packages\\geocoder\\api.py\u001b[0m in \u001b[0;36mget\u001b[1;34m(location, **kwargs)\u001b[0m\n\u001b[0;32m    196\u001b[0m         \u001b[1;32mif\u001b[0m \u001b[0mmethod\u001b[0m \u001b[1;32mnot\u001b[0m \u001b[1;32min\u001b[0m \u001b[0moptions\u001b[0m\u001b[1;33m[\u001b[0m\u001b[0mprovider\u001b[0m\u001b[1;33m]\u001b[0m\u001b[1;33m:\u001b[0m\u001b[1;33m\u001b[0m\u001b[1;33m\u001b[0m\u001b[0m\n\u001b[0;32m    197\u001b[0m             \u001b[1;32mraise\u001b[0m \u001b[0mValueError\u001b[0m\u001b[1;33m(\u001b[0m\u001b[1;34m\"Invalid method\"\u001b[0m\u001b[1;33m)\u001b[0m\u001b[1;33m\u001b[0m\u001b[1;33m\u001b[0m\u001b[0m\n\u001b[1;32m--> 198\u001b[1;33m     \u001b[1;32mreturn\u001b[0m \u001b[0moptions\u001b[0m\u001b[1;33m[\u001b[0m\u001b[0mprovider\u001b[0m\u001b[1;33m]\u001b[0m\u001b[1;33m[\u001b[0m\u001b[0mmethod\u001b[0m\u001b[1;33m]\u001b[0m\u001b[1;33m(\u001b[0m\u001b[0mlocation\u001b[0m\u001b[1;33m,\u001b[0m \u001b[1;33m**\u001b[0m\u001b[0mkwargs\u001b[0m\u001b[1;33m)\u001b[0m\u001b[1;33m\u001b[0m\u001b[1;33m\u001b[0m\u001b[0m\n\u001b[0m\u001b[0;32m    199\u001b[0m \u001b[1;33m\u001b[0m\u001b[0m\n\u001b[0;32m    200\u001b[0m \u001b[1;33m\u001b[0m\u001b[0m\n",
      "\u001b[1;32m~\\Anaconda3\\lib\\site-packages\\geocoder\\base.py\u001b[0m in \u001b[0;36m__init__\u001b[1;34m(self, location, **kwargs)\u001b[0m\n\u001b[0;32m    408\u001b[0m \u001b[1;33m\u001b[0m\u001b[0m\n\u001b[0;32m    409\u001b[0m         \u001b[1;31m# query and parse results\u001b[0m\u001b[1;33m\u001b[0m\u001b[1;33m\u001b[0m\u001b[1;33m\u001b[0m\u001b[0m\n\u001b[1;32m--> 410\u001b[1;33m         \u001b[0mself\u001b[0m\u001b[1;33m.\u001b[0m\u001b[0m_initialize\u001b[0m\u001b[1;33m(\u001b[0m\u001b[1;33m)\u001b[0m\u001b[1;33m\u001b[0m\u001b[1;33m\u001b[0m\u001b[0m\n\u001b[0m\u001b[0;32m    411\u001b[0m \u001b[1;33m\u001b[0m\u001b[0m\n\u001b[0;32m    412\u001b[0m     \u001b[1;32mdef\u001b[0m \u001b[0m__getitem__\u001b[0m\u001b[1;33m(\u001b[0m\u001b[0mself\u001b[0m\u001b[1;33m,\u001b[0m \u001b[0mkey\u001b[0m\u001b[1;33m)\u001b[0m\u001b[1;33m:\u001b[0m\u001b[1;33m\u001b[0m\u001b[1;33m\u001b[0m\u001b[0m\n",
      "\u001b[1;32m~\\Anaconda3\\lib\\site-packages\\geocoder\\base.py\u001b[0m in \u001b[0;36m_initialize\u001b[1;34m(self)\u001b[0m\n\u001b[0;32m    455\u001b[0m     \u001b[1;32mdef\u001b[0m \u001b[0m_initialize\u001b[0m\u001b[1;33m(\u001b[0m\u001b[0mself\u001b[0m\u001b[1;33m)\u001b[0m\u001b[1;33m:\u001b[0m\u001b[1;33m\u001b[0m\u001b[1;33m\u001b[0m\u001b[0m\n\u001b[0;32m    456\u001b[0m         \u001b[1;31m# query URL and get valid JSON (also stored in self.json)\u001b[0m\u001b[1;33m\u001b[0m\u001b[1;33m\u001b[0m\u001b[1;33m\u001b[0m\u001b[0m\n\u001b[1;32m--> 457\u001b[1;33m         \u001b[0mjson_response\u001b[0m \u001b[1;33m=\u001b[0m \u001b[0mself\u001b[0m\u001b[1;33m.\u001b[0m\u001b[0m_connect\u001b[0m\u001b[1;33m(\u001b[0m\u001b[1;33m)\u001b[0m\u001b[1;33m\u001b[0m\u001b[1;33m\u001b[0m\u001b[0m\n\u001b[0m\u001b[0;32m    458\u001b[0m \u001b[1;33m\u001b[0m\u001b[0m\n\u001b[0;32m    459\u001b[0m         \u001b[1;31m# catch errors\u001b[0m\u001b[1;33m\u001b[0m\u001b[1;33m\u001b[0m\u001b[1;33m\u001b[0m\u001b[0m\n",
      "\u001b[1;32m~\\Anaconda3\\lib\\site-packages\\geocoder\\base.py\u001b[0m in \u001b[0;36m_connect\u001b[1;34m(self)\u001b[0m\n\u001b[0;32m    477\u001b[0m         \u001b[1;32mtry\u001b[0m\u001b[1;33m:\u001b[0m\u001b[1;33m\u001b[0m\u001b[1;33m\u001b[0m\u001b[0m\n\u001b[0;32m    478\u001b[0m             \u001b[1;31m# make request and get response\u001b[0m\u001b[1;33m\u001b[0m\u001b[1;33m\u001b[0m\u001b[1;33m\u001b[0m\u001b[0m\n\u001b[1;32m--> 479\u001b[1;33m             self.response = response = self.rate_limited_get(\n\u001b[0m\u001b[0;32m    480\u001b[0m                 \u001b[0mself\u001b[0m\u001b[1;33m.\u001b[0m\u001b[0murl\u001b[0m\u001b[1;33m,\u001b[0m\u001b[1;33m\u001b[0m\u001b[1;33m\u001b[0m\u001b[0m\n\u001b[0;32m    481\u001b[0m                 \u001b[0mparams\u001b[0m\u001b[1;33m=\u001b[0m\u001b[0mself\u001b[0m\u001b[1;33m.\u001b[0m\u001b[0mparams\u001b[0m\u001b[1;33m,\u001b[0m\u001b[1;33m\u001b[0m\u001b[1;33m\u001b[0m\u001b[0m\n",
      "\u001b[1;32m~\\Anaconda3\\lib\\site-packages\\geocoder\\base.py\u001b[0m in \u001b[0;36mrate_limited_get\u001b[1;34m(self, url, **kwargs)\u001b[0m\n\u001b[0;32m    508\u001b[0m     \u001b[1;32mdef\u001b[0m \u001b[0mrate_limited_get\u001b[0m\u001b[1;33m(\u001b[0m\u001b[0mself\u001b[0m\u001b[1;33m,\u001b[0m \u001b[0murl\u001b[0m\u001b[1;33m,\u001b[0m \u001b[1;33m**\u001b[0m\u001b[0mkwargs\u001b[0m\u001b[1;33m)\u001b[0m\u001b[1;33m:\u001b[0m\u001b[1;33m\u001b[0m\u001b[1;33m\u001b[0m\u001b[0m\n\u001b[0;32m    509\u001b[0m         \u001b[1;34m\"\"\" By default, simply wraps a session.get request\"\"\"\u001b[0m\u001b[1;33m\u001b[0m\u001b[1;33m\u001b[0m\u001b[0m\n\u001b[1;32m--> 510\u001b[1;33m         \u001b[1;32mreturn\u001b[0m \u001b[0mself\u001b[0m\u001b[1;33m.\u001b[0m\u001b[0msession\u001b[0m\u001b[1;33m.\u001b[0m\u001b[0mget\u001b[0m\u001b[1;33m(\u001b[0m\u001b[0murl\u001b[0m\u001b[1;33m,\u001b[0m \u001b[1;33m**\u001b[0m\u001b[0mkwargs\u001b[0m\u001b[1;33m)\u001b[0m\u001b[1;33m\u001b[0m\u001b[1;33m\u001b[0m\u001b[0m\n\u001b[0m\u001b[0;32m    511\u001b[0m \u001b[1;33m\u001b[0m\u001b[0m\n\u001b[0;32m    512\u001b[0m     \u001b[1;32mdef\u001b[0m \u001b[0m_adapt_results\u001b[0m\u001b[1;33m(\u001b[0m\u001b[0mself\u001b[0m\u001b[1;33m,\u001b[0m \u001b[0mjson_response\u001b[0m\u001b[1;33m)\u001b[0m\u001b[1;33m:\u001b[0m\u001b[1;33m\u001b[0m\u001b[1;33m\u001b[0m\u001b[0m\n",
      "\u001b[1;32m~\\Anaconda3\\lib\\site-packages\\requests\\sessions.py\u001b[0m in \u001b[0;36mget\u001b[1;34m(self, url, **kwargs)\u001b[0m\n\u001b[0;32m    541\u001b[0m \u001b[1;33m\u001b[0m\u001b[0m\n\u001b[0;32m    542\u001b[0m         \u001b[0mkwargs\u001b[0m\u001b[1;33m.\u001b[0m\u001b[0msetdefault\u001b[0m\u001b[1;33m(\u001b[0m\u001b[1;34m'allow_redirects'\u001b[0m\u001b[1;33m,\u001b[0m \u001b[1;32mTrue\u001b[0m\u001b[1;33m)\u001b[0m\u001b[1;33m\u001b[0m\u001b[1;33m\u001b[0m\u001b[0m\n\u001b[1;32m--> 543\u001b[1;33m         \u001b[1;32mreturn\u001b[0m \u001b[0mself\u001b[0m\u001b[1;33m.\u001b[0m\u001b[0mrequest\u001b[0m\u001b[1;33m(\u001b[0m\u001b[1;34m'GET'\u001b[0m\u001b[1;33m,\u001b[0m \u001b[0murl\u001b[0m\u001b[1;33m,\u001b[0m \u001b[1;33m**\u001b[0m\u001b[0mkwargs\u001b[0m\u001b[1;33m)\u001b[0m\u001b[1;33m\u001b[0m\u001b[1;33m\u001b[0m\u001b[0m\n\u001b[0m\u001b[0;32m    544\u001b[0m \u001b[1;33m\u001b[0m\u001b[0m\n\u001b[0;32m    545\u001b[0m     \u001b[1;32mdef\u001b[0m \u001b[0moptions\u001b[0m\u001b[1;33m(\u001b[0m\u001b[0mself\u001b[0m\u001b[1;33m,\u001b[0m \u001b[0murl\u001b[0m\u001b[1;33m,\u001b[0m \u001b[1;33m**\u001b[0m\u001b[0mkwargs\u001b[0m\u001b[1;33m)\u001b[0m\u001b[1;33m:\u001b[0m\u001b[1;33m\u001b[0m\u001b[1;33m\u001b[0m\u001b[0m\n",
      "\u001b[1;32m~\\Anaconda3\\lib\\site-packages\\requests\\sessions.py\u001b[0m in \u001b[0;36mrequest\u001b[1;34m(self, method, url, params, data, headers, cookies, files, auth, timeout, allow_redirects, proxies, hooks, stream, verify, cert, json)\u001b[0m\n\u001b[0;32m    528\u001b[0m         }\n\u001b[0;32m    529\u001b[0m         \u001b[0msend_kwargs\u001b[0m\u001b[1;33m.\u001b[0m\u001b[0mupdate\u001b[0m\u001b[1;33m(\u001b[0m\u001b[0msettings\u001b[0m\u001b[1;33m)\u001b[0m\u001b[1;33m\u001b[0m\u001b[1;33m\u001b[0m\u001b[0m\n\u001b[1;32m--> 530\u001b[1;33m         \u001b[0mresp\u001b[0m \u001b[1;33m=\u001b[0m \u001b[0mself\u001b[0m\u001b[1;33m.\u001b[0m\u001b[0msend\u001b[0m\u001b[1;33m(\u001b[0m\u001b[0mprep\u001b[0m\u001b[1;33m,\u001b[0m \u001b[1;33m**\u001b[0m\u001b[0msend_kwargs\u001b[0m\u001b[1;33m)\u001b[0m\u001b[1;33m\u001b[0m\u001b[1;33m\u001b[0m\u001b[0m\n\u001b[0m\u001b[0;32m    531\u001b[0m \u001b[1;33m\u001b[0m\u001b[0m\n\u001b[0;32m    532\u001b[0m         \u001b[1;32mreturn\u001b[0m \u001b[0mresp\u001b[0m\u001b[1;33m\u001b[0m\u001b[1;33m\u001b[0m\u001b[0m\n",
      "\u001b[1;32m~\\Anaconda3\\lib\\site-packages\\requests\\sessions.py\u001b[0m in \u001b[0;36msend\u001b[1;34m(self, request, **kwargs)\u001b[0m\n\u001b[0;32m    641\u001b[0m \u001b[1;33m\u001b[0m\u001b[0m\n\u001b[0;32m    642\u001b[0m         \u001b[1;31m# Send the request\u001b[0m\u001b[1;33m\u001b[0m\u001b[1;33m\u001b[0m\u001b[1;33m\u001b[0m\u001b[0m\n\u001b[1;32m--> 643\u001b[1;33m         \u001b[0mr\u001b[0m \u001b[1;33m=\u001b[0m \u001b[0madapter\u001b[0m\u001b[1;33m.\u001b[0m\u001b[0msend\u001b[0m\u001b[1;33m(\u001b[0m\u001b[0mrequest\u001b[0m\u001b[1;33m,\u001b[0m \u001b[1;33m**\u001b[0m\u001b[0mkwargs\u001b[0m\u001b[1;33m)\u001b[0m\u001b[1;33m\u001b[0m\u001b[1;33m\u001b[0m\u001b[0m\n\u001b[0m\u001b[0;32m    644\u001b[0m \u001b[1;33m\u001b[0m\u001b[0m\n\u001b[0;32m    645\u001b[0m         \u001b[1;31m# Total elapsed time of the request (approximately)\u001b[0m\u001b[1;33m\u001b[0m\u001b[1;33m\u001b[0m\u001b[1;33m\u001b[0m\u001b[0m\n",
      "\u001b[1;32m~\\Anaconda3\\lib\\site-packages\\requests\\adapters.py\u001b[0m in \u001b[0;36msend\u001b[1;34m(self, request, stream, timeout, verify, cert, proxies)\u001b[0m\n\u001b[0;32m    437\u001b[0m         \u001b[1;32mtry\u001b[0m\u001b[1;33m:\u001b[0m\u001b[1;33m\u001b[0m\u001b[1;33m\u001b[0m\u001b[0m\n\u001b[0;32m    438\u001b[0m             \u001b[1;32mif\u001b[0m \u001b[1;32mnot\u001b[0m \u001b[0mchunked\u001b[0m\u001b[1;33m:\u001b[0m\u001b[1;33m\u001b[0m\u001b[1;33m\u001b[0m\u001b[0m\n\u001b[1;32m--> 439\u001b[1;33m                 resp = conn.urlopen(\n\u001b[0m\u001b[0;32m    440\u001b[0m                     \u001b[0mmethod\u001b[0m\u001b[1;33m=\u001b[0m\u001b[0mrequest\u001b[0m\u001b[1;33m.\u001b[0m\u001b[0mmethod\u001b[0m\u001b[1;33m,\u001b[0m\u001b[1;33m\u001b[0m\u001b[1;33m\u001b[0m\u001b[0m\n\u001b[0;32m    441\u001b[0m                     \u001b[0murl\u001b[0m\u001b[1;33m=\u001b[0m\u001b[0murl\u001b[0m\u001b[1;33m,\u001b[0m\u001b[1;33m\u001b[0m\u001b[1;33m\u001b[0m\u001b[0m\n",
      "\u001b[1;32m~\\Anaconda3\\lib\\site-packages\\urllib3\\connectionpool.py\u001b[0m in \u001b[0;36murlopen\u001b[1;34m(self, method, url, body, headers, retries, redirect, assert_same_host, timeout, pool_timeout, release_conn, chunked, body_pos, **response_kw)\u001b[0m\n\u001b[0;32m    668\u001b[0m \u001b[1;33m\u001b[0m\u001b[0m\n\u001b[0;32m    669\u001b[0m             \u001b[1;31m# Make the request on the httplib connection object.\u001b[0m\u001b[1;33m\u001b[0m\u001b[1;33m\u001b[0m\u001b[1;33m\u001b[0m\u001b[0m\n\u001b[1;32m--> 670\u001b[1;33m             httplib_response = self._make_request(\n\u001b[0m\u001b[0;32m    671\u001b[0m                 \u001b[0mconn\u001b[0m\u001b[1;33m,\u001b[0m\u001b[1;33m\u001b[0m\u001b[1;33m\u001b[0m\u001b[0m\n\u001b[0;32m    672\u001b[0m                 \u001b[0mmethod\u001b[0m\u001b[1;33m,\u001b[0m\u001b[1;33m\u001b[0m\u001b[1;33m\u001b[0m\u001b[0m\n",
      "\u001b[1;32m~\\Anaconda3\\lib\\site-packages\\urllib3\\connectionpool.py\u001b[0m in \u001b[0;36m_make_request\u001b[1;34m(self, conn, method, url, timeout, chunked, **httplib_request_kw)\u001b[0m\n\u001b[0;32m    424\u001b[0m                     \u001b[1;31m# Python 3 (including for exceptions like SystemExit).\u001b[0m\u001b[1;33m\u001b[0m\u001b[1;33m\u001b[0m\u001b[1;33m\u001b[0m\u001b[0m\n\u001b[0;32m    425\u001b[0m                     \u001b[1;31m# Otherwise it looks like a bug in the code.\u001b[0m\u001b[1;33m\u001b[0m\u001b[1;33m\u001b[0m\u001b[1;33m\u001b[0m\u001b[0m\n\u001b[1;32m--> 426\u001b[1;33m                     \u001b[0msix\u001b[0m\u001b[1;33m.\u001b[0m\u001b[0mraise_from\u001b[0m\u001b[1;33m(\u001b[0m\u001b[0me\u001b[0m\u001b[1;33m,\u001b[0m \u001b[1;32mNone\u001b[0m\u001b[1;33m)\u001b[0m\u001b[1;33m\u001b[0m\u001b[1;33m\u001b[0m\u001b[0m\n\u001b[0m\u001b[0;32m    427\u001b[0m         \u001b[1;32mexcept\u001b[0m \u001b[1;33m(\u001b[0m\u001b[0mSocketTimeout\u001b[0m\u001b[1;33m,\u001b[0m \u001b[0mBaseSSLError\u001b[0m\u001b[1;33m,\u001b[0m \u001b[0mSocketError\u001b[0m\u001b[1;33m)\u001b[0m \u001b[1;32mas\u001b[0m \u001b[0me\u001b[0m\u001b[1;33m:\u001b[0m\u001b[1;33m\u001b[0m\u001b[1;33m\u001b[0m\u001b[0m\n\u001b[0;32m    428\u001b[0m             \u001b[0mself\u001b[0m\u001b[1;33m.\u001b[0m\u001b[0m_raise_timeout\u001b[0m\u001b[1;33m(\u001b[0m\u001b[0merr\u001b[0m\u001b[1;33m=\u001b[0m\u001b[0me\u001b[0m\u001b[1;33m,\u001b[0m \u001b[0murl\u001b[0m\u001b[1;33m=\u001b[0m\u001b[0murl\u001b[0m\u001b[1;33m,\u001b[0m \u001b[0mtimeout_value\u001b[0m\u001b[1;33m=\u001b[0m\u001b[0mread_timeout\u001b[0m\u001b[1;33m)\u001b[0m\u001b[1;33m\u001b[0m\u001b[1;33m\u001b[0m\u001b[0m\n",
      "\u001b[1;32m~\\Anaconda3\\lib\\site-packages\\urllib3\\packages\\six.py\u001b[0m in \u001b[0;36mraise_from\u001b[1;34m(value, from_value)\u001b[0m\n",
      "\u001b[1;32m~\\Anaconda3\\lib\\site-packages\\urllib3\\connectionpool.py\u001b[0m in \u001b[0;36m_make_request\u001b[1;34m(self, conn, method, url, timeout, chunked, **httplib_request_kw)\u001b[0m\n\u001b[0;32m    419\u001b[0m                 \u001b[1;31m# Python 3\u001b[0m\u001b[1;33m\u001b[0m\u001b[1;33m\u001b[0m\u001b[1;33m\u001b[0m\u001b[0m\n\u001b[0;32m    420\u001b[0m                 \u001b[1;32mtry\u001b[0m\u001b[1;33m:\u001b[0m\u001b[1;33m\u001b[0m\u001b[1;33m\u001b[0m\u001b[0m\n\u001b[1;32m--> 421\u001b[1;33m                     \u001b[0mhttplib_response\u001b[0m \u001b[1;33m=\u001b[0m \u001b[0mconn\u001b[0m\u001b[1;33m.\u001b[0m\u001b[0mgetresponse\u001b[0m\u001b[1;33m(\u001b[0m\u001b[1;33m)\u001b[0m\u001b[1;33m\u001b[0m\u001b[1;33m\u001b[0m\u001b[0m\n\u001b[0m\u001b[0;32m    422\u001b[0m                 \u001b[1;32mexcept\u001b[0m \u001b[0mBaseException\u001b[0m \u001b[1;32mas\u001b[0m \u001b[0me\u001b[0m\u001b[1;33m:\u001b[0m\u001b[1;33m\u001b[0m\u001b[1;33m\u001b[0m\u001b[0m\n\u001b[0;32m    423\u001b[0m                     \u001b[1;31m# Remove the TypeError from the exception chain in\u001b[0m\u001b[1;33m\u001b[0m\u001b[1;33m\u001b[0m\u001b[1;33m\u001b[0m\u001b[0m\n",
      "\u001b[1;32m~\\Anaconda3\\lib\\http\\client.py\u001b[0m in \u001b[0;36mgetresponse\u001b[1;34m(self)\u001b[0m\n\u001b[0;32m   1345\u001b[0m         \u001b[1;32mtry\u001b[0m\u001b[1;33m:\u001b[0m\u001b[1;33m\u001b[0m\u001b[1;33m\u001b[0m\u001b[0m\n\u001b[0;32m   1346\u001b[0m             \u001b[1;32mtry\u001b[0m\u001b[1;33m:\u001b[0m\u001b[1;33m\u001b[0m\u001b[1;33m\u001b[0m\u001b[0m\n\u001b[1;32m-> 1347\u001b[1;33m                 \u001b[0mresponse\u001b[0m\u001b[1;33m.\u001b[0m\u001b[0mbegin\u001b[0m\u001b[1;33m(\u001b[0m\u001b[1;33m)\u001b[0m\u001b[1;33m\u001b[0m\u001b[1;33m\u001b[0m\u001b[0m\n\u001b[0m\u001b[0;32m   1348\u001b[0m             \u001b[1;32mexcept\u001b[0m \u001b[0mConnectionError\u001b[0m\u001b[1;33m:\u001b[0m\u001b[1;33m\u001b[0m\u001b[1;33m\u001b[0m\u001b[0m\n\u001b[0;32m   1349\u001b[0m                 \u001b[0mself\u001b[0m\u001b[1;33m.\u001b[0m\u001b[0mclose\u001b[0m\u001b[1;33m(\u001b[0m\u001b[1;33m)\u001b[0m\u001b[1;33m\u001b[0m\u001b[1;33m\u001b[0m\u001b[0m\n",
      "\u001b[1;32m~\\Anaconda3\\lib\\http\\client.py\u001b[0m in \u001b[0;36mbegin\u001b[1;34m(self)\u001b[0m\n\u001b[0;32m    305\u001b[0m         \u001b[1;31m# read until we get a non-100 response\u001b[0m\u001b[1;33m\u001b[0m\u001b[1;33m\u001b[0m\u001b[1;33m\u001b[0m\u001b[0m\n\u001b[0;32m    306\u001b[0m         \u001b[1;32mwhile\u001b[0m \u001b[1;32mTrue\u001b[0m\u001b[1;33m:\u001b[0m\u001b[1;33m\u001b[0m\u001b[1;33m\u001b[0m\u001b[0m\n\u001b[1;32m--> 307\u001b[1;33m             \u001b[0mversion\u001b[0m\u001b[1;33m,\u001b[0m \u001b[0mstatus\u001b[0m\u001b[1;33m,\u001b[0m \u001b[0mreason\u001b[0m \u001b[1;33m=\u001b[0m \u001b[0mself\u001b[0m\u001b[1;33m.\u001b[0m\u001b[0m_read_status\u001b[0m\u001b[1;33m(\u001b[0m\u001b[1;33m)\u001b[0m\u001b[1;33m\u001b[0m\u001b[1;33m\u001b[0m\u001b[0m\n\u001b[0m\u001b[0;32m    308\u001b[0m             \u001b[1;32mif\u001b[0m \u001b[0mstatus\u001b[0m \u001b[1;33m!=\u001b[0m \u001b[0mCONTINUE\u001b[0m\u001b[1;33m:\u001b[0m\u001b[1;33m\u001b[0m\u001b[1;33m\u001b[0m\u001b[0m\n\u001b[0;32m    309\u001b[0m                 \u001b[1;32mbreak\u001b[0m\u001b[1;33m\u001b[0m\u001b[1;33m\u001b[0m\u001b[0m\n",
      "\u001b[1;32m~\\Anaconda3\\lib\\http\\client.py\u001b[0m in \u001b[0;36m_read_status\u001b[1;34m(self)\u001b[0m\n\u001b[0;32m    266\u001b[0m \u001b[1;33m\u001b[0m\u001b[0m\n\u001b[0;32m    267\u001b[0m     \u001b[1;32mdef\u001b[0m \u001b[0m_read_status\u001b[0m\u001b[1;33m(\u001b[0m\u001b[0mself\u001b[0m\u001b[1;33m)\u001b[0m\u001b[1;33m:\u001b[0m\u001b[1;33m\u001b[0m\u001b[1;33m\u001b[0m\u001b[0m\n\u001b[1;32m--> 268\u001b[1;33m         \u001b[0mline\u001b[0m \u001b[1;33m=\u001b[0m \u001b[0mstr\u001b[0m\u001b[1;33m(\u001b[0m\u001b[0mself\u001b[0m\u001b[1;33m.\u001b[0m\u001b[0mfp\u001b[0m\u001b[1;33m.\u001b[0m\u001b[0mreadline\u001b[0m\u001b[1;33m(\u001b[0m\u001b[0m_MAXLINE\u001b[0m \u001b[1;33m+\u001b[0m \u001b[1;36m1\u001b[0m\u001b[1;33m)\u001b[0m\u001b[1;33m,\u001b[0m \u001b[1;34m\"iso-8859-1\"\u001b[0m\u001b[1;33m)\u001b[0m\u001b[1;33m\u001b[0m\u001b[1;33m\u001b[0m\u001b[0m\n\u001b[0m\u001b[0;32m    269\u001b[0m         \u001b[1;32mif\u001b[0m \u001b[0mlen\u001b[0m\u001b[1;33m(\u001b[0m\u001b[0mline\u001b[0m\u001b[1;33m)\u001b[0m \u001b[1;33m>\u001b[0m \u001b[0m_MAXLINE\u001b[0m\u001b[1;33m:\u001b[0m\u001b[1;33m\u001b[0m\u001b[1;33m\u001b[0m\u001b[0m\n\u001b[0;32m    270\u001b[0m             \u001b[1;32mraise\u001b[0m \u001b[0mLineTooLong\u001b[0m\u001b[1;33m(\u001b[0m\u001b[1;34m\"status line\"\u001b[0m\u001b[1;33m)\u001b[0m\u001b[1;33m\u001b[0m\u001b[1;33m\u001b[0m\u001b[0m\n",
      "\u001b[1;32m~\\Anaconda3\\lib\\socket.py\u001b[0m in \u001b[0;36mreadinto\u001b[1;34m(self, b)\u001b[0m\n\u001b[0;32m    667\u001b[0m         \u001b[1;32mwhile\u001b[0m \u001b[1;32mTrue\u001b[0m\u001b[1;33m:\u001b[0m\u001b[1;33m\u001b[0m\u001b[1;33m\u001b[0m\u001b[0m\n\u001b[0;32m    668\u001b[0m             \u001b[1;32mtry\u001b[0m\u001b[1;33m:\u001b[0m\u001b[1;33m\u001b[0m\u001b[1;33m\u001b[0m\u001b[0m\n\u001b[1;32m--> 669\u001b[1;33m                 \u001b[1;32mreturn\u001b[0m \u001b[0mself\u001b[0m\u001b[1;33m.\u001b[0m\u001b[0m_sock\u001b[0m\u001b[1;33m.\u001b[0m\u001b[0mrecv_into\u001b[0m\u001b[1;33m(\u001b[0m\u001b[0mb\u001b[0m\u001b[1;33m)\u001b[0m\u001b[1;33m\u001b[0m\u001b[1;33m\u001b[0m\u001b[0m\n\u001b[0m\u001b[0;32m    670\u001b[0m             \u001b[1;32mexcept\u001b[0m \u001b[0mtimeout\u001b[0m\u001b[1;33m:\u001b[0m\u001b[1;33m\u001b[0m\u001b[1;33m\u001b[0m\u001b[0m\n\u001b[0;32m    671\u001b[0m                 \u001b[0mself\u001b[0m\u001b[1;33m.\u001b[0m\u001b[0m_timeout_occurred\u001b[0m \u001b[1;33m=\u001b[0m \u001b[1;32mTrue\u001b[0m\u001b[1;33m\u001b[0m\u001b[1;33m\u001b[0m\u001b[0m\n",
      "\u001b[1;32m~\\Anaconda3\\lib\\ssl.py\u001b[0m in \u001b[0;36mrecv_into\u001b[1;34m(self, buffer, nbytes, flags)\u001b[0m\n\u001b[0;32m   1239\u001b[0m                   \u001b[1;34m\"non-zero flags not allowed in calls to recv_into() on %s\"\u001b[0m \u001b[1;33m%\u001b[0m\u001b[1;33m\u001b[0m\u001b[1;33m\u001b[0m\u001b[0m\n\u001b[0;32m   1240\u001b[0m                   self.__class__)\n\u001b[1;32m-> 1241\u001b[1;33m             \u001b[1;32mreturn\u001b[0m \u001b[0mself\u001b[0m\u001b[1;33m.\u001b[0m\u001b[0mread\u001b[0m\u001b[1;33m(\u001b[0m\u001b[0mnbytes\u001b[0m\u001b[1;33m,\u001b[0m \u001b[0mbuffer\u001b[0m\u001b[1;33m)\u001b[0m\u001b[1;33m\u001b[0m\u001b[1;33m\u001b[0m\u001b[0m\n\u001b[0m\u001b[0;32m   1242\u001b[0m         \u001b[1;32melse\u001b[0m\u001b[1;33m:\u001b[0m\u001b[1;33m\u001b[0m\u001b[1;33m\u001b[0m\u001b[0m\n\u001b[0;32m   1243\u001b[0m             \u001b[1;32mreturn\u001b[0m \u001b[0msuper\u001b[0m\u001b[1;33m(\u001b[0m\u001b[1;33m)\u001b[0m\u001b[1;33m.\u001b[0m\u001b[0mrecv_into\u001b[0m\u001b[1;33m(\u001b[0m\u001b[0mbuffer\u001b[0m\u001b[1;33m,\u001b[0m \u001b[0mnbytes\u001b[0m\u001b[1;33m,\u001b[0m \u001b[0mflags\u001b[0m\u001b[1;33m)\u001b[0m\u001b[1;33m\u001b[0m\u001b[1;33m\u001b[0m\u001b[0m\n",
      "\u001b[1;32m~\\Anaconda3\\lib\\ssl.py\u001b[0m in \u001b[0;36mread\u001b[1;34m(self, len, buffer)\u001b[0m\n\u001b[0;32m   1097\u001b[0m         \u001b[1;32mtry\u001b[0m\u001b[1;33m:\u001b[0m\u001b[1;33m\u001b[0m\u001b[1;33m\u001b[0m\u001b[0m\n\u001b[0;32m   1098\u001b[0m             \u001b[1;32mif\u001b[0m \u001b[0mbuffer\u001b[0m \u001b[1;32mis\u001b[0m \u001b[1;32mnot\u001b[0m \u001b[1;32mNone\u001b[0m\u001b[1;33m:\u001b[0m\u001b[1;33m\u001b[0m\u001b[1;33m\u001b[0m\u001b[0m\n\u001b[1;32m-> 1099\u001b[1;33m                 \u001b[1;32mreturn\u001b[0m \u001b[0mself\u001b[0m\u001b[1;33m.\u001b[0m\u001b[0m_sslobj\u001b[0m\u001b[1;33m.\u001b[0m\u001b[0mread\u001b[0m\u001b[1;33m(\u001b[0m\u001b[0mlen\u001b[0m\u001b[1;33m,\u001b[0m \u001b[0mbuffer\u001b[0m\u001b[1;33m)\u001b[0m\u001b[1;33m\u001b[0m\u001b[1;33m\u001b[0m\u001b[0m\n\u001b[0m\u001b[0;32m   1100\u001b[0m             \u001b[1;32melse\u001b[0m\u001b[1;33m:\u001b[0m\u001b[1;33m\u001b[0m\u001b[1;33m\u001b[0m\u001b[0m\n\u001b[0;32m   1101\u001b[0m                 \u001b[1;32mreturn\u001b[0m \u001b[0mself\u001b[0m\u001b[1;33m.\u001b[0m\u001b[0m_sslobj\u001b[0m\u001b[1;33m.\u001b[0m\u001b[0mread\u001b[0m\u001b[1;33m(\u001b[0m\u001b[0mlen\u001b[0m\u001b[1;33m)\u001b[0m\u001b[1;33m\u001b[0m\u001b[1;33m\u001b[0m\u001b[0m\n",
      "\u001b[1;31mKeyboardInterrupt\u001b[0m: "
     ]
    }
   ],
   "source": [
    "frame = geocoding_df(frame)"
   ]
  },
  {
   "cell_type": "code",
   "execution_count": null,
   "metadata": {},
   "outputs": [],
   "source": [
    "frame"
   ]
  },
  {
   "cell_type": "markdown",
   "metadata": {},
   "source": [
    "#### Saving the dataframe to excel file:"
   ]
  },
  {
   "cell_type": "code",
   "execution_count": 12,
   "metadata": {},
   "outputs": [],
   "source": [
    "df = pd.read_excel(r'D:/Vaishali/Data/Geocoded_Data_Toronto.xlsx')"
   ]
  },
  {
   "cell_type": "code",
   "execution_count": 13,
   "metadata": {},
   "outputs": [],
   "source": [
    "frame = df[['PostalCode','Borough','Neighborhood','Latitude','Longitude']]"
   ]
  },
  {
   "cell_type": "code",
   "execution_count": 14,
   "metadata": {},
   "outputs": [
    {
     "data": {
      "text/html": [
       "<div>\n",
       "<style scoped>\n",
       "    .dataframe tbody tr th:only-of-type {\n",
       "        vertical-align: middle;\n",
       "    }\n",
       "\n",
       "    .dataframe tbody tr th {\n",
       "        vertical-align: top;\n",
       "    }\n",
       "\n",
       "    .dataframe thead th {\n",
       "        text-align: right;\n",
       "    }\n",
       "</style>\n",
       "<table border=\"1\" class=\"dataframe\">\n",
       "  <thead>\n",
       "    <tr style=\"text-align: right;\">\n",
       "      <th></th>\n",
       "      <th>PostalCode</th>\n",
       "      <th>Borough</th>\n",
       "      <th>Neighborhood</th>\n",
       "      <th>Latitude</th>\n",
       "      <th>Longitude</th>\n",
       "    </tr>\n",
       "  </thead>\n",
       "  <tbody>\n",
       "    <tr>\n",
       "      <th>0</th>\n",
       "      <td>M3A</td>\n",
       "      <td>North York</td>\n",
       "      <td>Parkwoods</td>\n",
       "      <td>43.75245</td>\n",
       "      <td>-79.32991</td>\n",
       "    </tr>\n",
       "    <tr>\n",
       "      <th>1</th>\n",
       "      <td>M4A</td>\n",
       "      <td>North York</td>\n",
       "      <td>Victoria Village</td>\n",
       "      <td>43.73057</td>\n",
       "      <td>-79.31306</td>\n",
       "    </tr>\n",
       "    <tr>\n",
       "      <th>2</th>\n",
       "      <td>M5A</td>\n",
       "      <td>Downtown Toronto</td>\n",
       "      <td>Regent Park, Harbourfront</td>\n",
       "      <td>43.65512</td>\n",
       "      <td>-79.36264</td>\n",
       "    </tr>\n",
       "    <tr>\n",
       "      <th>3</th>\n",
       "      <td>M6A</td>\n",
       "      <td>North York</td>\n",
       "      <td>Lawrence Manor, Lawrence Heights</td>\n",
       "      <td>43.72327</td>\n",
       "      <td>-79.45042</td>\n",
       "    </tr>\n",
       "    <tr>\n",
       "      <th>4</th>\n",
       "      <td>M7A</td>\n",
       "      <td>Queen's Park</td>\n",
       "      <td>Ontario Provincial Government</td>\n",
       "      <td>43.66253</td>\n",
       "      <td>-79.39188</td>\n",
       "    </tr>\n",
       "  </tbody>\n",
       "</table>\n",
       "</div>"
      ],
      "text/plain": [
       "  PostalCode           Borough                      Neighborhood  Latitude  \\\n",
       "0        M3A        North York                         Parkwoods  43.75245   \n",
       "1        M4A        North York                  Victoria Village  43.73057   \n",
       "2        M5A  Downtown Toronto         Regent Park, Harbourfront  43.65512   \n",
       "3        M6A        North York  Lawrence Manor, Lawrence Heights  43.72327   \n",
       "4        M7A      Queen's Park     Ontario Provincial Government  43.66253   \n",
       "\n",
       "   Longitude  \n",
       "0  -79.32991  \n",
       "1  -79.31306  \n",
       "2  -79.36264  \n",
       "3  -79.45042  \n",
       "4  -79.39188  "
      ]
     },
     "execution_count": 14,
     "metadata": {},
     "output_type": "execute_result"
    }
   ],
   "source": [
    "frame.head()"
   ]
  },
  {
   "cell_type": "code",
   "execution_count": 15,
   "metadata": {},
   "outputs": [
    {
     "data": {
      "text/plain": [
       "(103, 5)"
      ]
     },
     "execution_count": 15,
     "metadata": {},
     "output_type": "execute_result"
    }
   ],
   "source": [
    "frame.shape"
   ]
  },
  {
   "cell_type": "markdown",
   "metadata": {},
   "source": [
    "### VISUALISING THE DATA:"
   ]
  },
  {
   "cell_type": "markdown",
   "metadata": {},
   "source": [
    "#### 1. Neighborhoods per Borough:"
   ]
  },
  {
   "cell_type": "code",
   "execution_count": 46,
   "metadata": {},
   "outputs": [
    {
     "data": {
      "image/png": "[encoded data removed]",
      "text/plain": [
       "<Figure size 1080x576 with 1 Axes>"
      ]
     },
     "metadata": {
      "needs_background": "light"
     },
     "output_type": "display_data"
    }
   ],
   "source": [
    "frame.groupby('Borough')['Neighborhood'].count().plot.bar(figsize=(15,8), color='#0A1054')\n",
    "plt.title('Neighborhoods per Borough: Toronto', fontsize = 20)\n",
    "plt.xlabel('Borough', fontsize = 15, loc='center')\n",
    "plt.ylabel('No. Neighborhoods',fontsize = 15)\n",
    "plt.xticks(rotation = 90)\n",
    "plt.legend()\n",
    "plt.show()"
   ]
  },
  {
   "cell_type": "markdown",
   "metadata": {},
   "source": [
    "### Foursquare API for fetching venue & venue details:\n"
   ]
  },
  {
   "cell_type": "code",
   "execution_count": 19,
   "metadata": {},
   "outputs": [
    {
     "name": "stdout",
     "output_type": "stream",
     "text": [
      "Foursquare API credentails:\n",
      "CLIENT_ID: DNURYOV22UE3XENBYDHZ3VDI5Z1LTIUBWE3TN5LGM1ZYIMZW\n",
      "CLIENT_SECRET:IUB2IBEMEPOMSGORIMSYG3VWMOKOWDNMMYJTBPMXZ3R4OKYY\n"
     ]
    }
   ],
   "source": [
    "CLIENT_ID = 'DNURYOV22UE3XENBYDHZ3VDI5Z1LTIUBWE3TN5LGM1ZYIMZW' # your Foursquare ID\n",
    "CLIENT_SECRET = 'IUB2IBEMEPOMSGORIMSYG3VWMOKOWDNMMYJTBPMXZ3R4OKYY' # your Foursquare Secret\n",
    "VERSION = '20180605' # Foursquare API version\n",
    "LIMIT = 100 # A default Foursquare API limit value\n",
    "\n",
    "print('Foursquare API credentails:')\n",
    "print('CLIENT_ID: ' + CLIENT_ID)\n",
    "print('CLIENT_SECRET:' + CLIENT_SECRET)"
   ]
  },
  {
   "cell_type": "markdown",
   "metadata": {},
   "source": [
    "##### Function to get venues based on the geocoordinates:"
   ]
  },
  {
   "cell_type": "code",
   "execution_count": 20,
   "metadata": {},
   "outputs": [],
   "source": [
    "def get_venues(lat,lng):\n",
    "    #set variables\n",
    "    radius=400\n",
    "    LIMIT=100\n",
    "    #url to fetch data from foursquare api\n",
    "    url = 'https://api.foursquare.com/v2/venues/explore?&client_id={}&client_secret={}&v={}&ll={},{}&radius={}&limit={}'.format(\n",
    "            CLIENT_ID, \n",
    "            CLIENT_SECRET, \n",
    "            VERSION, \n",
    "            lat, \n",
    "            lng, \n",
    "            radius, \n",
    "            LIMIT)\n",
    "    # get all the data\n",
    "    results = requests.get(url).json()\n",
    "    venue_data=results['response']['groups'][0]['items']\n",
    "    venue_details=[]\n",
    "    for row in venue_data:\n",
    "        try:\n",
    "            venue_id=row['venue']['id']\n",
    "            venue_name=row['venue']['name']\n",
    "            venue_category=row['venue']['categories'][0]['name']\n",
    "            venue_details.append([venue_id,venue_name,venue_category])\n",
    "        except KeyError:\n",
    "            pass\n",
    "    column_names=['ID','Name','Category']\n",
    "    df = pd.DataFrame(venue_details,columns=column_names)\n",
    "    return df"
   ]
  },
  {
   "cell_type": "markdown",
   "metadata": {},
   "source": [
    "##### Function to get venue details i.e., ratings, tips, count, likes:"
   ]
  },
  {
   "cell_type": "code",
   "execution_count": 21,
   "metadata": {},
   "outputs": [],
   "source": [
    "def get_venue_details(venue_id):\n",
    "    #url to fetch data from foursquare api\n",
    "    url = 'https://api.foursquare.com/v2/venues/{}?&client_id={}&client_secret={}&v={}'.format(\n",
    "            venue_id,\n",
    "            CLIENT_ID, \n",
    "            CLIENT_SECRET, \n",
    "            VERSION)\n",
    "    # get all the data\n",
    "    results = requests.get(url).json()\n",
    "    print(results)\n",
    "    venue_data=results['response']['venue']\n",
    "    venue_details=[]\n",
    "    try:\n",
    "        venue_id=venue_data['id']\n",
    "        venue_name=venue_data['name']\n",
    "        venue_likes=venue_data['likes']['count']\n",
    "        venue_rating=venue_data['rating']\n",
    "        venue_tips=venue_data['tips']['count']\n",
    "        venue_details.append([venue_id,venue_name,venue_likes,venue_rating,venue_tips])\n",
    "    except KeyError:\n",
    "        pass\n",
    "    column_names=['ID','Name','Likes','Rating','Tips']\n",
    "    df = pd.DataFrame(venue_details,columns=column_names)\n",
    "    return df"
   ]
  },
  {
   "cell_type": "code",
   "execution_count": 22,
   "metadata": {},
   "outputs": [],
   "source": [
    "column_names=['Borough', 'Neighborhood', 'ID','Name']\n",
    "indian_rest=pd.DataFrame(columns=column_names)\n",
    "count=1"
   ]
  },
  {
   "cell_type": "code",
   "execution_count": 23,
   "metadata": {},
   "outputs": [],
   "source": [
    "frame = frame[['Borough','Neighborhood','Latitude','Longitude']]"
   ]
  },
  {
   "cell_type": "code",
   "execution_count": 24,
   "metadata": {},
   "outputs": [
    {
     "name": "stdout",
     "output_type": "stream",
     "text": [
      "( 1 / 103 ) Indian Restaurants in Parkwoods, North York:0\n",
      "['North York', 'Parkwoods', 43.75245000000007, -79.32990999999998]\n",
      "( 2 / 103 ) Indian Restaurants in Victoria Village, North York:0\n",
      "['North York', 'Victoria Village', 43.73057000000006, -79.31305999999995]\n",
      "( 3 / 103 ) Indian Restaurants in Regent Park, Harbourfront, Downtown Toronto:0\n",
      "['Downtown Toronto', 'Regent Park, Harbourfront', 43.65512, -79.3626399999999]\n",
      "( 4 / 103 ) Indian Restaurants in Lawrence Manor, Lawrence Heights, North York:1\n",
      "['North York', 'Lawrence Manor, Lawrence Heights', 43.72327, -79.4504199999999]\n",
      "( 5 / 103 ) Indian Restaurants in Ontario Provincial Government, Queen's Park:0\n",
      "[\"Queen's Park\", 'Ontario Provincial Government', 43.66253000000006, -79.39187999999996]\n",
      "( 6 / 103 ) Indian Restaurants in Islington Avenue, Etobicoke:0\n",
      "['Etobicoke', 'Islington Avenue', 43.66263000000004, -79.52830999999998]\n",
      "( 7 / 103 ) Indian Restaurants in Malvern, Rouge, Scarborough:0\n",
      "['Scarborough', 'Malvern, Rouge', 43.81139000000007, -79.19661999999994]\n",
      "( 8 / 103 ) Indian Restaurants in Don Mills North, North York:0\n",
      "['North York', 'Don Mills North', 43.74923000000007, -79.36185999999998]\n",
      "( 9 / 103 ) Indian Restaurants in Parkview Hill, Woodbine Gardens, East York:0\n",
      "['East York', 'Parkview Hill, Woodbine Gardens', 43.70718000000005, -79.31191999999999]\n",
      "( 10 / 103 ) Indian Restaurants in Garden District, Ryerson, Downtown Toronto:0\n",
      "['Downtown Toronto', 'Garden District, Ryerson', 43.65739, -79.3780399999999]\n",
      "( 11 / 103 ) Indian Restaurants in Glencairn, North York:0\n",
      "['North York', 'Glencairn', 43.70687000000004, -79.44811999999996]\n",
      "( 12 / 103 ) Indian Restaurants in West Deane Park, Princess Gardens, Martin Grove, Islington, Cloverdale, Etobicoke:0\n",
      "['Etobicoke', 'West Deane Park, Princess Gardens, Martin Grove, Islington, Cloverdale', 43.65034000000003, -79.55361999999997]\n",
      "( 13 / 103 ) Indian Restaurants in Rouge Hill, Port Union, Highland Creek, Scarborough:0\n",
      "['Scarborough', 'Rouge Hill, Port Union, Highland Creek', 43.78574000000003, -79.15874999999994]\n",
      "( 14 / 103 ) Indian Restaurants in Don Mills South, North York:0\n",
      "['North York', 'Don Mills South', 43.72168000000005, -79.34351999999996]\n",
      "( 15 / 103 ) Indian Restaurants in Woodbine Heights, East York:0\n",
      "['East York', 'Woodbine Heights', 43.68970000000007, -79.30681999999996]\n",
      "( 16 / 103 ) Indian Restaurants in St. James Town, Downtown Toronto:0\n",
      "['Downtown Toronto', 'St. James Town', 43.65215000000006, -79.37586999999996]\n",
      "( 17 / 103 ) Indian Restaurants in Humewood-Cedarvale, York:0\n",
      "['York', 'Humewood-Cedarvale', 43.69211000000007, -79.43035999999995]\n",
      "( 18 / 103 ) Indian Restaurants in Eringate, Bloordale Gardens, Old Burnhamthorpe, Markland Wood, Etobicoke:0\n",
      "['Etobicoke', 'Eringate, Bloordale Gardens, Old Burnhamthorpe, Markland Wood', 43.64857000000006, -79.57824999999997]\n",
      "( 19 / 103 ) Indian Restaurants in Guildwood, Morningside, West Hill, Scarborough:0\n",
      "['Scarborough', 'Guildwood, Morningside, West Hill', 43.76575000000003, -79.17469999999997]\n",
      "( 20 / 103 ) Indian Restaurants in The Beaches, East Toronto:0\n",
      "['East Toronto', 'The Beaches', 43.67709000000008, -79.29546999999997]\n",
      "( 21 / 103 ) Indian Restaurants in Berczy Park, Downtown Toronto:1\n",
      "['Downtown Toronto', 'Berczy Park', 43.64536000000004, -79.37305999999995]\n",
      "( 22 / 103 ) Indian Restaurants in Caledonia-Fairbanks, York:0\n",
      "['York', 'Caledonia-Fairbanks', 43.68784000000005, -79.45045999999996]\n",
      "( 23 / 103 ) Indian Restaurants in Woburn, Scarborough:0\n",
      "['Scarborough', 'Woburn', 43.76812000000007, -79.21760999999998]\n",
      "( 24 / 103 ) Indian Restaurants in Leaside, East York:0\n",
      "['East York', 'Leaside', 43.70902000000007, -79.36348999999996]\n",
      "( 25 / 103 ) Indian Restaurants in Central Bay Street, Downtown Toronto:0\n",
      "['Downtown Toronto', 'Central Bay Street', 43.65609000000006, -79.38492999999994]\n",
      "( 26 / 103 ) Indian Restaurants in Christie, Downtown Toronto:0\n",
      "['Downtown Toronto', 'Christie', 43.66869000000003, -79.42070999999999]\n",
      "( 27 / 103 ) Indian Restaurants in Cedarbrae, Scarborough:0\n",
      "['Scarborough', 'Cedarbrae', 43.76944000000003, -79.23891999999995]\n",
      "( 28 / 103 ) Indian Restaurants in Hillcrest Village, North York:0\n",
      "['North York', 'Hillcrest Village', 43.80225000000007, -79.35557999999997]\n",
      "( 29 / 103 ) Indian Restaurants in Bathurst Manor, Wilson Heights, Downsview North, North York:0\n",
      "['North York', 'Bathurst Manor, Wilson Heights, Downsview North', 43.75788000000006, -79.44846999999999]\n",
      "( 30 / 103 ) Indian Restaurants in Thorncliffe Park, East York:1\n",
      "['East York', 'Thorncliffe Park', 43.70142000000004, -79.34904999999998]\n",
      "( 31 / 103 ) Indian Restaurants in Richmond, Adelaide, King, Downtown Toronto:0\n",
      "['Downtown Toronto', 'Richmond, Adelaide, King', 43.64970000000005, -79.38257999999996]\n",
      "( 32 / 103 ) Indian Restaurants in Dufferin, Dovercourt Village, West Toronto:0\n",
      "['West Toronto', 'Dufferin, Dovercourt Village', 43.66505000000006, -79.43890999999996]\n",
      "( 33 / 103 ) Indian Restaurants in Scarborough Village, Scarborough:0\n",
      "['Scarborough', 'Scarborough Village', 43.74446000000006, -79.23116999999996]\n",
      "( 34 / 103 ) Indian Restaurants in Fairview, Henry Farm, Oriole, North York:0\n",
      "['North York', 'Fairview, Henry Farm, Oriole', 43.78097000000002, -79.34780999999998]\n",
      "( 35 / 103 ) Indian Restaurants in Northwood Park, York University, North York:0\n",
      "['North York', 'Northwood Park, York University', 43.76476000000008, -79.48797999999994]\n",
      "( 36 / 103 ) Indian Restaurants in The Danforth  East, East York/East Toronto:0\n",
      "['East York/East Toronto', 'The Danforth  East', 43.68811000000005, -79.33417999999995]\n",
      "( 37 / 103 ) Indian Restaurants in Harbourfront East, Union Station, Toronto Islands, Downtown Toronto:0\n",
      "['Downtown Toronto', 'Harbourfront East, Union Station, Toronto Islands', 43.64285000000007, -79.38075999999995]\n",
      "( 38 / 103 ) Indian Restaurants in Little Portugal, Trinity, West Toronto:0\n",
      "['West Toronto', 'Little Portugal, Trinity', 43.64848000000006, -79.41773999999998]\n",
      "( 39 / 103 ) Indian Restaurants in Kennedy Park, Ionview, East Birchmount Park, Scarborough:0\n",
      "['Scarborough', 'Kennedy Park, Ionview, East Birchmount Park', 43.72582000000006, -79.26460999999995]\n",
      "( 40 / 103 ) Indian Restaurants in Bayview Village, North York:0\n",
      "['North York', 'Bayview Village', 43.78112000000004, -79.38059999999996]\n",
      "( 41 / 103 ) Indian Restaurants in Downsview East, North York:0\n",
      "['North York', 'Downsview East', 43.73384000000004, -79.46827999999994]\n",
      "( 42 / 103 ) Indian Restaurants in The Danforth West, Riverdale, East Toronto:0\n",
      "['East Toronto', 'The Danforth West, Riverdale', 43.68375000000003, -79.35511999999994]\n",
      "( 43 / 103 ) Indian Restaurants in Toronto Dominion Centre, Design Exchange, Downtown Toronto:0\n",
      "['Downtown Toronto', 'Toronto Dominion Centre, Design Exchange', 43.64710000000008, -79.38152999999994]\n",
      "( 44 / 103 ) Indian Restaurants in Brockton, Parkdale Village, Exhibition Place, West Toronto:0\n",
      "['West Toronto', 'Brockton, Parkdale Village, Exhibition Place', 43.63941000000005, -79.42675999999994]\n",
      "( 45 / 103 ) Indian Restaurants in Golden Mile, Clairlea, Oakridge, Scarborough:0\n",
      "['Scarborough', 'Golden Mile, Clairlea, Oakridge', 43.71289000000007, -79.28505999999999]\n",
      "( 46 / 103 ) Indian Restaurants in York Mills, Silver Hills, North York:0\n",
      "['North York', 'York Mills, Silver Hills', 43.75698000000006, -79.38059999999996]\n",
      "( 47 / 103 ) Indian Restaurants in Downsview West, North York:0\n",
      "['North York', 'Downsview West', 43.72071000000005, -79.51700999999997]\n",
      "( 48 / 103 ) Indian Restaurants in India Bazaar, The Beaches West, East Toronto:0\n",
      "['East Toronto', 'India Bazaar, The Beaches West', 43.66797000000003, -79.31466999999998]\n",
      "( 49 / 103 ) Indian Restaurants in Commerce Court, Victoria Hotel, Downtown Toronto:0\n",
      "['Downtown Toronto', 'Commerce Court, Victoria Hotel', 43.64840000000004, -79.37913999999995]\n",
      "( 50 / 103 ) Indian Restaurants in North Park, Maple Leaf Park, Upwood Park, North York:0\n",
      "['North York', 'North Park, Maple Leaf Park, Upwood Park', 43.71381000000008, -79.48873999999995]\n",
      "( 51 / 103 ) Indian Restaurants in Humber Summit, North York:0\n",
      "['North York', 'Humber Summit', 43.75948000000005, -79.55706999999995]\n",
      "( 52 / 103 ) Indian Restaurants in Cliffside, Cliffcrest, Scarborough Village West, Scarborough:0\n",
      "['Scarborough', 'Cliffside, Cliffcrest, Scarborough Village West', 43.72360000000003, -79.23495999999994]\n"
     ]
    },
    {
     "name": "stdout",
     "output_type": "stream",
     "text": [
      "( 53 / 103 ) Indian Restaurants in Willowdale, Newtonbrook, North York:0\n",
      "['North York', 'Willowdale, Newtonbrook', 43.79182000000003, -79.41371999999996]\n",
      "( 54 / 103 ) Indian Restaurants in Downsview Central, North York:0\n",
      "['North York', 'Downsview Central', 43.73224000000005, -79.50177999999994]\n",
      "( 55 / 103 ) Indian Restaurants in Studio District, East Toronto:0\n",
      "['East Toronto', 'Studio District', 43.66213000000005, -79.33496999999994]\n",
      "( 56 / 103 ) Indian Restaurants in Bedford Park, Lawrence Manor East, North York:1\n",
      "['North York', 'Bedford Park, Lawrence Manor East', 43.73545000000007, -79.41915999999998]\n",
      "( 57 / 103 ) Indian Restaurants in Del Ray, Mount Dennis, Keelsdale and Silverthorn, York:0\n",
      "['York', 'Del Ray, Mount Dennis, Keelsdale and Silverthorn', 43.69517000000008, -79.48396999999994]\n",
      "( 58 / 103 ) Indian Restaurants in Humberlea, Emery, North York:0\n",
      "['North York', 'Humberlea, Emery', 43.73367000000007, -79.53768999999994]\n",
      "( 59 / 103 ) Indian Restaurants in Birch Cliff, Cliffside West, Scarborough:0\n",
      "['Scarborough', 'Birch Cliff, Cliffside West', 43.69510000000002, -79.26465999999994]\n",
      "( 60 / 103 ) Indian Restaurants in Willowdale South, North York:0\n",
      "['North York', 'Willowdale South', 43.76774000000006, -79.40727999999996]\n",
      "( 61 / 103 ) Indian Restaurants in Downsview Northwest, North York:0\n",
      "['North York', 'Downsview Northwest', 43.75478000000004, -79.51958999999994]\n",
      "( 62 / 103 ) Indian Restaurants in Lawrence Park, Central Toronto:0\n",
      "['Central Toronto', 'Lawrence Park', 43.72843000000006, -79.38712999999996]\n",
      "( 63 / 103 ) Indian Restaurants in Roselawn, Central Toronto:0\n",
      "['Central Toronto', 'Roselawn', 43.71208000000007, -79.41847999999999]\n",
      "( 64 / 103 ) Indian Restaurants in Runnymede, The Junction North, York:0\n",
      "['York', 'Runnymede, The Junction North', 43.67646000000008, -79.48271999999997]\n",
      "( 65 / 103 ) Indian Restaurants in Weston, York:0\n",
      "['York', 'Weston', 43.70507000000003, -79.51803999999998]\n",
      "( 66 / 103 ) Indian Restaurants in Dorset Park, Wexford Heights, Scarborough Town Centre, Scarborough:0\n",
      "['Scarborough', 'Dorset Park, Wexford Heights, Scarborough Town Centre', 43.75998000000004, -79.26939999999996]\n",
      "( 67 / 103 ) Indian Restaurants in York Mills West, North York:0\n",
      "['North York', 'York Mills West', 43.74778000000003, -79.40032999999994]\n",
      "( 68 / 103 ) Indian Restaurants in Davisville North, Central Toronto:0\n",
      "['Central Toronto', 'Davisville North', 43.71276000000006, -79.38850999999994]\n",
      "( 69 / 103 ) Indian Restaurants in Forest Hill North & West, Central Toronto:0\n",
      "['Central Toronto', 'Forest Hill North & West', 43.69479000000007, -79.41439999999994]\n",
      "( 70 / 103 ) Indian Restaurants in High Park, The Junction South, West Toronto:0\n",
      "['West Toronto', 'High Park, The Junction South', 43.65973000000002, -79.46280999999993]\n",
      "( 71 / 103 ) Indian Restaurants in Westmount, Etobicoke:0\n",
      "['Etobicoke', 'Westmount', 43.69630000000006, -79.52925999999997]\n",
      "( 72 / 103 ) Indian Restaurants in Wexford, Maryvale, Scarborough:0\n",
      "['Scarborough', 'Wexford, Maryvale', 43.75075000000004, -79.30053999999996]\n",
      "( 73 / 103 ) Indian Restaurants in Willowdale West, North York:0\n",
      "['North York', 'Willowdale West', 43.77989000000008, -79.44677999999999]\n",
      "( 74 / 103 ) Indian Restaurants in North Toronto West, Central Toronto:0\n",
      "['Central Toronto', 'North Toronto West', 43.71458000000007, -79.40667999999994]\n",
      "( 75 / 103 ) Indian Restaurants in The Annex, North Midtown, Yorkville, Central Toronto:1\n",
      "['Central Toronto', 'The Annex, North Midtown, Yorkville', 43.67484000000007, -79.40451999999993]\n",
      "( 76 / 103 ) Indian Restaurants in Parkdale, Roncesvalles, West Toronto:0\n",
      "['West Toronto', 'Parkdale, Roncesvalles', 43.64777000000004, -79.44988999999998]\n",
      "( 77 / 103 ) Indian Restaurants in Enclave of L4W, Mississauga:1\n",
      "['Mississauga', 'Enclave of L4W', 43.64869000000004, -79.38543999999996]\n",
      "( 78 / 103 ) Indian Restaurants in Kingsview Village, St. Phillips, Martin Grove Gardens, Richview Gardens, Etobicoke:0\n",
      "['Etobicoke', 'Kingsview Village, St. Phillips, Martin Grove Gardens, Richview Gardens', 43.68681000000004, -79.55727999999993]\n",
      "( 79 / 103 ) Indian Restaurants in Agincourt, Scarborough:0\n",
      "['Scarborough', 'Agincourt', 43.79452000000003, -79.26707999999996]\n",
      "( 80 / 103 ) Indian Restaurants in Davisville, Central Toronto:1\n",
      "['Central Toronto', 'Davisville', 43.70340000000004, -79.38658999999996]\n",
      "( 81 / 103 ) Indian Restaurants in University of Toronto, Harbord, Downtown Toronto:0\n",
      "['Downtown Toronto', 'University of Toronto, Harbord', 43.66311000000007, -79.40179999999998]\n",
      "( 82 / 103 ) Indian Restaurants in Runnymede, Swansea, West Toronto:1\n",
      "['West Toronto', 'Runnymede, Swansea', 43.64982000000003, -79.47547999999995]\n",
      "( 83 / 103 ) Indian Restaurants in Clarks Corners, Tam O'Shanter, Sullivan, Scarborough:0\n",
      "['Scarborough', \"Clarks Corners, Tam O'Shanter, Sullivan\", 43.78491000000002, -79.29721999999998]\n",
      "( 84 / 103 ) Indian Restaurants in Moore Park, Summerhill East, Central Toronto:0\n",
      "['Central Toronto', 'Moore Park, Summerhill East', 43.69048000000004, -79.38317999999998]\n",
      "( 85 / 103 ) Indian Restaurants in Kensington Market, Chinatown, Grange Park, Downtown Toronto:0\n",
      "['Downtown Toronto', 'Kensington Market, Chinatown, Grange Park', 43.65351000000004, -79.39721999999995]\n",
      "( 86 / 103 ) Indian Restaurants in Milliken, Agincourt North, Steeles East, L'Amoreaux East, Scarborough:0\n",
      "['Scarborough', \"Milliken, Agincourt North, Steeles East, L'Amoreaux East\", 43.81781000000007, -79.28043999999994]\n",
      "( 87 / 103 ) Indian Restaurants in Summerhill West, Rathnelly, South Hill, Forest Hill SE, Deer Park, Central Toronto:0\n",
      "['Central Toronto', 'Summerhill West, Rathnelly, South Hill, Forest Hill SE, Deer Park', 43.68568000000005, -79.40236999999996]\n",
      "( 88 / 103 ) Indian Restaurants in CN Tower, King and Spadina, Railway Lands, Harbourfront West, Bathurst Quay, South Niagara, Island airport, Downtown Toronto:0\n",
      "['Downtown Toronto', 'CN Tower, King and Spadina, Railway Lands, Harbourfront West, Bathurst Quay, South Niagara, Island airport', 43.64082000000008, -79.39817999999997]\n",
      "( 89 / 103 ) Indian Restaurants in New Toronto, Mimico South, Humber Bay Shores, Etobicoke:0\n",
      "['Etobicoke', 'New Toronto, Mimico South, Humber Bay Shores', 43.60987000000006, -79.49808999999993]\n",
      "( 90 / 103 ) Indian Restaurants in South Steeles, Silverstone, Humbergate, Jamestown, Mount Olive, Beaumond Heights, Thistletown, Albion Gardens, Etobicoke:0\n",
      "['Etobicoke', 'South Steeles, Silverstone, Humbergate, Jamestown, Mount Olive, Beaumond Heights, Thistletown, Albion Gardens', 43.74453000000005, -79.58623999999998]\n",
      "( 91 / 103 ) Indian Restaurants in Steeles West, L'Amoreaux West, Scarborough:0\n",
      "['Scarborough', \"Steeles West, L'Amoreaux West\", 43.80079000000006, -79.32161999999994]\n",
      "( 92 / 103 ) Indian Restaurants in Rosedale, Downtown Toronto:0\n",
      "['Downtown Toronto', 'Rosedale', 43.68190000000004, -79.37828999999994]\n",
      "( 93 / 103 ) Indian Restaurants in Enclave of M5E, Downtown Toronto Stn A:1\n",
      "['Downtown Toronto Stn A', 'Enclave of M5E', 43.64869000000004, -79.38543999999996]\n",
      "( 94 / 103 ) Indian Restaurants in Alderwood, Long Branch, Etobicoke:0\n",
      "['Etobicoke', 'Alderwood, Long Branch', 43.60124000000008, -79.53878999999995]\n",
      "( 95 / 103 ) Indian Restaurants in Clairville, Humberwood, Woodbine Downs, West Humber, Kipling Heights, Rexdale, Elms, Tandridge, Old Rexdale, Etobicoke Northwest:0\n",
      "['Etobicoke Northwest', 'Clairville, Humberwood, Woodbine Downs, West Humber, Kipling Heights, Rexdale, Elms, Tandridge, Old Rexdale', 43.71174000000008, -79.57940999999994]\n",
      "( 96 / 103 ) Indian Restaurants in Upper Rouge, Scarborough:0\n",
      "['Scarborough', 'Upper Rouge', 43.83412000000004, -79.21667999999994]\n",
      "( 97 / 103 ) Indian Restaurants in St. James Town, Cabbagetown, Downtown Toronto:1\n",
      "['Downtown Toronto', 'St. James Town, Cabbagetown', 43.66788000000003, -79.36648999999994]\n",
      "( 98 / 103 ) Indian Restaurants in First Canadian Place, Underground city, Downtown Toronto:0\n",
      "['Downtown Toronto', 'First Canadian Place, Underground city', 43.64828000000006, -79.38145999999995]\n",
      "( 99 / 103 ) Indian Restaurants in The Kingsway, Montgomery Road, Old Mill North, Etobicoke:0\n",
      "['Etobicoke', 'The Kingsway, Montgomery Road, Old Mill North', 43.65319000000005, -79.51112999999998]\n",
      "( 100 / 103 ) Indian Restaurants in Church and Wellesley, Downtown Toronto:1\n",
      "['Downtown Toronto', 'Church and Wellesley', 43.66659000000004, -79.38132999999993]\n"
     ]
    },
    {
     "name": "stdout",
     "output_type": "stream",
     "text": [
      "( 101 / 103 ) Indian Restaurants in Enclave of M4L, East Toronto Business:1\n",
      "['East Toronto Business', 'Enclave of M4L', 43.64869000000004, -79.38543999999996]\n",
      "( 102 / 103 ) Indian Restaurants in Old Mill South, King's Mill Park, Sunnylea, Humber Bay, Mimico NE, The Queensway East, Royal York South East, Kingsway Park South East, Etobicoke:0\n",
      "['Etobicoke', \"Old Mill South, King's Mill Park, Sunnylea, Humber Bay, Mimico NE, The Queensway East, Royal York South East, Kingsway Park South East\", 43.63278000000003, -79.48944999999998]\n",
      "( 103 / 103 ) Indian Restaurants in Mimico NW, The Queensway West, South of Bloor, Kingsway Park South West, Royal York South West, Etobicoke:0\n",
      "['Etobicoke', 'Mimico NW, The Queensway West, South of Bloor, Kingsway Park South West, Royal York South West', 43.62513000000007, -79.52680999999995]\n"
     ]
    }
   ],
   "source": [
    "for row in frame.values.tolist():\n",
    "    Borough, Neighborhood, Latitude, Longitude=row\n",
    "    venues = get_venues(Latitude,Longitude)\n",
    "    indian_restaurants=venues[venues['Category']=='Indian Restaurant']   \n",
    "    print('(',count,'/',len(frame),')','Indian Restaurants in '+Neighborhood+', '+Borough+':'+str(len(indian_restaurants)))\n",
    "    print(row)\n",
    "    for resturant_detail in indian_restaurants.values.tolist():\n",
    "        id, name , category=resturant_detail\n",
    "        indian_rest = indian_rest.append({'Borough': Borough,\n",
    "                                                'Neighborhood': Neighborhood, \n",
    "                                                'ID': id,\n",
    "                                                'Name' : name\n",
    "                                               }, ignore_index=True)\n",
    "    count+=1"
   ]
  },
  {
   "cell_type": "code",
   "execution_count": 25,
   "metadata": {},
   "outputs": [],
   "source": [
    "indian_rest.to_excel(r'D:\\Vaishali\\Data\\IndianRestaurants.xlsx', index=False)"
   ]
  },
  {
   "cell_type": "markdown",
   "metadata": {},
   "source": [
    "##### List of Indian Restaurants in Toronto:"
   ]
  },
  {
   "cell_type": "code",
   "execution_count": 26,
   "metadata": {},
   "outputs": [
    {
     "data": {
      "text/html": [
       "<div>\n",
       "<style scoped>\n",
       "    .dataframe tbody tr th:only-of-type {\n",
       "        vertical-align: middle;\n",
       "    }\n",
       "\n",
       "    .dataframe tbody tr th {\n",
       "        vertical-align: top;\n",
       "    }\n",
       "\n",
       "    .dataframe thead th {\n",
       "        text-align: right;\n",
       "    }\n",
       "</style>\n",
       "<table border=\"1\" class=\"dataframe\">\n",
       "  <thead>\n",
       "    <tr style=\"text-align: right;\">\n",
       "      <th></th>\n",
       "      <th>Borough</th>\n",
       "      <th>Neighborhood</th>\n",
       "      <th>ID</th>\n",
       "      <th>Name</th>\n",
       "    </tr>\n",
       "  </thead>\n",
       "  <tbody>\n",
       "    <tr>\n",
       "      <th>0</th>\n",
       "      <td>North York</td>\n",
       "      <td>Lawrence Manor, Lawrence Heights</td>\n",
       "      <td>4fca1f88e4b07c8e3ddb22bf</td>\n",
       "      <td>Amaya Express</td>\n",
       "    </tr>\n",
       "    <tr>\n",
       "      <th>1</th>\n",
       "      <td>Downtown Toronto</td>\n",
       "      <td>Berczy Park</td>\n",
       "      <td>526c649111d2200c3216dbc2</td>\n",
       "      <td>Bindia Indian Bistro</td>\n",
       "    </tr>\n",
       "    <tr>\n",
       "      <th>2</th>\n",
       "      <td>East York</td>\n",
       "      <td>Thorncliffe Park</td>\n",
       "      <td>4bed9f2fbac3c9b6ad93fee9</td>\n",
       "      <td>Hakka Garden</td>\n",
       "    </tr>\n",
       "    <tr>\n",
       "      <th>3</th>\n",
       "      <td>North York</td>\n",
       "      <td>Bedford Park, Lawrence Manor East</td>\n",
       "      <td>4d796616542ab1f75eb87c41</td>\n",
       "      <td>The Copper Chimney</td>\n",
       "    </tr>\n",
       "    <tr>\n",
       "      <th>4</th>\n",
       "      <td>Central Toronto</td>\n",
       "      <td>The Annex, North Midtown, Yorkville</td>\n",
       "      <td>4c62c59ce1621b8dd0332453</td>\n",
       "      <td>Roti Cuisine of India</td>\n",
       "    </tr>\n",
       "    <tr>\n",
       "      <th>5</th>\n",
       "      <td>Mississauga</td>\n",
       "      <td>Enclave of L4W</td>\n",
       "      <td>4ad8a5a7f964a5203c1321e3</td>\n",
       "      <td>Little India Restaurant</td>\n",
       "    </tr>\n",
       "    <tr>\n",
       "      <th>6</th>\n",
       "      <td>Central Toronto</td>\n",
       "      <td>Davisville</td>\n",
       "      <td>5169d445e4b07de190b5c3d6</td>\n",
       "      <td>Marigold Indian Bistro</td>\n",
       "    </tr>\n",
       "    <tr>\n",
       "      <th>7</th>\n",
       "      <td>West Toronto</td>\n",
       "      <td>Runnymede, Swansea</td>\n",
       "      <td>525e1812498e2c14b4d80b8b</td>\n",
       "      <td>Bukhara indian cuisine</td>\n",
       "    </tr>\n",
       "    <tr>\n",
       "      <th>8</th>\n",
       "      <td>Downtown Toronto Stn A</td>\n",
       "      <td>Enclave of M5E</td>\n",
       "      <td>4ad8a5a7f964a5203c1321e3</td>\n",
       "      <td>Little India Restaurant</td>\n",
       "    </tr>\n",
       "    <tr>\n",
       "      <th>9</th>\n",
       "      <td>Downtown Toronto</td>\n",
       "      <td>St. James Town, Cabbagetown</td>\n",
       "      <td>4c8c21fdf0ce236ab28e15ef</td>\n",
       "      <td>Butter Chicken Factory</td>\n",
       "    </tr>\n",
       "    <tr>\n",
       "      <th>10</th>\n",
       "      <td>Downtown Toronto</td>\n",
       "      <td>Church and Wellesley</td>\n",
       "      <td>4bedf8b5e24d20a17b567214</td>\n",
       "      <td>Kothur Indian Cuisine</td>\n",
       "    </tr>\n",
       "    <tr>\n",
       "      <th>11</th>\n",
       "      <td>East Toronto Business</td>\n",
       "      <td>Enclave of M4L</td>\n",
       "      <td>4ad8a5a7f964a5203c1321e3</td>\n",
       "      <td>Little India Restaurant</td>\n",
       "    </tr>\n",
       "  </tbody>\n",
       "</table>\n",
       "</div>"
      ],
      "text/plain": [
       "                   Borough                         Neighborhood  \\\n",
       "0               North York     Lawrence Manor, Lawrence Heights   \n",
       "1         Downtown Toronto                          Berczy Park   \n",
       "2                East York                     Thorncliffe Park   \n",
       "3               North York    Bedford Park, Lawrence Manor East   \n",
       "4          Central Toronto  The Annex, North Midtown, Yorkville   \n",
       "5              Mississauga                       Enclave of L4W   \n",
       "6          Central Toronto                           Davisville   \n",
       "7             West Toronto                   Runnymede, Swansea   \n",
       "8   Downtown Toronto Stn A                       Enclave of M5E   \n",
       "9         Downtown Toronto          St. James Town, Cabbagetown   \n",
       "10        Downtown Toronto                 Church and Wellesley   \n",
       "11   East Toronto Business                       Enclave of M4L   \n",
       "\n",
       "                          ID                     Name  \n",
       "0   4fca1f88e4b07c8e3ddb22bf            Amaya Express  \n",
       "1   526c649111d2200c3216dbc2     Bindia Indian Bistro  \n",
       "2   4bed9f2fbac3c9b6ad93fee9             Hakka Garden  \n",
       "3   4d796616542ab1f75eb87c41       The Copper Chimney  \n",
       "4   4c62c59ce1621b8dd0332453    Roti Cuisine of India  \n",
       "5   4ad8a5a7f964a5203c1321e3  Little India Restaurant  \n",
       "6   5169d445e4b07de190b5c3d6   Marigold Indian Bistro  \n",
       "7   525e1812498e2c14b4d80b8b   Bukhara indian cuisine  \n",
       "8   4ad8a5a7f964a5203c1321e3  Little India Restaurant  \n",
       "9   4c8c21fdf0ce236ab28e15ef   Butter Chicken Factory  \n",
       "10  4bedf8b5e24d20a17b567214    Kothur Indian Cuisine  \n",
       "11  4ad8a5a7f964a5203c1321e3  Little India Restaurant  "
      ]
     },
     "execution_count": 26,
     "metadata": {},
     "output_type": "execute_result"
    }
   ],
   "source": [
    "indian_rest = pd.read_excel(r'D:\\Vaishali\\Data\\IndianRestaurants.xlsx')\n",
    "indian_rest"
   ]
  },
  {
   "cell_type": "code",
   "execution_count": 27,
   "metadata": {},
   "outputs": [
    {
     "data": {
      "text/plain": [
       "(12, 4)"
      ]
     },
     "execution_count": 27,
     "metadata": {},
     "output_type": "execute_result"
    }
   ],
   "source": [
    "indian_rest.shape"
   ]
  },
  {
   "cell_type": "markdown",
   "metadata": {},
   "source": [
    "#### Visualising Indian Restaurants per Borough:"
   ]
  },
  {
   "cell_type": "code",
   "execution_count": 47,
   "metadata": {},
   "outputs": [
    {
     "data": {
      "image/png": "[encoded data removed]",
      "text/plain": [
       "<Figure size 1080x576 with 1 Axes>"
      ]
     },
     "metadata": {
      "needs_background": "light"
     },
     "output_type": "display_data"
    }
   ],
   "source": [
    "indian_rest.groupby('Borough')['ID'].count().plot.bar(figsize=(15,8), color='#0A1054')\n",
    "plt.title('Indian Restaurants per Borough: Toronto', fontsize = 20)\n",
    "plt.xlabel('Borough', fontsize = 15)\n",
    "plt.ylabel('No. of Indian Restaurants', fontsize=15)\n",
    "plt.xticks(rotation = 90)\n",
    "plt.legend()\n",
    "plt.show()\n"
   ]
  },
  {
   "cell_type": "markdown",
   "metadata": {},
   "source": [
    "#### Visualising Indian Restaurants per Neighborhood: Toronto"
   ]
  },
  {
   "cell_type": "code",
   "execution_count": 48,
   "metadata": {},
   "outputs": [
    {
     "data": {
      "image/png": "[encoded data removed]",
      "text/plain": [
       "<Figure size 720x360 with 1 Axes>"
      ]
     },
     "metadata": {
      "needs_background": "light"
     },
     "output_type": "display_data"
    }
   ],
   "source": [
    "top = 5\n",
    "indian_rest.groupby('Neighborhood')['ID'].count().nlargest(top).plot.bar(figsize=(10,5), color='#0A1054')\n",
    "plt.title('Indian Restaurants per Neighborhood: Toronto', fontsize = 20)\n",
    "plt.xlabel('Neighborhood', fontsize = 15)\n",
    "plt.ylabel('No. of India Restaurants', fontsize=15)\n",
    "plt.xticks(rotation =90)\n",
    "plt.legend()\n",
    "plt.show()"
   ]
  },
  {
   "cell_type": "code",
   "execution_count": 49,
   "metadata": {},
   "outputs": [
    {
     "data": {
      "text/html": [
       "<div>\n",
       "<style scoped>\n",
       "    .dataframe tbody tr th:only-of-type {\n",
       "        vertical-align: middle;\n",
       "    }\n",
       "\n",
       "    .dataframe tbody tr th {\n",
       "        vertical-align: top;\n",
       "    }\n",
       "\n",
       "    .dataframe thead th {\n",
       "        text-align: right;\n",
       "    }\n",
       "</style>\n",
       "<table border=\"1\" class=\"dataframe\">\n",
       "  <thead>\n",
       "    <tr style=\"text-align: right;\">\n",
       "      <th></th>\n",
       "      <th>Borough</th>\n",
       "      <th>Neighborhood</th>\n",
       "      <th>ID</th>\n",
       "      <th>Name</th>\n",
       "    </tr>\n",
       "  </thead>\n",
       "  <tbody>\n",
       "    <tr>\n",
       "      <th>3</th>\n",
       "      <td>North York</td>\n",
       "      <td>Bedford Park, Lawrence Manor East</td>\n",
       "      <td>4d796616542ab1f75eb87c41</td>\n",
       "      <td>The Copper Chimney</td>\n",
       "    </tr>\n",
       "  </tbody>\n",
       "</table>\n",
       "</div>"
      ],
      "text/plain": [
       "      Borough                       Neighborhood                        ID  \\\n",
       "3  North York  Bedford Park, Lawrence Manor East  4d796616542ab1f75eb87c41   \n",
       "\n",
       "                 Name  \n",
       "3  The Copper Chimney  "
      ]
     },
     "execution_count": 49,
     "metadata": {},
     "output_type": "execute_result"
    }
   ],
   "source": [
    "indian_rest[indian_rest['Neighborhood']=='Bedford Park, Lawrence Manor East']"
   ]
  },
  {
   "cell_type": "markdown",
   "metadata": {},
   "source": [
    "##### Fetching Ratings, Likes & Tips of Indian Restaurants:"
   ]
  },
  {
   "cell_type": "code",
   "execution_count": 31,
   "metadata": {},
   "outputs": [
    {
     "name": "stdout",
     "output_type": "stream",
     "text": [
      "{'meta': {'code': 200, 'requestId': '61192c7b27d7bf5817f3fe76'}, 'response': {'venue': {'id': '4fca1f88e4b07c8e3ddb22bf', 'name': 'Amaya Express', 'contact': {}, 'location': {'address': '3401 Dufferin St.', 'crossStreet': 'In Yorkdale Mall Foodcourt', 'lat': 43.726163460557856, 'lng': -79.45209535764381, 'labeledLatLngs': [{'label': 'display', 'lat': 43.726163460557856, 'lng': -79.45209535764381}], 'postalCode': 'M6A 2T9', 'cc': 'CA', 'city': 'Toronto', 'state': 'ON', 'country': 'Canada', 'formattedAddress': ['3401 Dufferin St. (In Yorkdale Mall Foodcourt)', 'Toronto ON M6A 2T9', 'Canada']}, 'canonicalUrl': 'https://foursquare.com/v/amaya-express/4fca1f88e4b07c8e3ddb22bf', 'categories': [{'id': '4bf58dd8d48988d10f941735', 'name': 'Indian Restaurant', 'pluralName': 'Indian Restaurants', 'shortName': 'Indian', 'icon': {'prefix': 'https://ss3.4sqi.net/img/categories_v2/food/indian_', 'suffix': '.png'}, 'primary': True}], 'verified': False, 'stats': {'tipCount': 3}, 'price': {'tier': 2, 'message': 'Moderate', 'currency': '$'}, 'likes': {'count': 8, 'groups': [{'type': 'others', 'count': 8, 'items': [{'firstName': 'Roshan', 'lastName': 'N', 'countryCode': 'AE'}, {'firstName': 'Susan', 'lastName': 'K', 'countryCode': 'CA'}, {'firstName': 'Ava', 'lastName': 'R', 'countryCode': 'CA'}, {'firstName': 'Tyler', 'lastName': 'H', 'countryCode': 'CA'}]}], 'summary': '8 Likes'}, 'dislike': False, 'ok': False, 'rating': 6.3, 'ratingColor': 'FFC800', 'ratingSignals': 14, 'allowMenuUrlEdit': True, 'beenHere': {'count': 0, 'unconfirmedCount': 0, 'marked': False, 'lastCheckinExpiredAt': 0}, 'specials': {'count': 0, 'items': []}, 'photos': {'count': 10, 'groups': [{'type': 'venue', 'name': 'Venue photos', 'count': 10, 'items': [{'id': '518aa0a3498e2cf161ff770c', 'createdAt': 1368039587, 'source': {'name': 'Foursquare for Android', 'url': 'https://foursquare.com/download/#/android'}, 'prefix': 'https://fastly.4sqi.net/img/general/', 'suffix': '/46887178_KKREbx9QnfyGzThC3MzcKIlVA28AlTZzgw5bNm6T-pU.jpg', 'width': 720, 'height': 960, 'visibility': 'public'}]}]}, 'reasons': {'count': 0, 'items': []}, 'hereNow': {'count': 0, 'summary': 'Nobody here', 'groups': []}, 'createdAt': 1338646408, 'tips': {'count': 3, 'groups': [{'type': 'others', 'name': 'All tips', 'count': 3, 'items': [{'id': '5288f61711d2785261fd3844', 'createdAt': 1384707607, 'text': \"Real Indian experience!  Employees texting instead of serving you, no etiquette, and they don't say please or thank you!  The food is mediocre and over priced.  Should have gone to Booster Juice :/\", 'type': 'user', 'canonicalUrl': 'https://foursquare.com/item/5288f61711d2785261fd3844', 'lang': 'en', 'likes': {'count': 1, 'groups': [{'type': 'others', 'count': 1, 'items': [{'firstName': 'Susan', 'lastName': 'K', 'countryCode': 'CA'}]}], 'summary': '1 like'}, 'logView': True, 'agreeCount': 1, 'disagreeCount': 0, 'todo': {'count': 0}, 'user': {'firstName': 'The Real Odie', 'countryCode': 'CA'}}]}]}, 'shortUrl': 'http://4sq.com/K2umIM', 'timeZone': 'America/Toronto', 'listed': {'count': 1, 'groups': [{'type': 'others', 'name': 'Lists from other people', 'count': 1, 'items': [{'id': '50395b79e4b009738482ea30', 'name': 'Ontario, Canada', 'description': '', 'type': 'others', 'user': {'firstName': 'Linda', 'lastName': '?', 'countryCode': 'IT'}, 'editable': False, 'public': True, 'collaborative': False, 'url': '/malinconicmente/list/ontario-canada', 'canonicalUrl': 'https://foursquare.com/malinconicmente/list/ontario-canada', 'createdAt': 1345936249, 'updatedAt': 1406054235, 'followers': {'count': 7}, 'listItems': {'count': 187, 'items': [{'id': 'v4fca1f88e4b07c8e3ddb22bf', 'createdAt': 1345938485}]}}]}]}, 'seasonalHours': [], 'pageUpdates': {'count': 0, 'items': []}, 'inbox': {'count': 0, 'items': []}, 'parent': {'id': '4fca378ae4b053b8ae43ae65', 'name': 'Dine On 3', 'location': {'address': '3401 Dufferin St.', 'crossStreet': 'in Yorkdale Shopping Centre', 'lat': 43.725890608726935, 'lng': -79.452287937104, 'labeledLatLngs': [{'label': 'display', 'lat': 43.725890608726935, 'lng': -79.452287937104}], 'postalCode': 'M6A 2T9', 'cc': 'CA', 'city': 'Toronto', 'state': 'ON', 'country': 'Canada', 'formattedAddress': ['3401 Dufferin St. (in Yorkdale Shopping Centre)', 'Toronto ON M6A 2T9', 'Canada']}, 'categories': [{'id': '4bf58dd8d48988d120951735', 'name': 'Food Court', 'pluralName': 'Food Courts', 'shortName': 'Food Court', 'icon': {'prefix': 'https://ss3.4sqi.net/img/categories_v2/shops/food_foodcourt_', 'suffix': '.png'}, 'primary': True}]}, 'hierarchy': [{'name': 'Dine On 3', 'lang': 'en', 'id': '4fca378ae4b053b8ae43ae65', 'canonicalUrl': 'https://foursquare.com/v/dine-on-3/4fca378ae4b053b8ae43ae65'}, {'name': 'Yorkdale Shopping Centre', 'lang': 'en', 'id': '4ad4c062f964a52002f820e3', 'canonicalUrl': 'https://foursquare.com/v/yorkdale-shopping-centre/4ad4c062f964a52002f820e3'}], 'attributes': {'groups': [{'type': 'price', 'name': 'Price', 'summary': '$$', 'count': 1, 'items': [{'displayName': 'Price', 'displayValue': '$$', 'priceTier': 2}]}, {'type': 'payments', 'name': 'Credit Cards', 'summary': 'Credit Cards', 'count': 5, 'items': [{'displayName': 'Credit Cards', 'displayValue': 'Yes'}]}, {'type': 'outdoorSeating', 'name': 'Outdoor Seating', 'count': 1, 'items': [{'displayName': 'Outdoor Seating', 'displayValue': 'No'}]}]}, 'bestPhoto': {'id': '518aa0a3498e2cf161ff770c', 'createdAt': 1368039587, 'source': {'name': 'Foursquare for Android', 'url': 'https://foursquare.com/download/#/android'}, 'prefix': 'https://fastly.4sqi.net/img/general/', 'suffix': '/46887178_KKREbx9QnfyGzThC3MzcKIlVA28AlTZzgw5bNm6T-pU.jpg', 'width': 720, 'height': 960, 'visibility': 'public'}, 'colors': {'highlightColor': {'photoId': '518aa0a3498e2cf161ff770c', 'value': -3090232}, 'highlightTextColor': {'photoId': '518aa0a3498e2cf161ff770c', 'value': -16777216}, 'algoVersion': 3}}}}\n",
      "                         ID           Name  Likes  Rating  Tips\n",
      "0  4fca1f88e4b07c8e3ddb22bf  Amaya Express      8     6.3     3\n",
      "( 1 / 12 ) processed\n",
      "{'meta': {'code': 200, 'requestId': '61192c7c8994cf51fd8ca27f'}, 'response': {'venue': {'id': '526c649111d2200c3216dbc2', 'name': 'Bindia Indian Bistro', 'contact': {'twitter': 'bindiabistro'}, 'location': {'address': '16 Market Street', 'lat': 43.64855916613238, 'lng': -79.37181600953608, 'labeledLatLngs': [{'label': 'display', 'lat': 43.64855916613238, 'lng': -79.37181600953608}], 'cc': 'CA', 'city': 'Toronto', 'state': 'ON', 'country': 'Canada', 'formattedAddress': ['16 Market Street', 'Toronto ON', 'Canada']}, 'canonicalUrl': 'https://foursquare.com/bindiabistro', 'categories': [{'id': '4bf58dd8d48988d10f941735', 'name': 'Indian Restaurant', 'pluralName': 'Indian Restaurants', 'shortName': 'Indian', 'icon': {'prefix': 'https://ss3.4sqi.net/img/categories_v2/food/indian_', 'suffix': '.png'}, 'primary': True}], 'verified': True, 'stats': {'tipCount': 14}, 'price': {'tier': 2, 'message': 'Moderate', 'currency': '$'}, 'likes': {'count': 30, 'groups': [{'type': 'others', 'count': 30, 'items': []}], 'summary': '30 Likes'}, 'dislike': False, 'ok': False, 'rating': 7.3, 'ratingColor': 'C5DE35', 'ratingSignals': 49, 'allowMenuUrlEdit': True, 'beenHere': {'count': 0, 'unconfirmedCount': 0, 'marked': False, 'lastCheckinExpiredAt': 0}, 'specials': {'count': 0, 'items': []}, 'photos': {'count': 17, 'groups': [{'type': 'venue', 'name': 'Venue photos', 'count': 17, 'items': [{'id': '6109f31e51a6fb5e4561faf8', 'createdAt': 1628042014, 'source': {'name': 'Swarm for Android', 'url': 'https://www.swarmapp.com'}, 'prefix': 'https://fastly.4sqi.net/img/general/', 'suffix': '/68487631_tQkJOdhEfqLmsw33exg4YzrniQSnVt4oWx0rkflU5Ro.jpg', 'width': 898, 'height': 1597, 'visibility': 'public'}]}]}, 'venuePage': {'id': '125868782'}, 'reasons': {'count': 0, 'items': []}, 'description': 'Bindia opened its doors in October 2013, a high end bistro brings a modern approach to Indian cuisine without compromising the sumptuous flavors.', 'page': {'user': {'firstName': 'Bindia Indian Bistro', 'countryCode': 'CA', 'type': 'venuePage', 'venue': {'id': '526c649111d2200c3216dbc2'}, 'tips': {'count': 0}, 'lists': {'groups': [{'type': 'created', 'count': 2, 'items': []}]}, 'bio': ''}}, 'hereNow': {'count': 0, 'summary': 'Nobody here', 'groups': []}, 'createdAt': 1382835345, 'tips': {'count': 14, 'groups': [{'type': 'others', 'name': 'All tips', 'count': 14, 'items': [{'id': '53f4022411d2fa7d9bab1abc', 'createdAt': 1408500260, 'text': 'Palak paneer and the bharta (eggplant) are very flavourful. Medium spice has a nice kick to it.', 'type': 'user', 'canonicalUrl': 'https://foursquare.com/item/53f4022411d2fa7d9bab1abc', 'lang': 'en', 'likes': {'count': 1, 'groups': [{'type': 'others', 'count': 1, 'items': [{'firstName': 'Angela', 'lastName': 'N', 'countryCode': 'CA'}]}], 'summary': '1 like'}, 'logView': True, 'agreeCount': 1, 'disagreeCount': 0, 'todo': {'count': 0}, 'user': {'firstName': 'Connie', 'lastName': 'C', 'countryCode': 'CA'}, 'authorInteractionType': 'liked'}]}]}, 'shortUrl': 'http://4sq.com/17nmP5x', 'timeZone': 'America/Toronto', 'listed': {'count': 13, 'groups': [{'type': 'others', 'name': 'Lists from other people', 'count': 13, 'items': [{'id': '57f87a2c498e4f8847ba6ea2', 'name': 'Toronto', 'description': '🇨🇦', 'type': 'others', 'user': {'firstName': 'Zara', 'lastName': 'K', 'countryCode': 'GR'}, 'editable': False, 'public': True, 'collaborative': False, 'url': '/user/348475047/list/toronto', 'canonicalUrl': 'https://foursquare.com/user/348475047/list/toronto', 'createdAt': 1475901996, 'updatedAt': 1557074421, 'followers': {'count': 0}, 'listItems': {'count': 51, 'items': [{'id': 'v526c649111d2200c3216dbc2', 'createdAt': 1475903472}]}}, {'id': '5785775c498eb34b28d513d6', 'name': 'Toronto', 'description': '', 'type': 'others', 'user': {'firstName': 'Al Shaima', 'lastName': 'A', 'countryCode': 'SA'}, 'editable': False, 'public': True, 'collaborative': False, 'url': '/alshaimalmadani/list/toronto', 'canonicalUrl': 'https://foursquare.com/alshaimalmadani/list/toronto', 'createdAt': 1468364636, 'updatedAt': 1578307322, 'photo': {'id': '5a08f220fd9d736ba0030f0c', 'createdAt': 1510535712, 'prefix': 'https://fastly.4sqi.net/img/general/', 'suffix': '/103117959_e0EcD5In1ZjtrueqwAv1eHGDsloxiqyWY-mmu1AW3gg.jpg', 'width': 768, 'height': 1024, 'visibility': 'public'}, 'followers': {'count': 1}, 'listItems': {'count': 29, 'items': [{'id': 'v526c649111d2200c3216dbc2', 'createdAt': 1531227383}]}}, {'id': '5aee4deb0fe7a0002c2da16b', 'name': 'Toronto', 'description': '', 'type': 'others', 'user': {'firstName': 'Juliana', 'lastName': 'A', 'countryCode': 'CO'}, 'editable': False, 'public': True, 'collaborative': False, 'url': '/juadib/list/toronto', 'canonicalUrl': 'https://foursquare.com/juadib/list/toronto', 'createdAt': 1525566955, 'updatedAt': 1561349330, 'photo': {'id': '52a0e86f11d2fe31ff0b3f6a', 'createdAt': 1386276975, 'prefix': 'https://fastly.4sqi.net/img/general/', 'suffix': '/7058410_AJ_tgTFABd3g598RhWR-ZEPKxYonfhI-T7FYO9cHwcU.jpg', 'width': 540, 'height': 960, 'visibility': 'public'}, 'followers': {'count': 0}, 'listItems': {'count': 41, 'items': [{'id': 'v526c649111d2200c3216dbc2', 'createdAt': 1560743552}]}}, {'id': '4eb5cd89be7bfc284a7bc551', 'name': 'Toronto Restaurant Bucket List', 'description': '', 'type': 'others', 'user': {'firstName': 'Mark', 'lastName': 'C', 'countryCode': 'CA'}, 'editable': False, 'public': True, 'collaborative': False, 'url': '/markchuraman/list/toronto-restaurant-bucket-list', 'canonicalUrl': 'https://foursquare.com/markchuraman/list/toronto-restaurant-bucket-list', 'createdAt': 1320537481, 'updatedAt': 1409549725, 'followers': {'count': 32}, 'listItems': {'count': 110, 'items': [{'id': 'v526c649111d2200c3216dbc2', 'createdAt': 1404191692}]}}]}]}, 'hours': {'status': 'Closed until 5:00 PM', 'richStatus': {'entities': [], 'text': 'Closed until 5:00 PM'}, 'isOpen': False, 'isLocalHoliday': False, 'dayData': [], 'timeframes': [{'days': 'Mon–Thu', 'open': [{'renderedTime': '11:30 AM–2:30 PM'}, {'renderedTime': '5:00 PM–9:30 PM'}], 'segments': []}, {'days': 'Fri–Sat', 'open': [{'renderedTime': '11:30 AM–2:30 PM'}, {'renderedTime': '5:00 PM–10:30 PM'}], 'segments': []}, {'days': 'Sun', 'includesToday': True, 'open': [{'renderedTime': '5:00 PM–9:30 PM'}], 'segments': []}]}, 'popular': {'isOpen': False, 'isLocalHoliday': False, 'timeframes': [{'days': 'Today', 'includesToday': True, 'open': [{'renderedTime': 'Noon–2:00 PM'}, {'renderedTime': '5:00 PM–9:00 PM'}], 'segments': []}, {'days': 'Mon', 'open': [{'renderedTime': '11:00 AM–1:00 PM'}, {'renderedTime': '7:00 PM–10:00 PM'}], 'segments': []}, {'days': 'Tue', 'open': [{'renderedTime': 'Noon–10:00 PM'}], 'segments': []}, {'days': 'Wed', 'open': [{'renderedTime': 'Noon–1:00 PM'}, {'renderedTime': '5:00 PM–9:00 PM'}], 'segments': []}, {'days': 'Thu', 'open': [{'renderedTime': '11:00 AM–3:00 PM'}, {'renderedTime': '7:00 PM–10:00 PM'}], 'segments': []}, {'days': 'Fri', 'open': [{'renderedTime': '11:00 AM–2:00 PM'}, {'renderedTime': '4:00 PM–9:00 PM'}], 'segments': []}, {'days': 'Sat', 'open': [{'renderedTime': 'Noon–11:00 PM'}], 'segments': []}]}, 'seasonalHours': [], 'defaultHours': {'status': 'Closed until 5:00 PM', 'richStatus': {'entities': [], 'text': 'Closed until 5:00 PM'}, 'isOpen': False, 'isLocalHoliday': False, 'dayData': [], 'timeframes': [{'days': 'Mon–Thu', 'open': [{'renderedTime': '11:30 AM–2:30 PM'}, {'renderedTime': '5:00 PM–9:30 PM'}], 'segments': []}, {'days': 'Fri–Sat', 'open': [{'renderedTime': '11:30 AM–2:30 PM'}, {'renderedTime': '5:00 PM–10:30 PM'}], 'segments': []}, {'days': 'Sun', 'includesToday': True, 'open': [{'renderedTime': '5:00 PM–9:30 PM'}], 'segments': []}]}, 'pageUpdates': {'count': 0, 'items': []}, 'inbox': {'count': 0, 'items': []}, 'attributes': {'groups': [{'type': 'price', 'name': 'Price', 'summary': '$$', 'count': 1, 'items': [{'displayName': 'Price', 'displayValue': '$$', 'priceTier': 2}]}, {'type': 'payments', 'name': 'Credit Cards', 'summary': 'Credit Cards', 'count': 5, 'items': [{'displayName': 'Credit Cards', 'displayValue': 'Yes'}]}, {'type': 'outdoorSeating', 'name': 'Outdoor Seating', 'summary': 'Outdoor Seating', 'count': 1, 'items': [{'displayName': 'Outdoor Seating', 'displayValue': 'Yes'}]}, {'type': 'wifi', 'name': 'Wi-Fi', 'summary': 'Wi-Fi', 'count': 1, 'items': [{'displayName': 'Wi-Fi', 'displayValue': 'Yes'}]}, {'type': 'serves', 'name': 'Menus', 'summary': 'Dessert', 'count': 8, 'items': [{'displayName': 'Dessert', 'displayValue': 'Dessert'}]}, {'type': 'drinks', 'name': 'Drinks', 'summary': 'Full Bar & Cocktails', 'count': 5, 'items': [{'displayName': 'Full Bar', 'displayValue': 'Full Bar'}, {'displayName': 'Cocktails', 'displayValue': 'Cocktails'}]}]}, 'bestPhoto': {'id': '6109f31e51a6fb5e4561faf8', 'createdAt': 1628042014, 'source': {'name': 'Swarm for Android', 'url': 'https://www.swarmapp.com'}, 'prefix': 'https://fastly.4sqi.net/img/general/', 'suffix': '/68487631_tQkJOdhEfqLmsw33exg4YzrniQSnVt4oWx0rkflU5Ro.jpg', 'width': 898, 'height': 1597, 'visibility': 'public'}}}}\n",
      "                         ID                  Name  Likes  Rating  Tips\n",
      "0  526c649111d2200c3216dbc2  Bindia Indian Bistro     30     7.3    14\n",
      "( 2 / 12 ) processed\n"
     ]
    },
    {
     "name": "stdout",
     "output_type": "stream",
     "text": [
      "{'meta': {'code': 200, 'requestId': '61192c7c48f0cd013ac31bb3'}, 'response': {'venue': {'id': '4bed9f2fbac3c9b6ad93fee9', 'name': 'Hakka Garden', 'contact': {}, 'location': {'address': '25 Overlea Blvd. Unit 7', 'lat': 43.704578351261326, 'lng': -79.34977027417523, 'labeledLatLngs': [{'label': 'display', 'lat': 43.704578351261326, 'lng': -79.34977027417523}], 'cc': 'CA', 'city': 'Toronto', 'state': 'ON', 'country': 'Canada', 'formattedAddress': ['25 Overlea Blvd. Unit 7', 'Toronto ON', 'Canada']}, 'canonicalUrl': 'https://foursquare.com/v/hakka-garden/4bed9f2fbac3c9b6ad93fee9', 'categories': [{'id': '4bf58dd8d48988d10f941735', 'name': 'Indian Restaurant', 'pluralName': 'Indian Restaurants', 'shortName': 'Indian', 'icon': {'prefix': 'https://ss3.4sqi.net/img/categories_v2/food/indian_', 'suffix': '.png'}, 'primary': True}], 'verified': False, 'stats': {'tipCount': 12}, 'price': {'tier': 2, 'message': 'Moderate', 'currency': '$'}, 'likes': {'count': 9, 'groups': [{'type': 'others', 'count': 9, 'items': [{'firstName': 'Suneet', 'lastName': 'K', 'countryCode': 'CA'}, {'firstName': 'Anil', 'lastName': 'W', 'countryCode': 'CA'}, {'firstName': 'Farz', 'countryCode': 'CA'}, {'firstName': 'Faradila', 'lastName': 'Z', 'countryCode': 'MY'}]}], 'summary': '9 Likes'}, 'dislike': False, 'ok': False, 'rating': 6.3, 'ratingColor': 'FFC800', 'ratingSignals': 16, 'allowMenuUrlEdit': True, 'beenHere': {'count': 0, 'unconfirmedCount': 0, 'marked': False, 'lastCheckinExpiredAt': 0}, 'specials': {'count': 0, 'items': []}, 'photos': {'count': 17, 'groups': [{'type': 'venue', 'name': 'Venue photos', 'count': 17, 'items': [{'id': '5086cbc6e4b08b8915325458', 'createdAt': 1351011270, 'source': {'name': 'Foursquare for iOS', 'url': 'https://foursquare.com/download/#/iphone'}, 'prefix': 'https://fastly.4sqi.net/img/general/', 'suffix': '/9447341_7jkAmZZXQdxuImjdg3ovbTNUjAVv3qaB2WmlTna9Tgs.jpg', 'width': 540, 'height': 720, 'visibility': 'public'}]}]}, 'reasons': {'count': 0, 'items': []}, 'hereNow': {'count': 0, 'summary': 'Nobody here', 'groups': []}, 'createdAt': 1273863983, 'tips': {'count': 12, 'groups': [{'type': 'others', 'name': 'All tips', 'count': 12, 'items': [{'id': '525b3c99498e76781acd3d7d', 'createdAt': 1381711001, 'text': 'If you can handle the heat, get the spicy chicken!', 'type': 'user', 'canonicalUrl': 'https://foursquare.com/item/525b3c99498e76781acd3d7d', 'photo': {'id': '525b3c9b11d296265647a4ef', 'createdAt': 1381711003, 'source': {'name': 'Foursquare for iOS', 'url': 'https://foursquare.com/download/#/iphone'}, 'prefix': 'https://fastly.4sqi.net/img/general/', 'suffix': '/877172_VB6a_Ss1axInJPiYrKTVadSRayAC1OKeWHNq_8lD8LM.jpg', 'width': 720, 'height': 960, 'visibility': 'public'}, 'photourl': 'https://fastly.4sqi.net/img/general/original/877172_VB6a_Ss1axInJPiYrKTVadSRayAC1OKeWHNq_8lD8LM.jpg', 'lang': 'en', 'likes': {'count': 1, 'groups': [{'type': 'others', 'count': 1, 'items': [{'firstName': 'Sabira', 'lastName': 'S', 'countryCode': 'CA'}]}], 'summary': '1 like'}, 'logView': True, 'agreeCount': 2, 'disagreeCount': 0, 'todo': {'count': 0}, 'user': {'firstName': 'Richard', 'lastName': 'G', 'countryCode': 'CA'}}]}]}, 'shortUrl': 'http://4sq.com/cbs6X2', 'timeZone': 'America/Toronto', 'listed': {'count': 4, 'groups': [{'type': 'others', 'name': 'Lists from other people', 'count': 4, 'items': [{'id': '508d64e0e4b0953c41b9c1e8', 'name': 'Toronto Foodie List', 'description': '', 'type': 'others', 'user': {'firstName': 'Jerome', 'lastName': 'J', 'countryCode': 'CA'}, 'editable': False, 'public': True, 'collaborative': False, 'url': '/trancenationca/list/toronto-foodie-list', 'canonicalUrl': 'https://foursquare.com/trancenationca/list/toronto-foodie-list', 'createdAt': 1351443680, 'updatedAt': 1369259661, 'photo': {'id': '50746d42e4b011f181c2cfc5', 'createdAt': 1349807426, 'prefix': 'https://fastly.4sqi.net/img/general/', 'suffix': '/9447341_jPqNR5fBeSNNMhUADE8Fx0d10Qi7pyK6_IiLnvI7JA8.jpg', 'width': 540, 'height': 720, 'visibility': 'public'}, 'followers': {'count': 2}, 'listItems': {'count': 11, 'items': [{'id': 't4ed3bb9f722e01c5863acfa1', 'createdAt': 1351443720, 'photo': {'id': '5086cbc6e4b08b8915325458', 'createdAt': 1351011270, 'prefix': 'https://fastly.4sqi.net/img/general/', 'suffix': '/9447341_7jkAmZZXQdxuImjdg3ovbTNUjAVv3qaB2WmlTna9Tgs.jpg', 'width': 540, 'height': 720, 'visibility': 'public'}}]}}, {'id': '5afef95182a75038da6608e1', 'name': 'Best Hakka', 'description': '', 'type': 'others', 'user': {'firstName': 'Elizabeth', 'lastName': 'V', 'countryCode': 'CA'}, 'editable': False, 'public': True, 'collaborative': False, 'url': '/emviolante/list/best-hakka', 'canonicalUrl': 'https://foursquare.com/emviolante/list/best-hakka', 'createdAt': 1526659409, 'updatedAt': 1620425884, 'followers': {'count': 0}, 'listItems': {'count': 10, 'items': [{'id': 'v4bed9f2fbac3c9b6ad93fee9', 'createdAt': 1526659584}]}}]}]}, 'seasonalHours': [], 'pageUpdates': {'count': 0, 'items': []}, 'inbox': {'count': 0, 'items': []}, 'attributes': {'groups': [{'type': 'price', 'name': 'Price', 'summary': '$$', 'count': 1, 'items': [{'displayName': 'Price', 'displayValue': '$$', 'priceTier': 2}]}, {'type': 'reservations', 'name': 'Reservations', 'summary': 'Reservations', 'count': 3, 'items': [{'displayName': 'Reservations', 'displayValue': 'Yes'}]}, {'type': 'payments', 'name': 'Credit Cards', 'summary': 'Credit Cards', 'count': 5, 'items': [{'displayName': 'Credit Cards', 'displayValue': 'Yes'}]}, {'type': 'outdoorSeating', 'name': 'Outdoor Seating', 'count': 1, 'items': [{'displayName': 'Outdoor Seating', 'displayValue': 'No'}]}]}, 'bestPhoto': {'id': '5086cbc6e4b08b8915325458', 'createdAt': 1351011270, 'source': {'name': 'Foursquare for iOS', 'url': 'https://foursquare.com/download/#/iphone'}, 'prefix': 'https://fastly.4sqi.net/img/general/', 'suffix': '/9447341_7jkAmZZXQdxuImjdg3ovbTNUjAVv3qaB2WmlTna9Tgs.jpg', 'width': 540, 'height': 720, 'visibility': 'public'}, 'colors': {'highlightColor': {'photoId': '5086cbc6e4b08b8915325458', 'value': -4671312}, 'highlightTextColor': {'photoId': '5086cbc6e4b08b8915325458', 'value': -16777216}, 'algoVersion': 3}}}}\n",
      "                         ID          Name  Likes  Rating  Tips\n",
      "0  4bed9f2fbac3c9b6ad93fee9  Hakka Garden      9     6.3    12\n",
      "( 3 / 12 ) processed\n",
      "{'meta': {'code': 200, 'requestId': '61192c7e628fec723f0d1290'}, 'response': {'venue': {'id': '4d796616542ab1f75eb87c41', 'name': 'The Copper Chimney', 'contact': {'phone': '6474362538', 'formattedPhone': '(647) 436-2538'}, 'location': {'address': '2050 Avenue Rd.', 'lat': 43.73619518432498, 'lng': -79.42027081330127, 'labeledLatLngs': [{'label': 'display', 'lat': 43.73619518432498, 'lng': -79.42027081330127}], 'postalCode': 'M5M 2A6', 'cc': 'CA', 'city': 'Toronto', 'state': 'ON', 'country': 'Canada', 'formattedAddress': ['2050 Avenue Rd.', 'Toronto ON M5M 2A6', 'Canada']}, 'canonicalUrl': 'https://foursquare.com/v/the-copper-chimney/4d796616542ab1f75eb87c41', 'categories': [{'id': '4bf58dd8d48988d10f941735', 'name': 'Indian Restaurant', 'pluralName': 'Indian Restaurants', 'shortName': 'Indian', 'icon': {'prefix': 'https://ss3.4sqi.net/img/categories_v2/food/indian_', 'suffix': '.png'}, 'primary': True}], 'verified': False, 'stats': {'tipCount': 15}, 'url': 'http://www.the-copper-chimney.com', 'price': {'tier': 2, 'message': 'Moderate', 'currency': '$'}, 'likes': {'count': 14, 'groups': [{'type': 'others', 'count': 14, 'items': []}], 'summary': '14 Likes'}, 'dislike': False, 'ok': False, 'rating': 7.3, 'ratingColor': 'C5DE35', 'ratingSignals': 27, 'allowMenuUrlEdit': True, 'beenHere': {'count': 0, 'unconfirmedCount': 0, 'marked': False, 'lastCheckinExpiredAt': 0}, 'specials': {'count': 0, 'items': []}, 'photos': {'count': 18, 'groups': [{'type': 'venue', 'name': 'Venue photos', 'count': 18, 'items': [{'id': '5cd8c4b14a7aae0039757bd9', 'createdAt': 1557710001, 'source': {'name': 'Swarm for iOS', 'url': 'https://www.swarmapp.com'}, 'prefix': 'https://fastly.4sqi.net/img/general/', 'suffix': '/125818476_Fl-zaTVZCKdOHGWn15dfOvx-0is3FzuXRyrwiZpb8p4.jpg', 'width': 1079, 'height': 1920, 'visibility': 'public'}]}]}, 'reasons': {'count': 0, 'items': []}, 'hereNow': {'count': 0, 'summary': 'Nobody here', 'groups': []}, 'createdAt': 1299801622, 'tips': {'count': 15, 'groups': [{'type': 'others', 'name': 'All tips', 'count': 15, 'items': [{'id': '4dc18cb190a09cb2037144f2', 'createdAt': 1304530097, 'text': 'Best Indian in North Toronto, food and value.', 'type': 'user', 'canonicalUrl': 'https://foursquare.com/item/4dc18cb190a09cb2037144f2', 'lang': 'en', 'likes': {'count': 2, 'groups': [{'type': 'others', 'count': 2, 'items': []}], 'summary': '2 likes'}, 'logView': True, 'agreeCount': 1, 'disagreeCount': 0, 'todo': {'count': 0}, 'user': {'firstName': 'Peter', 'lastName': 'C', 'countryCode': 'CA'}}]}]}, 'shortUrl': 'http://4sq.com/hexOWo', 'timeZone': 'America/Toronto', 'listed': {'count': 9, 'groups': [{'type': 'others', 'name': 'Lists from other people', 'count': 9, 'items': [{'id': '4e5463878130102d7e60b5f0', 'name': \"Guide to Toronto's best spots\", 'description': '', 'type': 'others', 'user': {'firstName': 'Brad', 'lastName': 'L', 'countryCode': 'CA'}, 'editable': False, 'public': True, 'collaborative': False, 'url': '/brxad/list/guide-to-torontos-best-spots', 'canonicalUrl': 'https://foursquare.com/brxad/list/guide-to-torontos-best-spots', 'createdAt': 1314153351, 'updatedAt': 1448411152, 'followers': {'count': 7}, 'listItems': {'count': 10, 'items': [{'id': 'v4d796616542ab1f75eb87c41', 'createdAt': 1314153351}]}}, {'id': '50a05816e4b0ca91fc1a7b7c', 'name': 'Good food on Avenue Rd', 'description': '', 'type': 'others', 'user': {'firstName': 'Dale', 'lastName': 'D', 'countryCode': 'BE'}, 'editable': False, 'public': True, 'collaborative': False, 'url': '/dale_live/list/good-food-on-avenue-rd', 'canonicalUrl': 'https://foursquare.com/dale_live/list/good-food-on-avenue-rd', 'createdAt': 1352685590, 'updatedAt': 1368168034, 'followers': {'count': 2}, 'listItems': {'count': 6, 'items': [{'id': 'v4d796616542ab1f75eb87c41', 'createdAt': 1352685698}]}}, {'id': '50b92b9be4b0cdd4baf716a2', 'name': 'Toronto Food - Part 1', 'description': '', 'type': 'others', 'user': {'firstName': 'Denise', 'countryCode': 'CA'}, 'editable': False, 'public': True, 'collaborative': False, 'url': '/user/3875010/list/toronto-food--part-1', 'canonicalUrl': 'https://foursquare.com/user/3875010/list/toronto-food--part-1', 'createdAt': 1354312603, 'updatedAt': 1545517748, 'photo': {'id': '50893469e4b0aa994cbdacd7', 'createdAt': 1351169129, 'prefix': 'https://fastly.4sqi.net/img/general/', 'suffix': '/1589524_YV4qTFt0C_EjiNxnCmG8eglubmxOAUaN9oFFSfkXz7Q.jpg', 'width': 800, 'height': 800, 'visibility': 'public'}, 'followers': {'count': 15}, 'listItems': {'count': 242, 'items': [{'id': 'v4d796616542ab1f75eb87c41', 'createdAt': 1355202904}]}}, {'id': '56c63031498e3263ab8fbb21', 'name': \"Toronto Restaurants I've Been To\", 'description': '', 'type': 'others', 'user': {'firstName': 'Jennifer', 'lastName': 'B', 'countryCode': 'CA'}, 'editable': False, 'public': True, 'collaborative': False, 'url': '/kitcouchpotato/list/toronto-restaurants-ive-been-to', 'canonicalUrl': 'https://foursquare.com/kitcouchpotato/list/toronto-restaurants-ive-been-to', 'createdAt': 1455829041, 'updatedAt': 1457898065, 'photo': {'id': '52115e0411d2a599e3c0a622', 'createdAt': 1376869892, 'prefix': 'https://fastly.4sqi.net/img/general/', 'suffix': '/11640781_4pY_qX7KT_wS-tzstB8kXo9tiWmiQg5ezxhf80lnjzo.jpg', 'width': 960, 'height': 720, 'visibility': 'public'}, 'followers': {'count': 0}, 'listItems': {'count': 175, 'items': [{'id': 'v4d796616542ab1f75eb87c41', 'createdAt': 1455831439}]}}]}]}, 'seasonalHours': [], 'pageUpdates': {'count': 0, 'items': []}, 'inbox': {'count': 0, 'items': []}, 'attributes': {'groups': [{'type': 'price', 'name': 'Price', 'summary': '$$', 'count': 1, 'items': [{'displayName': 'Price', 'displayValue': '$$', 'priceTier': 2}]}, {'type': 'reservations', 'name': 'Reservations', 'summary': 'Reservations', 'count': 3, 'items': [{'displayName': 'Reservations', 'displayValue': 'Yes'}]}, {'type': 'outdoorSeating', 'name': 'Outdoor Seating', 'count': 1, 'items': [{'displayName': 'Outdoor Seating', 'displayValue': 'No'}]}, {'type': 'drinks', 'name': 'Drinks', 'summary': 'Cocktails', 'count': 5, 'items': [{'displayName': 'Cocktails', 'displayValue': 'Cocktails'}]}]}, 'bestPhoto': {'id': '5cd8c4b14a7aae0039757bd9', 'createdAt': 1557710001, 'source': {'name': 'Swarm for iOS', 'url': 'https://www.swarmapp.com'}, 'prefix': 'https://fastly.4sqi.net/img/general/', 'suffix': '/125818476_Fl-zaTVZCKdOHGWn15dfOvx-0is3FzuXRyrwiZpb8p4.jpg', 'width': 1079, 'height': 1920, 'visibility': 'public'}, 'colors': {'highlightColor': {'photoId': '5cd8c4b14a7aae0039757bd9', 'value': -14678016}, 'highlightTextColor': {'photoId': '5cd8c4b14a7aae0039757bd9', 'value': -1}, 'algoVersion': 3}}}}\n",
      "                         ID                Name  Likes  Rating  Tips\n",
      "0  4d796616542ab1f75eb87c41  The Copper Chimney     14     7.3    15\n",
      "( 4 / 12 ) processed\n"
     ]
    },
    {
     "name": "stdout",
     "output_type": "stream",
     "text": [
      "{'meta': {'code': 200, 'requestId': '61192c7f31a83047e2927a76'}, 'response': {'venue': {'id': '4c62c59ce1621b8dd0332453', 'name': 'Roti Cuisine of India', 'contact': {'phone': '4169689366', 'formattedPhone': '(416) 968-9366'}, 'location': {'address': '308 Dupont St.', 'crossStreet': 'at Walmer Rd.', 'lat': 43.67461834990478, 'lng': -79.40824866273744, 'labeledLatLngs': [{'label': 'display', 'lat': 43.67461834990478, 'lng': -79.40824866273744}], 'postalCode': 'M5R 2X8', 'cc': 'CA', 'city': 'Toronto', 'state': 'ON', 'country': 'Canada', 'formattedAddress': ['308 Dupont St. (at Walmer Rd.)', 'Toronto ON M5R 2X8', 'Canada']}, 'canonicalUrl': 'https://foursquare.com/v/roti-cuisine-of-india/4c62c59ce1621b8dd0332453', 'categories': [{'id': '4bf58dd8d48988d10f941735', 'name': 'Indian Restaurant', 'pluralName': 'Indian Restaurants', 'shortName': 'Indian', 'icon': {'prefix': 'https://ss3.4sqi.net/img/categories_v2/food/indian_', 'suffix': '.png'}, 'primary': True}], 'verified': False, 'stats': {'tipCount': 19}, 'url': 'http://www.roticuisineofindia.com', 'price': {'tier': 2, 'message': 'Moderate', 'currency': '$'}, 'hasMenu': True, 'likes': {'count': 39, 'groups': [{'type': 'others', 'count': 39, 'items': []}], 'summary': '39 Likes'}, 'dislike': False, 'ok': False, 'rating': 8.4, 'ratingColor': '73CF42', 'ratingSignals': 55, 'menu': {'type': 'Menu', 'label': 'Menu', 'anchor': 'View Menu', 'url': 'https://foursquare.com/v/roti-cuisine-of-india/4c62c59ce1621b8dd0332453/menu', 'mobileUrl': 'https://foursquare.com/v/4c62c59ce1621b8dd0332453/device_menu'}, 'allowMenuUrlEdit': True, 'beenHere': {'count': 0, 'unconfirmedCount': 0, 'marked': False, 'lastCheckinExpiredAt': 0}, 'specials': {'count': 0, 'items': []}, 'photos': {'count': 16, 'groups': [{'type': 'venue', 'name': 'Venue photos', 'count': 16, 'items': [{'id': '4f89cf63e4b01f95a346a7b5', 'createdAt': 1334431587, 'source': {'name': 'Foursquare for iOS', 'url': 'https://foursquare.com/download/#/iphone'}, 'prefix': 'https://fastly.4sqi.net/img/general/', 'suffix': '/L-mrULFMq5YSjJHSH_sL2aUROKEq6WwbNAa5wJXEWYc.jpg', 'width': 540, 'height': 720, 'visibility': 'public'}]}]}, 'reasons': {'count': 1, 'items': [{'summary': 'Lots of people like this place', 'type': 'general', 'reasonName': 'rawLikesReason'}]}, 'hereNow': {'count': 0, 'summary': 'Nobody here', 'groups': []}, 'createdAt': 1281541532, 'tips': {'count': 19, 'groups': [{'type': 'others', 'name': 'All tips', 'count': 19, 'items': [{'id': '528956e0498e5166e4d73233', 'createdAt': 1384732384, 'text': 'Love the butter chicken roti!  Try it!', 'type': 'user', 'canonicalUrl': 'https://foursquare.com/item/528956e0498e5166e4d73233', 'lang': 'en', 'likes': {'count': 2, 'groups': [{'type': 'others', 'count': 2, 'items': [{'firstName': 'Christopher', 'lastName': 'M', 'countryCode': 'CA'}, {'firstName': 'Felice', 'lastName': 'T', 'countryCode': 'GB'}]}], 'summary': '2 likes'}, 'logView': True, 'agreeCount': 2, 'disagreeCount': 0, 'todo': {'count': 0}, 'user': {'firstName': 'Susan', 'lastName': 'T', 'countryCode': 'CA'}, 'authorInteractionType': 'liked'}]}]}, 'shortUrl': 'http://4sq.com/b5w6Zx', 'timeZone': 'America/Toronto', 'listed': {'count': 30, 'groups': [{'type': 'others', 'name': 'Lists from other people', 'count': 30, 'items': [{'id': '4f183798e4b0333427a63f9c', 'name': 'Toronto', 'description': '', 'type': 'others', 'user': {'firstName': 'Hkling', 'countryCode': 'CA'}, 'editable': False, 'public': True, 'collaborative': False, 'url': '/user/1988380/list/toronto', 'canonicalUrl': 'https://foursquare.com/user/1988380/list/toronto', 'createdAt': 1326987160, 'updatedAt': 1626516357, 'photo': {'id': '528c664911d2932b228fba7a', 'createdAt': 1384932937, 'prefix': 'https://fastly.4sqi.net/img/general/', 'suffix': '/11859261_yYcVCvF8wBTAiny-lejUhvhobLPZo1NpeDQvwDc7gSU.jpg', 'width': 853, 'height': 720, 'visibility': 'public'}, 'followers': {'count': 12}, 'listItems': {'count': 178, 'items': [{'id': 'v4c62c59ce1621b8dd0332453', 'createdAt': 1459073390}]}}, {'id': '4fe4d304e4b0faa0b8af478b', 'name': 'My Toronto', 'description': '', 'type': 'others', 'user': {'firstName': 'Jyll', 'lastName': 'S', 'countryCode': 'CA'}, 'editable': False, 'public': True, 'collaborative': False, 'url': '/jyllsaskin/list/my-toronto', 'canonicalUrl': 'https://foursquare.com/jyllsaskin/list/my-toronto', 'createdAt': 1340396292, 'updatedAt': 1346703332, 'followers': {'count': 5}, 'listItems': {'count': 42, 'items': [{'id': 'v4c62c59ce1621b8dd0332453', 'createdAt': 1340396548}]}}, {'id': '50f6c4e7e4b017ec563506f4', 'name': 'West & East Indian Restaurants - GTA', 'description': '', 'type': 'others', 'user': {'firstName': 'Bruce', 'lastName': 'F', 'countryCode': 'CA'}, 'editable': False, 'public': True, 'collaborative': False, 'url': '/user/45835914/list/west--east-indian-restaurants--gta', 'canonicalUrl': 'https://foursquare.com/user/45835914/list/west--east-indian-restaurants--gta', 'createdAt': 1358349543, 'updatedAt': 1397188163, 'followers': {'count': 4}, 'listItems': {'count': 58, 'items': [{'id': 'v4c62c59ce1621b8dd0332453', 'createdAt': 1358355176}]}}, {'id': '513c9f0fe4b03c3b10f2a43b', 'name': 'Toronto Food - Part 3', 'description': '', 'type': 'others', 'user': {'firstName': 'Denise', 'countryCode': 'CA'}, 'editable': False, 'public': True, 'collaborative': False, 'url': '/user/3875010/list/toronto-food--part-3', 'canonicalUrl': 'https://foursquare.com/user/3875010/list/toronto-food--part-3', 'createdAt': 1362927375, 'updatedAt': 1545515058, 'photo': {'id': '5149e53fe4b076132fb463f9', 'createdAt': 1363797311, 'prefix': 'https://fastly.4sqi.net/img/general/', 'suffix': '/3560450_QdPQWmG55gx9wxkWCOGTTYzdFIhL-RdqFwRBxljJFgg.jpg', 'width': 717, 'height': 959, 'visibility': 'public'}, 'followers': {'count': 2}, 'listItems': {'count': 169, 'items': [{'id': 'v4c62c59ce1621b8dd0332453', 'createdAt': 1363406152}]}}]}]}, 'hours': {'status': 'Closed until Noon', 'richStatus': {'entities': [], 'text': 'Closed until Noon'}, 'isOpen': False, 'isLocalHoliday': False, 'dayData': [], 'timeframes': [{'days': 'Mon–Fri', 'open': [{'renderedTime': '11:30 AM–10:00 PM'}], 'segments': []}, {'days': 'Sat–Sun', 'includesToday': True, 'open': [{'renderedTime': 'Noon–10:00 PM'}], 'segments': []}]}, 'popular': {'isOpen': False, 'isLocalHoliday': False, 'timeframes': [{'days': 'Today', 'includesToday': True, 'open': [{'renderedTime': '1:00 PM–9:00 PM'}], 'segments': []}, {'days': 'Mon', 'open': [{'renderedTime': 'Noon–9:00 PM'}], 'segments': []}, {'days': 'Tue', 'open': [{'renderedTime': '11:00 AM–1:00 PM'}, {'renderedTime': '5:00 PM–10:00 PM'}], 'segments': []}, {'days': 'Wed', 'open': [{'renderedTime': '5:00 PM–10:00 PM'}], 'segments': []}, {'days': 'Thu', 'open': [{'renderedTime': '1:00 PM–10:00 PM'}], 'segments': []}, {'days': 'Fri', 'open': [{'renderedTime': 'Noon–2:00 PM'}, {'renderedTime': '5:00 PM–10:00 PM'}], 'segments': []}, {'days': 'Sat', 'open': [{'renderedTime': 'Noon–10:00 PM'}], 'segments': []}]}, 'seasonalHours': [], 'defaultHours': {'status': 'Closed until Noon', 'richStatus': {'entities': [], 'text': 'Closed until Noon'}, 'isOpen': False, 'isLocalHoliday': False, 'dayData': [], 'timeframes': [{'days': 'Mon–Fri', 'open': [{'renderedTime': '11:30 AM–10:00 PM'}], 'segments': []}, {'days': 'Sat–Sun', 'includesToday': True, 'open': [{'renderedTime': 'Noon–10:00 PM'}], 'segments': []}]}, 'pageUpdates': {'count': 0, 'items': []}, 'inbox': {'count': 0, 'items': []}, 'attributes': {'groups': [{'type': 'price', 'name': 'Price', 'summary': '$$', 'count': 1, 'items': [{'displayName': 'Price', 'displayValue': '$$', 'priceTier': 2}]}, {'type': 'reservations', 'name': 'Reservations', 'count': 3, 'items': [{'displayName': 'Reservations', 'displayValue': 'No'}]}, {'type': 'payments', 'name': 'Credit Cards', 'summary': 'No Credit Cards', 'count': 5, 'items': [{'displayName': 'Credit Cards', 'displayValue': 'No'}]}, {'type': 'outdoorSeating', 'name': 'Outdoor Seating', 'count': 1, 'items': [{'displayName': 'Outdoor Seating', 'displayValue': 'No'}]}, {'type': 'music', 'name': 'Music', 'summary': 'Music', 'count': 3, 'items': [{'displayName': 'Music', 'displayValue': 'Yes'}]}, {'type': 'diningOptions', 'name': 'Dining Options', 'summary': 'Take-out', 'count': 5, 'items': [{'displayName': 'Take-out', 'displayValue': 'Take-out'}]}, {'type': 'restroom', 'name': 'Restroom', 'summary': 'Restroom', 'count': 1, 'items': [{'displayName': 'Restroom', 'displayValue': 'Yes'}]}]}, 'bestPhoto': {'id': '4f89cf63e4b01f95a346a7b5', 'createdAt': 1334431587, 'source': {'name': 'Foursquare for iOS', 'url': 'https://foursquare.com/download/#/iphone'}, 'prefix': 'https://fastly.4sqi.net/img/general/', 'suffix': '/L-mrULFMq5YSjJHSH_sL2aUROKEq6WwbNAa5wJXEWYc.jpg', 'width': 540, 'height': 720, 'visibility': 'public'}, 'colors': {'highlightColor': {'photoId': '4f89cf63e4b01f95a346a7b5', 'value': -10987432}, 'highlightTextColor': {'photoId': '4f89cf63e4b01f95a346a7b5', 'value': -1}, 'algoVersion': 3}}}}\n",
      "                         ID                   Name  Likes  Rating  Tips\n",
      "0  4c62c59ce1621b8dd0332453  Roti Cuisine of India     39     8.4    19\n",
      "( 5 / 12 ) processed\n"
     ]
    },
    {
     "name": "stdout",
     "output_type": "stream",
     "text": [
      "{'meta': {'code': 200, 'requestId': '61192c8040ea3e1e45a86e37'}, 'response': {'venue': {'id': '4ad8a5a7f964a5203c1321e3', 'name': 'Little India Restaurant', 'contact': {'phone': '4162059836', 'formattedPhone': '(416) 205-9836', 'twitter': 'littleindiadine', 'facebook': '124259190949118', 'facebookUsername': 'LittleIndiaDine', 'facebookName': 'Little India Restaurant'}, 'location': {'address': '255 Queen St. W', 'crossStreet': 'Queen and University', 'lat': 43.65031880877208, 'lng': -79.38899760320798, 'labeledLatLngs': [{'label': 'display', 'lat': 43.65031880877208, 'lng': -79.38899760320798}], 'postalCode': 'M5V 1Z4', 'cc': 'CA', 'city': 'Toronto', 'state': 'ON', 'country': 'Canada', 'formattedAddress': ['255 Queen St. W (Queen and University)', 'Toronto ON M5V 1Z4', 'Canada']}, 'canonicalUrl': 'https://foursquare.com/littleindiadine', 'categories': [{'id': '4bf58dd8d48988d10f941735', 'name': 'Indian Restaurant', 'pluralName': 'Indian Restaurants', 'shortName': 'Indian', 'icon': {'prefix': 'https://ss3.4sqi.net/img/categories_v2/food/indian_', 'suffix': '.png'}, 'primary': True}, {'id': '4bf58dd8d48988d1d3941735', 'name': 'Vegetarian / Vegan Restaurant', 'pluralName': 'Vegetarian / Vegan Restaurants', 'shortName': 'Vegetarian / Vegan', 'icon': {'prefix': 'https://ss3.4sqi.net/img/categories_v2/food/vegetarian_', 'suffix': '.png'}}], 'verified': True, 'stats': {'tipCount': 73}, 'url': 'http://www.littleindia.ca/menu1.aspx', 'price': {'tier': 2, 'message': 'Moderate', 'currency': '$'}, 'hasMenu': True, 'likes': {'count': 127, 'groups': [{'type': 'others', 'count': 127, 'items': []}], 'summary': '127 Likes'}, 'dislike': False, 'ok': False, 'rating': 7.3, 'ratingColor': 'C5DE35', 'ratingSignals': 221, 'menu': {'type': 'Menu', 'label': 'Menu', 'anchor': 'View Menu', 'url': 'https://foursquare.com/littleindiadine/menu', 'mobileUrl': 'https://foursquare.com/v/4ad8a5a7f964a5203c1321e3/device_menu'}, 'allowMenuUrlEdit': True, 'beenHere': {'count': 0, 'unconfirmedCount': 0, 'marked': False, 'lastCheckinExpiredAt': 0}, 'specials': {'count': 0, 'items': []}, 'photos': {'count': 66, 'groups': [{'type': 'venue', 'name': 'Venue photos', 'count': 66, 'items': [{'id': '4f1b5812e4b0c74ef1d05e72', 'createdAt': 1327192082, 'source': {'name': 'Foursquare for Android', 'url': 'https://foursquare.com/download/#/android'}, 'prefix': 'https://fastly.4sqi.net/img/general/', 'suffix': '/R5JJ3VNCTDZN0OCZ0TWADNCSGTPAUQX3UZLMD43Q1I02SGXU.jpg', 'width': 720, 'height': 404, 'visibility': 'public'}]}]}, 'venuePage': {'id': '57793907'}, 'reasons': {'count': 1, 'items': [{'summary': 'Lots of people like this place', 'type': 'general', 'reasonName': 'rawLikesReason'}]}, 'description': \"Welcome to Little India Welcome to Little India, one of Toronto's most popular spots for the Thalies, tandoori's and curries of Northern India.\", 'storeId': 'info@littleindia.ca', 'page': {'user': {'firstName': 'Little India Restaurant', 'countryCode': 'CA', 'type': 'venuePage', 'venue': {'id': '4ad8a5a7f964a5203c1321e3'}, 'tips': {'count': 5}, 'lists': {'groups': [{'type': 'created', 'count': 2, 'items': []}]}, 'bio': ''}}, 'hereNow': {'count': 0, 'summary': 'Nobody here', 'groups': []}, 'createdAt': 1255712167, 'tips': {'count': 73, 'groups': [{'type': 'others', 'name': 'All tips', 'count': 73, 'items': [{'id': '4b3b86f870c603bb18ab8fb4', 'createdAt': 1262192376, 'text': 'Do the lunch buffet. All the flavors for only $11.  Delish!', 'type': 'user', 'canonicalUrl': 'https://foursquare.com/item/4b3b86f870c603bb18ab8fb4', 'lang': 'en', 'likes': {'count': 11, 'groups': [{'type': 'others', 'count': 11, 'items': []}], 'summary': '11 likes'}, 'logView': True, 'agreeCount': 3, 'disagreeCount': 0, 'todo': {'count': 3}, 'user': {'firstName': 'Kara', 'lastName': 'M', 'countryCode': 'CA'}}]}]}, 'shortUrl': 'http://4sq.com/7sta1J', 'timeZone': 'America/Toronto', 'listed': {'count': 93, 'groups': [{'type': 'others', 'name': 'Lists from other people', 'count': 93, 'items': [{'id': '515222a9e4b05955e63d4c7b', 'name': 'Toronto, Canada', 'description': '', 'type': 'others', 'user': {'firstName': 'Len', 'lastName': '❤', 'countryCode': 'US'}, 'editable': False, 'public': True, 'collaborative': False, 'url': '/user/17766136/list/toronto-canada', 'canonicalUrl': 'https://foursquare.com/user/17766136/list/toronto-canada', 'createdAt': 1364337321, 'updatedAt': 1379445585, 'photo': {'id': '50c55250e4b0a6a6505ca20a', 'createdAt': 1355108944, 'prefix': 'https://fastly.4sqi.net/img/general/', 'suffix': '/6768779_zdIciLMIyKFkVxXH2kuWe1G0cW3FqX8lVdh91QOXUcU.jpg', 'width': 612, 'height': 612, 'visibility': 'public'}, 'followers': {'count': 37}, 'listItems': {'count': 82, 'items': [{'id': 'v4ad8a5a7f964a5203c1321e3', 'createdAt': 1367981615, 'photo': {'id': '4ff317cbe4b0f0083b62b97f', 'createdAt': 1341331403, 'prefix': 'https://fastly.4sqi.net/img/general/', 'suffix': '/mzDDUKCCmO_XbxGuYm-wu4PGxM7ULnjaHWBctr_fRbg.jpg', 'width': 720, 'height': 540, 'visibility': 'public'}}]}}, {'id': '4e7ac27ce4cdee7588d08142', 'name': \"Restaurants I've Been To\", 'description': '', 'type': 'others', 'user': {'firstName': 'Judy', 'lastName': 'N', 'countryCode': 'CA'}, 'editable': False, 'public': True, 'collaborative': False, 'url': '/judskii/list/restaurants-ive-been-to', 'canonicalUrl': 'https://foursquare.com/judskii/list/restaurants-ive-been-to', 'createdAt': 1316668028, 'updatedAt': 1348287327, 'followers': {'count': 11}, 'listItems': {'count': 80, 'items': [{'id': 'v4ad8a5a7f964a5203c1321e3', 'createdAt': 1332435142}]}}, {'id': '4ea74df38231a8f6a16baa77', 'name': 'Movable Hype - \"The List\" part 1', 'description': 'Before moving to Toronto I started a list of places I wanted to see and things I wanted to do, and it keeps growing. Once in a while I get around to blogging about the places I strike off \"the list\"', 'type': 'others', 'user': {'firstName': 'Yuli', 'lastName': 'S', 'countryCode': 'CA'}, 'editable': False, 'public': True, 'collaborative': False, 'url': '/paperapostle/list/movable-hype--the-list-part-1', 'canonicalUrl': 'https://foursquare.com/paperapostle/list/movable-hype--the-list-part-1', 'createdAt': 1319587315, 'updatedAt': 1357174598, 'followers': {'count': 37}, 'listItems': {'count': 200, 'items': [{'id': 'v4ad8a5a7f964a5203c1321e3', 'createdAt': 1319589130}]}}, {'id': '50b92b9be4b0cdd4baf716a2', 'name': 'Toronto Food - Part 1', 'description': '', 'type': 'others', 'user': {'firstName': 'Denise', 'countryCode': 'CA'}, 'editable': False, 'public': True, 'collaborative': False, 'url': '/user/3875010/list/toronto-food--part-1', 'canonicalUrl': 'https://foursquare.com/user/3875010/list/toronto-food--part-1', 'createdAt': 1354312603, 'updatedAt': 1545517748, 'photo': {'id': '50893469e4b0aa994cbdacd7', 'createdAt': 1351169129, 'prefix': 'https://fastly.4sqi.net/img/general/', 'suffix': '/1589524_YV4qTFt0C_EjiNxnCmG8eglubmxOAUaN9oFFSfkXz7Q.jpg', 'width': 800, 'height': 800, 'visibility': 'public'}, 'followers': {'count': 15}, 'listItems': {'count': 242, 'items': [{'id': 'v4ad8a5a7f964a5203c1321e3', 'createdAt': 1355203590}]}}]}]}, 'hours': {'status': 'Closed until 11:30 AM', 'richStatus': {'entities': [], 'text': 'Closed until 11:30 AM'}, 'isOpen': False, 'isLocalHoliday': False, 'dayData': [], 'timeframes': [{'days': 'Mon, Sun', 'includesToday': True, 'open': [{'renderedTime': '11:30 AM–10:00 PM'}], 'segments': []}, {'days': 'Tue–Sat', 'open': [{'renderedTime': '11:30 AM–10:30 PM'}], 'segments': []}]}, 'popular': {'isOpen': False, 'isLocalHoliday': False, 'timeframes': [{'days': 'Today', 'includesToday': True, 'open': [{'renderedTime': 'Noon–10:00 PM'}], 'segments': []}, {'days': 'Mon', 'open': [{'renderedTime': 'Noon–10:00 PM'}], 'segments': []}, {'days': 'Tue', 'open': [{'renderedTime': 'Noon–3:00 PM'}, {'renderedTime': '5:00 PM–10:00 PM'}], 'segments': []}, {'days': 'Wed', 'open': [{'renderedTime': 'Noon–3:00 PM'}, {'renderedTime': '5:00 PM–9:00 PM'}], 'segments': []}, {'days': 'Thu', 'open': [{'renderedTime': 'Noon–2:00 PM'}, {'renderedTime': '6:00 PM–10:00 PM'}], 'segments': []}, {'days': 'Fri', 'open': [{'renderedTime': '11:00 AM–3:00 PM'}, {'renderedTime': '5:00 PM–11:00 PM'}], 'segments': []}, {'days': 'Sat', 'open': [{'renderedTime': 'Noon–10:00 PM'}], 'segments': []}]}, 'seasonalHours': [], 'defaultHours': {'status': 'Closed until 11:30 AM', 'richStatus': {'entities': [], 'text': 'Closed until 11:30 AM'}, 'isOpen': False, 'isLocalHoliday': False, 'dayData': [], 'timeframes': [{'days': 'Mon, Sun', 'includesToday': True, 'open': [{'renderedTime': '11:30 AM–10:00 PM'}], 'segments': []}, {'days': 'Tue–Sat', 'open': [{'renderedTime': '11:30 AM–10:30 PM'}], 'segments': []}]}, 'pageUpdates': {'count': 0, 'items': []}, 'inbox': {'count': 0, 'items': []}, 'attributes': {'groups': [{'type': 'price', 'name': 'Price', 'summary': '$$', 'count': 1, 'items': [{'displayName': 'Price', 'displayValue': '$$', 'priceTier': 2}]}, {'type': 'reservations', 'name': 'Reservations', 'summary': 'Reservations', 'count': 3, 'items': [{'displayName': 'Reservations', 'displayValue': 'Yes'}]}, {'type': 'payments', 'name': 'Credit Cards', 'summary': 'Credit Cards', 'count': 5, 'items': [{'displayName': 'Credit Cards', 'displayValue': 'Yes'}]}, {'type': 'outdoorSeating', 'name': 'Outdoor Seating', 'count': 1, 'items': [{'displayName': 'Outdoor Seating', 'displayValue': 'No'}]}, {'type': 'wifi', 'name': 'Wi-Fi', 'summary': 'Wi-Fi', 'count': 1, 'items': [{'displayName': 'Wi-Fi', 'displayValue': 'Yes'}]}, {'type': 'serves', 'name': 'Menus', 'summary': 'Dinner, Lunch & more', 'count': 8, 'items': [{'displayName': 'Brunch', 'displayValue': 'Brunch'}, {'displayName': 'Lunch', 'displayValue': 'Lunch'}, {'displayName': 'Dinner', 'displayValue': 'Dinner'}]}, {'type': 'drinks', 'name': 'Drinks', 'summary': 'Cocktails', 'count': 5, 'items': [{'displayName': 'Cocktails', 'displayValue': 'Cocktails'}]}]}, 'bestPhoto': {'id': '4f1b5812e4b0c74ef1d05e72', 'createdAt': 1327192082, 'source': {'name': 'Foursquare for Android', 'url': 'https://foursquare.com/download/#/android'}, 'prefix': 'https://fastly.4sqi.net/img/general/', 'suffix': '/R5JJ3VNCTDZN0OCZ0TWADNCSGTPAUQX3UZLMD43Q1I02SGXU.jpg', 'width': 720, 'height': 404, 'visibility': 'public'}, 'colors': {'highlightColor': {'photoId': '4f1b5812e4b0c74ef1d05e72', 'value': -13107200}, 'highlightTextColor': {'photoId': '4f1b5812e4b0c74ef1d05e72', 'value': -1}, 'algoVersion': 3}}}}\n",
      "                         ID                     Name  Likes  Rating  Tips\n",
      "0  4ad8a5a7f964a5203c1321e3  Little India Restaurant    127     7.3    73\n",
      "( 6 / 12 ) processed\n"
     ]
    },
    {
     "name": "stdout",
     "output_type": "stream",
     "text": [
      "{'meta': {'code': 200, 'requestId': '61192c81020fd840164da772'}, 'response': {'venue': {'id': '5169d445e4b07de190b5c3d6', 'name': 'Marigold Indian Bistro', 'contact': {'phone': '6477480220', 'formattedPhone': '(647) 748-0220', 'twitter': 'marigoldbistro', 'facebook': '528437103943169', 'facebookUsername': 'Marigoldbistro', 'facebookName': 'Marigold Indian Bistro'}, 'location': {'address': '552 Mount Pleasant Rd.', 'lat': 43.702880859375, 'lng': -79.38800811767578, 'labeledLatLngs': [{'label': 'display', 'lat': 43.702880859375, 'lng': -79.38800811767578}], 'cc': 'CA', 'city': 'Toronto', 'state': 'ON', 'country': 'Canada', 'formattedAddress': ['552 Mount Pleasant Rd.', 'Toronto ON', 'Canada']}, 'canonicalUrl': 'https://foursquare.com/marigoldbistro', 'categories': [{'id': '4bf58dd8d48988d10f941735', 'name': 'Indian Restaurant', 'pluralName': 'Indian Restaurants', 'shortName': 'Indian', 'icon': {'prefix': 'https://ss3.4sqi.net/img/categories_v2/food/indian_', 'suffix': '.png'}, 'primary': True}], 'verified': True, 'stats': {'tipCount': 11}, 'url': 'http://www.marigoldbistro.ca', 'price': {'tier': 2, 'message': 'Moderate', 'currency': '$'}, 'hasMenu': True, 'likes': {'count': 11, 'groups': [{'type': 'others', 'count': 11, 'items': []}], 'summary': '11 Likes'}, 'dislike': False, 'ok': False, 'rating': 8.0, 'ratingColor': '73CF42', 'ratingSignals': 16, 'menu': {'type': 'Menu', 'label': 'Menu', 'anchor': 'View Menu', 'url': 'http://www.marigoldbistro.ca/menus', 'mobileUrl': 'http://www.marigoldbistro.ca/menus', 'externalUrl': 'http://www.marigoldbistro.ca/menus'}, 'allowMenuUrlEdit': True, 'beenHere': {'count': 0, 'unconfirmedCount': 0, 'marked': False, 'lastCheckinExpiredAt': 0}, 'specials': {'count': 0, 'items': []}, 'photos': {'count': 13, 'groups': [{'type': 'venue', 'name': 'Venue photos', 'count': 13, 'items': [{'id': '5458d9dd498edc5b733bed00', 'createdAt': 1415109085, 'source': {'name': 'Foursquare Web', 'url': 'https://foursquare.com'}, 'prefix': 'https://fastly.4sqi.net/img/general/', 'suffix': '/98706662_HJ8jlDrkOKh6ncOU25LdBr7JrzqECJohVMqI8YE9OhU.jpg', 'width': 1600, 'height': 1200, 'visibility': 'public'}]}]}, 'venuePage': {'id': '98706662'}, 'reasons': {'count': 0, 'items': []}, 'storeId': '', 'page': {'user': {'firstName': 'Marigold Indian Bistro', 'countryCode': 'CA', 'type': 'venuePage', 'venue': {'id': '5169d445e4b07de190b5c3d6'}, 'tips': {'count': 3}, 'lists': {'groups': [{'type': 'created', 'count': 2, 'items': []}]}, 'bio': ''}}, 'hereNow': {'count': 0, 'summary': 'Nobody here', 'groups': []}, 'createdAt': 1365890117, 'tips': {'count': 11, 'groups': [{'type': 'others', 'name': 'All tips', 'count': 11, 'items': [{'id': '590cb9bc8194fc3de9375d3c', 'createdAt': 1494006204, 'text': 'Butter chicken was fantastic', 'type': 'user', 'canonicalUrl': 'https://foursquare.com/item/590cb9bc8194fc3de9375d3c', 'lang': 'en', 'likes': {'count': 0, 'groups': []}, 'logView': True, 'agreeCount': 0, 'disagreeCount': 0, 'todo': {'count': 0}, 'user': {'firstName': 'Alex', 'lastName': 'P', 'countryCode': 'CA'}, 'authorInteractionType': 'liked'}]}]}, 'shortUrl': 'http://4sq.com/10Zii4I', 'timeZone': 'America/Toronto', 'listed': {'count': 6, 'groups': [{'type': 'others', 'name': 'Lists from other people', 'count': 6, 'items': [{'id': '54e5436f498e1ffe9b1c4d03', 'name': 'Restaurants', 'description': '', 'type': 'others', 'user': {'firstName': 'Vandana', 'countryCode': 'CA'}, 'editable': False, 'public': True, 'collaborative': False, 'url': '/user/435700/list/restaurants', 'canonicalUrl': 'https://foursquare.com/user/435700/list/restaurants', 'createdAt': 1424311151, 'updatedAt': 1527215048, 'followers': {'count': 0}, 'listItems': {'count': 267, 'items': [{'id': 'v5169d445e4b07de190b5c3d6', 'createdAt': 1493431258}]}}, {'id': '5507108a498e2b32005a0feb', 'name': 'Toronto ON 🇨🇦', 'description': '', 'type': 'others', 'user': {'firstName': 'Nash', 'lastName': 'A', 'address': '', 'city': '', 'state': '', 'countryCode': 'SA'}, 'editable': False, 'public': True, 'collaborative': False, 'url': '/nash_als/list/toronto-on-', 'canonicalUrl': 'https://foursquare.com/nash_als/list/toronto-on-', 'createdAt': 1426526346, 'updatedAt': 1589949352, 'followers': {'count': 0}, 'listItems': {'count': 43, 'items': [{'id': 'v5169d445e4b07de190b5c3d6', 'createdAt': 1426528446}]}}, {'id': '54bad4ae498e16142b546c15', 'name': 'Toronto', 'description': '', 'type': 'others', 'user': {'firstName': 'Andre', 'lastName': 'L', 'countryCode': 'HK'}, 'editable': False, 'public': True, 'collaborative': False, 'url': '/z3frog/list/toronto', 'canonicalUrl': 'https://foursquare.com/z3frog/list/toronto', 'createdAt': 1421530286, 'updatedAt': 1570283424, 'photo': {'id': '50d53a0de4b047bbfba9185f', 'createdAt': 1356151309, 'prefix': 'https://fastly.4sqi.net/img/general/', 'suffix': '/626568_mVJ8E4e6BUBVP1XqxmlWY0qt0IQpjv2kmj4Y2vygguo.jpg', 'width': 612, 'height': 612, 'visibility': 'public'}, 'followers': {'count': 0}, 'listItems': {'count': 101, 'items': [{'id': 'v5169d445e4b07de190b5c3d6', 'createdAt': 1529009476}]}}, {'id': '5e24b74ed5de840006d81b34', 'name': 'places to go', 'description': '', 'type': 'others', 'user': {'firstName': 'Amber', 'lastName': 'M', 'countryCode': 'CA'}, 'editable': False, 'public': True, 'collaborative': False, 'url': '/user/558104098/list/places-to-go', 'canonicalUrl': 'https://foursquare.com/user/558104098/list/places-to-go', 'createdAt': 1579464526, 'updatedAt': 1579464655, 'photo': {'id': '58a44384739d851310362d3b', 'createdAt': 1487160196, 'prefix': 'https://fastly.4sqi.net/img/general/', 'suffix': '/39258629_miMUtZY1LECiXi9Rkruv8MBGTGQctPWS8RVFx9pGb_M.jpg', 'width': 1440, 'height': 1920, 'visibility': 'public'}, 'followers': {'count': 0}, 'listItems': {'count': 6, 'items': [{'id': 'v5169d445e4b07de190b5c3d6', 'createdAt': 1579464526, 'photo': {'id': '58a44384739d851310362d3b', 'createdAt': 1487160196, 'prefix': 'https://fastly.4sqi.net/img/general/', 'suffix': '/39258629_miMUtZY1LECiXi9Rkruv8MBGTGQctPWS8RVFx9pGb_M.jpg', 'width': 1440, 'height': 1920, 'visibility': 'public'}}]}}]}]}, 'hours': {'status': 'Closed until 5:00 PM', 'richStatus': {'entities': [], 'text': 'Closed until 5:00 PM'}, 'isOpen': False, 'isLocalHoliday': False, 'dayData': [], 'timeframes': [{'days': 'Mon–Thu, Sun', 'includesToday': True, 'open': [{'renderedTime': '5:00 PM–10:00 PM'}], 'segments': []}, {'days': 'Fri–Sat', 'open': [{'renderedTime': '5:00 PM–11:00 PM'}], 'segments': []}]}, 'seasonalHours': [], 'defaultHours': {'status': 'Closed until 5:00 PM', 'richStatus': {'entities': [], 'text': 'Closed until 5:00 PM'}, 'isOpen': False, 'isLocalHoliday': False, 'dayData': [], 'timeframes': [{'days': 'Mon–Thu, Sun', 'includesToday': True, 'open': [{'renderedTime': '5:00 PM–10:00 PM'}], 'segments': []}, {'days': 'Fri–Sat', 'open': [{'renderedTime': '5:00 PM–11:00 PM'}], 'segments': []}]}, 'pageUpdates': {'count': 0, 'items': []}, 'inbox': {'count': 0, 'items': []}, 'attributes': {'groups': [{'type': 'price', 'name': 'Price', 'summary': '$$', 'count': 1, 'items': [{'displayName': 'Price', 'displayValue': '$$', 'priceTier': 2}]}, {'type': 'reservations', 'name': 'Reservations', 'summary': 'Reservations', 'count': 3, 'items': [{'displayName': 'Reservations', 'displayValue': 'Yes'}]}, {'type': 'payments', 'name': 'Credit Cards', 'summary': 'Credit Cards', 'count': 5, 'items': [{'displayName': 'Credit Cards', 'displayValue': 'Yes (incl. American Express & MasterCard)'}]}, {'type': 'outdoorSeating', 'name': 'Outdoor Seating', 'count': 1, 'items': [{'displayName': 'Outdoor Seating', 'displayValue': 'No'}]}, {'type': 'music', 'name': 'Music', 'summary': 'Music', 'count': 3, 'items': [{'displayName': 'Music', 'displayValue': 'Yes'}]}, {'type': 'wifi', 'name': 'Wi-Fi', 'summary': 'Free Wi-Fi', 'count': 1, 'items': [{'displayName': 'Wi-Fi', 'displayValue': 'Free'}]}, {'type': 'serves', 'name': 'Menus', 'summary': 'Dinner', 'count': 8, 'items': [{'displayName': 'Dinner', 'displayValue': 'Dinner'}]}, {'type': 'drinks', 'name': 'Drinks', 'summary': 'Full Bar', 'count': 5, 'items': [{'displayName': 'Full Bar', 'displayValue': 'Full Bar'}]}, {'type': 'parking', 'name': 'Parking', 'summary': 'Parking', 'count': 5, 'items': [{'displayName': 'Parking', 'displayValue': 'Yes'}]}]}, 'bestPhoto': {'id': '5458d9dd498edc5b733bed00', 'createdAt': 1415109085, 'source': {'name': 'Foursquare Web', 'url': 'https://foursquare.com'}, 'prefix': 'https://fastly.4sqi.net/img/general/', 'suffix': '/98706662_HJ8jlDrkOKh6ncOU25LdBr7JrzqECJohVMqI8YE9OhU.jpg', 'width': 1600, 'height': 1200, 'visibility': 'public'}, 'colors': {'highlightColor': {'photoId': '5458d9dd498edc5b733bed00', 'value': -2574216}, 'highlightTextColor': {'photoId': '5458d9dd498edc5b733bed00', 'value': -16777216}, 'algoVersion': 3}}}}\n",
      "                         ID                    Name  Likes  Rating  Tips\n",
      "0  5169d445e4b07de190b5c3d6  Marigold Indian Bistro     11     8.0    11\n",
      "( 7 / 12 ) processed\n"
     ]
    },
    {
     "name": "stdout",
     "output_type": "stream",
     "text": [
      "{'meta': {'code': 200, 'requestId': '61192c82ab8b7b6829d03b64'}, 'response': {'venue': {'id': '525e1812498e2c14b4d80b8b', 'name': 'Bukhara indian cuisine', 'contact': {'phone': '4165515199', 'formattedPhone': '(416) 551-5199'}, 'location': {'address': '2241A Bloor Street West', 'crossStreet': 'Runnymede & Bloor', 'lat': 43.65110529992475, 'lng': -79.47710362509072, 'labeledLatLngs': [{'label': 'display', 'lat': 43.65110529992475, 'lng': -79.47710362509072}], 'postalCode': 'M6S 1N7', 'cc': 'CA', 'city': 'Toronto', 'state': 'ON', 'country': 'Canada', 'formattedAddress': ['2241A Bloor Street West (Runnymede & Bloor)', 'Toronto ON M6S 1N7', 'Canada']}, 'canonicalUrl': 'https://foursquare.com/v/bukhara-indian-cuisine/525e1812498e2c14b4d80b8b', 'categories': [{'id': '4bf58dd8d48988d10f941735', 'name': 'Indian Restaurant', 'pluralName': 'Indian Restaurants', 'shortName': 'Indian', 'icon': {'prefix': 'https://ss3.4sqi.net/img/categories_v2/food/indian_', 'suffix': '.png'}, 'primary': True}], 'verified': False, 'stats': {'tipCount': 3}, 'price': {'tier': 2, 'message': 'Moderate', 'currency': '$'}, 'likes': {'count': 6, 'groups': [{'type': 'others', 'count': 6, 'items': [{'firstName': 'Barry', 'lastName': 'M', 'countryCode': 'GB'}, {'firstName': 'R', 'lastName': 'R', 'countryCode': 'CA'}, {'firstName': 'Mo', 'countryCode': 'CA'}, {'firstName': 'Dharini', 'countryCode': 'CA'}]}], 'summary': '6 Likes'}, 'dislike': False, 'ok': False, 'rating': 7.0, 'ratingColor': 'C5DE35', 'ratingSignals': 9, 'allowMenuUrlEdit': True, 'beenHere': {'count': 0, 'unconfirmedCount': 0, 'marked': False, 'lastCheckinExpiredAt': 0}, 'specials': {'count': 0, 'items': []}, 'photos': {'count': 1, 'groups': [{'type': 'venue', 'name': 'Venue photos', 'count': 1, 'items': [{'id': '525e184e11d238bf4f64d011', 'createdAt': 1381898318, 'source': {'name': 'Foursquare for iOS', 'url': 'https://foursquare.com/download/#/iphone'}, 'prefix': 'https://fastly.4sqi.net/img/general/', 'suffix': '/35109562_MzZS6PFKfPe5eG3b-gA-0ddLANLrnMu4xmCd7nBaA60.jpg', 'width': 960, 'height': 720, 'visibility': 'public'}]}]}, 'reasons': {'count': 0, 'items': []}, 'hereNow': {'count': 0, 'summary': 'Nobody here', 'groups': []}, 'createdAt': 1381898258, 'tips': {'count': 3, 'groups': [{'type': 'others', 'name': 'All tips', 'count': 3, 'items': [{'id': '56c127b6498eafa12576967e', 'createdAt': 1455499190, 'text': \"The service sucks... It's an amazing place but not enough staff which leaves a bad experience. They could really do with a couple extra servers.\", 'type': 'user', 'canonicalUrl': 'https://foursquare.com/item/56c127b6498eafa12576967e', 'lang': 'en', 'likes': {'count': 0, 'groups': []}, 'logView': True, 'agreeCount': 1, 'disagreeCount': 0, 'todo': {'count': 0}, 'user': {'firstName': 'Dharini', 'countryCode': 'CA'}, 'authorInteractionType': 'liked'}]}]}, 'shortUrl': 'http://4sq.com/1crre89', 'timeZone': 'America/Toronto', 'listed': {'count': 1, 'groups': [{'type': 'others', 'name': 'Lists from other people', 'count': 1, 'items': [{'id': '5acb5188625a6642e6d93c91', 'name': 'Toronto', 'description': '', 'type': 'others', 'user': {'firstName': 'Aaditya', 'countryCode': 'CA'}, 'editable': False, 'public': True, 'collaborative': False, 'url': '/user/75867729/list/toronto', 'canonicalUrl': 'https://foursquare.com/user/75867729/list/toronto', 'createdAt': 1523274120, 'updatedAt': 1586629329, 'followers': {'count': 0}, 'listItems': {'count': 34, 'items': [{'id': 'v525e1812498e2c14b4d80b8b', 'createdAt': 1570105738}]}}]}]}, 'seasonalHours': [], 'pageUpdates': {'count': 0, 'items': []}, 'inbox': {'count': 0, 'items': []}, 'attributes': {'groups': [{'type': 'price', 'name': 'Price', 'summary': '$$', 'count': 1, 'items': [{'displayName': 'Price', 'displayValue': '$$', 'priceTier': 2}]}]}, 'bestPhoto': {'id': '525e184e11d238bf4f64d011', 'createdAt': 1381898318, 'source': {'name': 'Foursquare for iOS', 'url': 'https://foursquare.com/download/#/iphone'}, 'prefix': 'https://fastly.4sqi.net/img/general/', 'suffix': '/35109562_MzZS6PFKfPe5eG3b-gA-0ddLANLrnMu4xmCd7nBaA60.jpg', 'width': 960, 'height': 720, 'visibility': 'public'}, 'colors': {'highlightColor': {'photoId': '525e184e11d238bf4f64d011', 'value': -7847928}, 'highlightTextColor': {'photoId': '525e184e11d238bf4f64d011', 'value': -1}, 'algoVersion': 3}}}}\n",
      "                         ID                    Name  Likes  Rating  Tips\n",
      "0  525e1812498e2c14b4d80b8b  Bukhara indian cuisine      6     7.0     3\n",
      "( 8 / 12 ) processed\n",
      "{'meta': {'code': 200, 'requestId': '61192c838136f3203a3e333a'}, 'response': {'venue': {'id': '4ad8a5a7f964a5203c1321e3', 'name': 'Little India Restaurant', 'contact': {'phone': '4162059836', 'formattedPhone': '(416) 205-9836', 'twitter': 'littleindiadine', 'facebook': '124259190949118', 'facebookUsername': 'LittleIndiaDine', 'facebookName': 'Little India Restaurant'}, 'location': {'address': '255 Queen St. W', 'crossStreet': 'Queen and University', 'lat': 43.65031880877208, 'lng': -79.38899760320798, 'labeledLatLngs': [{'label': 'display', 'lat': 43.65031880877208, 'lng': -79.38899760320798}], 'postalCode': 'M5V 1Z4', 'cc': 'CA', 'city': 'Toronto', 'state': 'ON', 'country': 'Canada', 'formattedAddress': ['255 Queen St. W (Queen and University)', 'Toronto ON M5V 1Z4', 'Canada']}, 'canonicalUrl': 'https://foursquare.com/littleindiadine', 'categories': [{'id': '4bf58dd8d48988d10f941735', 'name': 'Indian Restaurant', 'pluralName': 'Indian Restaurants', 'shortName': 'Indian', 'icon': {'prefix': 'https://ss3.4sqi.net/img/categories_v2/food/indian_', 'suffix': '.png'}, 'primary': True}, {'id': '4bf58dd8d48988d1d3941735', 'name': 'Vegetarian / Vegan Restaurant', 'pluralName': 'Vegetarian / Vegan Restaurants', 'shortName': 'Vegetarian / Vegan', 'icon': {'prefix': 'https://ss3.4sqi.net/img/categories_v2/food/vegetarian_', 'suffix': '.png'}}], 'verified': True, 'stats': {'tipCount': 73}, 'url': 'http://www.littleindia.ca/menu1.aspx', 'price': {'tier': 2, 'message': 'Moderate', 'currency': '$'}, 'hasMenu': True, 'likes': {'count': 127, 'groups': [{'type': 'others', 'count': 127, 'items': []}], 'summary': '127 Likes'}, 'dislike': False, 'ok': False, 'rating': 7.3, 'ratingColor': 'C5DE35', 'ratingSignals': 221, 'menu': {'type': 'Menu', 'label': 'Menu', 'anchor': 'View Menu', 'url': 'https://foursquare.com/littleindiadine/menu', 'mobileUrl': 'https://foursquare.com/v/4ad8a5a7f964a5203c1321e3/device_menu'}, 'allowMenuUrlEdit': True, 'beenHere': {'count': 0, 'unconfirmedCount': 0, 'marked': False, 'lastCheckinExpiredAt': 0}, 'specials': {'count': 0, 'items': []}, 'photos': {'count': 66, 'groups': [{'type': 'venue', 'name': 'Venue photos', 'count': 66, 'items': [{'id': '4f1b5812e4b0c74ef1d05e72', 'createdAt': 1327192082, 'source': {'name': 'Foursquare for Android', 'url': 'https://foursquare.com/download/#/android'}, 'prefix': 'https://fastly.4sqi.net/img/general/', 'suffix': '/R5JJ3VNCTDZN0OCZ0TWADNCSGTPAUQX3UZLMD43Q1I02SGXU.jpg', 'width': 720, 'height': 404, 'visibility': 'public'}]}]}, 'venuePage': {'id': '57793907'}, 'reasons': {'count': 1, 'items': [{'summary': 'Lots of people like this place', 'type': 'general', 'reasonName': 'rawLikesReason'}]}, 'description': \"Welcome to Little India Welcome to Little India, one of Toronto's most popular spots for the Thalies, tandoori's and curries of Northern India.\", 'storeId': 'info@littleindia.ca', 'page': {'user': {'firstName': 'Little India Restaurant', 'countryCode': 'CA', 'type': 'venuePage', 'venue': {'id': '4ad8a5a7f964a5203c1321e3'}, 'tips': {'count': 5}, 'lists': {'groups': [{'type': 'created', 'count': 2, 'items': []}]}, 'bio': ''}}, 'hereNow': {'count': 0, 'summary': 'Nobody here', 'groups': []}, 'createdAt': 1255712167, 'tips': {'count': 73, 'groups': [{'type': 'others', 'name': 'All tips', 'count': 73, 'items': [{'id': '4b3b86f870c603bb18ab8fb4', 'createdAt': 1262192376, 'text': 'Do the lunch buffet. All the flavors for only $11.  Delish!', 'type': 'user', 'canonicalUrl': 'https://foursquare.com/item/4b3b86f870c603bb18ab8fb4', 'lang': 'en', 'likes': {'count': 11, 'groups': [{'type': 'others', 'count': 11, 'items': []}], 'summary': '11 likes'}, 'logView': True, 'agreeCount': 3, 'disagreeCount': 0, 'todo': {'count': 3}, 'user': {'firstName': 'Kara', 'lastName': 'M', 'countryCode': 'CA'}}]}]}, 'shortUrl': 'http://4sq.com/7sta1J', 'timeZone': 'America/Toronto', 'listed': {'count': 93, 'groups': [{'type': 'others', 'name': 'Lists from other people', 'count': 93, 'items': [{'id': '4e7ac27ce4cdee7588d08142', 'name': \"Restaurants I've Been To\", 'description': '', 'type': 'others', 'user': {'firstName': 'Judy', 'lastName': 'N', 'countryCode': 'CA'}, 'editable': False, 'public': True, 'collaborative': False, 'url': '/judskii/list/restaurants-ive-been-to', 'canonicalUrl': 'https://foursquare.com/judskii/list/restaurants-ive-been-to', 'createdAt': 1316668028, 'updatedAt': 1348287327, 'followers': {'count': 11}, 'listItems': {'count': 80, 'items': [{'id': 'v4ad8a5a7f964a5203c1321e3', 'createdAt': 1332435142}]}}, {'id': '4ea74df38231a8f6a16baa77', 'name': 'Movable Hype - \"The List\" part 1', 'description': 'Before moving to Toronto I started a list of places I wanted to see and things I wanted to do, and it keeps growing. Once in a while I get around to blogging about the places I strike off \"the list\"', 'type': 'others', 'user': {'firstName': 'Yuli', 'lastName': 'S', 'countryCode': 'CA'}, 'editable': False, 'public': True, 'collaborative': False, 'url': '/paperapostle/list/movable-hype--the-list-part-1', 'canonicalUrl': 'https://foursquare.com/paperapostle/list/movable-hype--the-list-part-1', 'createdAt': 1319587315, 'updatedAt': 1357174598, 'followers': {'count': 37}, 'listItems': {'count': 200, 'items': [{'id': 'v4ad8a5a7f964a5203c1321e3', 'createdAt': 1319589130}]}}, {'id': '50b92b9be4b0cdd4baf716a2', 'name': 'Toronto Food - Part 1', 'description': '', 'type': 'others', 'user': {'firstName': 'Denise', 'countryCode': 'CA'}, 'editable': False, 'public': True, 'collaborative': False, 'url': '/user/3875010/list/toronto-food--part-1', 'canonicalUrl': 'https://foursquare.com/user/3875010/list/toronto-food--part-1', 'createdAt': 1354312603, 'updatedAt': 1545517748, 'photo': {'id': '50893469e4b0aa994cbdacd7', 'createdAt': 1351169129, 'prefix': 'https://fastly.4sqi.net/img/general/', 'suffix': '/1589524_YV4qTFt0C_EjiNxnCmG8eglubmxOAUaN9oFFSfkXz7Q.jpg', 'width': 800, 'height': 800, 'visibility': 'public'}, 'followers': {'count': 15}, 'listItems': {'count': 242, 'items': [{'id': 'v4ad8a5a7f964a5203c1321e3', 'createdAt': 1355203590}]}}, {'id': '515222a9e4b05955e63d4c7b', 'name': 'Toronto, Canada', 'description': '', 'type': 'others', 'user': {'firstName': 'Len', 'lastName': '❤', 'countryCode': 'US'}, 'editable': False, 'public': True, 'collaborative': False, 'url': '/user/17766136/list/toronto-canada', 'canonicalUrl': 'https://foursquare.com/user/17766136/list/toronto-canada', 'createdAt': 1364337321, 'updatedAt': 1379445585, 'photo': {'id': '50c55250e4b0a6a6505ca20a', 'createdAt': 1355108944, 'prefix': 'https://fastly.4sqi.net/img/general/', 'suffix': '/6768779_zdIciLMIyKFkVxXH2kuWe1G0cW3FqX8lVdh91QOXUcU.jpg', 'width': 612, 'height': 612, 'visibility': 'public'}, 'followers': {'count': 37}, 'listItems': {'count': 82, 'items': [{'id': 'v4ad8a5a7f964a5203c1321e3', 'createdAt': 1367981615, 'photo': {'id': '4ff317cbe4b0f0083b62b97f', 'createdAt': 1341331403, 'prefix': 'https://fastly.4sqi.net/img/general/', 'suffix': '/mzDDUKCCmO_XbxGuYm-wu4PGxM7ULnjaHWBctr_fRbg.jpg', 'width': 720, 'height': 540, 'visibility': 'public'}}]}}]}]}, 'hours': {'status': 'Closed until 11:30 AM', 'richStatus': {'entities': [], 'text': 'Closed until 11:30 AM'}, 'isOpen': False, 'isLocalHoliday': False, 'dayData': [], 'timeframes': [{'days': 'Mon, Sun', 'includesToday': True, 'open': [{'renderedTime': '11:30 AM–10:00 PM'}], 'segments': []}, {'days': 'Tue–Sat', 'open': [{'renderedTime': '11:30 AM–10:30 PM'}], 'segments': []}]}, 'popular': {'isOpen': False, 'isLocalHoliday': False, 'timeframes': [{'days': 'Today', 'includesToday': True, 'open': [{'renderedTime': 'Noon–10:00 PM'}], 'segments': []}, {'days': 'Mon', 'open': [{'renderedTime': 'Noon–10:00 PM'}], 'segments': []}, {'days': 'Tue', 'open': [{'renderedTime': 'Noon–3:00 PM'}, {'renderedTime': '5:00 PM–10:00 PM'}], 'segments': []}, {'days': 'Wed', 'open': [{'renderedTime': 'Noon–3:00 PM'}, {'renderedTime': '5:00 PM–9:00 PM'}], 'segments': []}, {'days': 'Thu', 'open': [{'renderedTime': 'Noon–2:00 PM'}, {'renderedTime': '6:00 PM–10:00 PM'}], 'segments': []}, {'days': 'Fri', 'open': [{'renderedTime': '11:00 AM–3:00 PM'}, {'renderedTime': '5:00 PM–11:00 PM'}], 'segments': []}, {'days': 'Sat', 'open': [{'renderedTime': 'Noon–10:00 PM'}], 'segments': []}]}, 'seasonalHours': [], 'defaultHours': {'status': 'Closed until 11:30 AM', 'richStatus': {'entities': [], 'text': 'Closed until 11:30 AM'}, 'isOpen': False, 'isLocalHoliday': False, 'dayData': [], 'timeframes': [{'days': 'Mon, Sun', 'includesToday': True, 'open': [{'renderedTime': '11:30 AM–10:00 PM'}], 'segments': []}, {'days': 'Tue–Sat', 'open': [{'renderedTime': '11:30 AM–10:30 PM'}], 'segments': []}]}, 'pageUpdates': {'count': 0, 'items': []}, 'inbox': {'count': 0, 'items': []}, 'attributes': {'groups': [{'type': 'price', 'name': 'Price', 'summary': '$$', 'count': 1, 'items': [{'displayName': 'Price', 'displayValue': '$$', 'priceTier': 2}]}, {'type': 'reservations', 'name': 'Reservations', 'summary': 'Reservations', 'count': 3, 'items': [{'displayName': 'Reservations', 'displayValue': 'Yes'}]}, {'type': 'payments', 'name': 'Credit Cards', 'summary': 'Credit Cards', 'count': 5, 'items': [{'displayName': 'Credit Cards', 'displayValue': 'Yes'}]}, {'type': 'outdoorSeating', 'name': 'Outdoor Seating', 'count': 1, 'items': [{'displayName': 'Outdoor Seating', 'displayValue': 'No'}]}, {'type': 'wifi', 'name': 'Wi-Fi', 'summary': 'Wi-Fi', 'count': 1, 'items': [{'displayName': 'Wi-Fi', 'displayValue': 'Yes'}]}, {'type': 'serves', 'name': 'Menus', 'summary': 'Dinner, Lunch & more', 'count': 8, 'items': [{'displayName': 'Brunch', 'displayValue': 'Brunch'}, {'displayName': 'Lunch', 'displayValue': 'Lunch'}, {'displayName': 'Dinner', 'displayValue': 'Dinner'}]}, {'type': 'drinks', 'name': 'Drinks', 'summary': 'Cocktails', 'count': 5, 'items': [{'displayName': 'Cocktails', 'displayValue': 'Cocktails'}]}]}, 'bestPhoto': {'id': '4f1b5812e4b0c74ef1d05e72', 'createdAt': 1327192082, 'source': {'name': 'Foursquare for Android', 'url': 'https://foursquare.com/download/#/android'}, 'prefix': 'https://fastly.4sqi.net/img/general/', 'suffix': '/R5JJ3VNCTDZN0OCZ0TWADNCSGTPAUQX3UZLMD43Q1I02SGXU.jpg', 'width': 720, 'height': 404, 'visibility': 'public'}, 'colors': {'highlightColor': {'photoId': '4f1b5812e4b0c74ef1d05e72', 'value': -13107200}, 'highlightTextColor': {'photoId': '4f1b5812e4b0c74ef1d05e72', 'value': -1}, 'algoVersion': 3}}}}\n",
      "                         ID                     Name  Likes  Rating  Tips\n",
      "0  4ad8a5a7f964a5203c1321e3  Little India Restaurant    127     7.3    73\n",
      "( 9 / 12 ) processed\n"
     ]
    },
    {
     "name": "stdout",
     "output_type": "stream",
     "text": [
      "{'meta': {'code': 200, 'requestId': '61192c84ba16570876614248'}, 'response': {'venue': {'id': '4c8c21fdf0ce236ab28e15ef', 'name': 'Butter Chicken Factory', 'contact': {'phone': '4169647583', 'formattedPhone': '(416) 964-7583'}, 'location': {'address': '556 Parliament St.', 'crossStreet': 'at Prospect St.', 'lat': 43.66707247004843, 'lng': -79.36918422958169, 'labeledLatLngs': [{'label': 'display', 'lat': 43.66707247004843, 'lng': -79.36918422958169}], 'postalCode': 'M4K 1P6', 'cc': 'CA', 'neighborhood': 'Cabbagetown', 'city': 'Toronto', 'state': 'ON', 'country': 'Canada', 'formattedAddress': ['556 Parliament St. (at Prospect St.)', 'Toronto ON M4K 1P6', 'Canada']}, 'canonicalUrl': 'https://foursquare.com/v/butter-chicken-factory/4c8c21fdf0ce236ab28e15ef', 'categories': [{'id': '4bf58dd8d48988d10f941735', 'name': 'Indian Restaurant', 'pluralName': 'Indian Restaurants', 'shortName': 'Indian', 'icon': {'prefix': 'https://ss3.4sqi.net/img/categories_v2/food/indian_', 'suffix': '.png'}, 'primary': True}], 'verified': False, 'stats': {'tipCount': 11}, 'url': 'https://butterchickenfactory.ca', 'price': {'tier': 2, 'message': 'Moderate', 'currency': '$'}, 'hasMenu': True, 'likes': {'count': 16, 'groups': [{'type': 'others', 'count': 16, 'items': []}], 'summary': '16 Likes'}, 'dislike': False, 'ok': False, 'rating': 7.9, 'ratingColor': 'C5DE35', 'ratingSignals': 28, 'menu': {'type': 'Menu', 'label': 'Menu', 'anchor': 'View Menu', 'url': 'https://butterchickenfactory.ca/menu/', 'mobileUrl': 'https://butterchickenfactory.ca/menu/', 'externalUrl': 'https://butterchickenfactory.ca/menu/'}, 'allowMenuUrlEdit': True, 'beenHere': {'count': 0, 'unconfirmedCount': 0, 'marked': False, 'lastCheckinExpiredAt': 0}, 'specials': {'count': 0, 'items': []}, 'photos': {'count': 8, 'groups': [{'type': 'venue', 'name': 'Venue photos', 'count': 8, 'items': [{'id': '5334a250498e58385a0f3505', 'createdAt': 1395958352, 'source': {'name': 'Foursquare for iOS', 'url': 'https://foursquare.com/download/#/iphone'}, 'prefix': 'https://fastly.4sqi.net/img/general/', 'suffix': '/20896249_rYxndS-tuaSX7LR22kDBOOMQqdJdcfNy_SOXpNM79ys.jpg', 'width': 640, 'height': 960, 'visibility': 'public'}]}]}, 'reasons': {'count': 0, 'items': []}, 'hereNow': {'count': 0, 'summary': 'Nobody here', 'groups': []}, 'createdAt': 1284252157, 'tips': {'count': 11, 'groups': [{'type': 'others', 'name': 'All tips', 'count': 11, 'items': [{'id': '5b3a9ea415173e002c92a36e', 'createdAt': 1530568356, 'text': 'Butter Chicken and Chicken Biryani', 'type': 'user', 'canonicalUrl': 'https://foursquare.com/item/5b3a9ea415173e002c92a36e', 'lang': 'en', 'likes': {'count': 1, 'groups': [{'type': 'others', 'count': 1, 'items': []}], 'summary': '1 like'}, 'logView': True, 'agreeCount': 1, 'disagreeCount': 0, 'todo': {'count': 0}, 'user': {'firstName': 'Saurabh', 'lastName': 'A', 'countryCode': 'CA'}}]}]}, 'shortUrl': 'http://4sq.com/9DR6hM', 'timeZone': 'America/Toronto', 'listed': {'count': 33, 'groups': [{'type': 'others', 'name': 'Lists from other people', 'count': 33, 'items': [{'id': '50c1aee8e4b0e27ba42d080d', 'name': \"The Good Eat'Ums\", 'description': 'The places in Toronto that feed me the goodest of good stuff.', 'type': 'others', 'user': {'firstName': 'chubbstar', 'countryCode': 'CA'}, 'editable': False, 'public': True, 'collaborative': False, 'url': '/user/5505425/list/the-good-eatums', 'canonicalUrl': 'https://foursquare.com/user/5505425/list/the-good-eatums', 'createdAt': 1354870504, 'updatedAt': 1452730260, 'photo': {'id': '55d61c13498e77bcb665a75d', 'createdAt': 1440095251, 'prefix': 'https://fastly.4sqi.net/img/general/', 'suffix': '/13468573_iC05MJm4DhlK3_tUbNo99S6rUlWGoxsMSBtkxLQwJnI.jpg', 'width': 1080, 'height': 1080, 'visibility': 'public'}, 'followers': {'count': 4}, 'listItems': {'count': 95, 'items': [{'id': 'v4c8c21fdf0ce236ab28e15ef', 'createdAt': 1381427792}]}}, {'id': '5106d665e4b09faecc2f2f5f', 'name': 'Toronto to-do, eat and visit', 'description': '', 'type': 'others', 'user': {'firstName': 'Cheryl', 'lastName': 'L', 'countryCode': 'CA'}, 'editable': False, 'public': True, 'collaborative': False, 'url': '/lexigrl29/list/toronto-todo-eat-and-visit', 'canonicalUrl': 'https://foursquare.com/lexigrl29/list/toronto-todo-eat-and-visit', 'createdAt': 1359402597, 'updatedAt': 1459041443, 'followers': {'count': 6}, 'listItems': {'count': 100, 'items': [{'id': 'v4c8c21fdf0ce236ab28e15ef', 'createdAt': 1453856022}]}}, {'id': '50463aa0e4b0c56f09ab6aa0', 'name': 'Things to do in TO', 'description': '', 'type': 'others', 'user': {'firstName': 'Elizabeth', 'lastName': 'V', 'countryCode': 'CA'}, 'editable': False, 'public': True, 'collaborative': False, 'url': '/emviolante/list/things-to-do-in-to', 'canonicalUrl': 'https://foursquare.com/emviolante/list/things-to-do-in-to', 'createdAt': 1346779808, 'updatedAt': 1627833457, 'followers': {'count': 40}, 'listItems': {'count': 122, 'items': [{'id': 'v4c8c21fdf0ce236ab28e15ef', 'createdAt': 1346790864}]}}, {'id': '532f5daf498e39c6799c756e', 'name': 'TORONTO,CANADA', 'description': '', 'type': 'others', 'user': {'firstName': 'Susan', 'lastName': 'M', 'countryCode': 'CA'}, 'editable': False, 'public': True, 'collaborative': False, 'url': '/user/1280459/list/torontocanada', 'canonicalUrl': 'https://foursquare.com/user/1280459/list/torontocanada', 'createdAt': 1395613103, 'updatedAt': 1514568214, 'photo': {'id': '522941f911d2a4b2969f5f2e', 'createdAt': 1378435577, 'prefix': 'https://fastly.4sqi.net/img/general/', 'suffix': '/15479920_xTMRFKa0nEVDfmYMQihnDwfaEt4l7Uz7wXaYbcriYIU.jpg', 'width': 720, 'height': 720, 'visibility': 'public'}, 'followers': {'count': 1}, 'listItems': {'count': 330, 'items': [{'id': 'v4c8c21fdf0ce236ab28e15ef', 'createdAt': 1495917156}]}}]}]}, 'hours': {'status': 'Closed until 5:00 PM', 'richStatus': {'entities': [], 'text': 'Closed until 5:00 PM'}, 'isOpen': False, 'isLocalHoliday': False, 'dayData': [], 'timeframes': [{'days': 'Mon–Thu', 'open': [{'renderedTime': '11:00 AM–3:00 PM'}, {'renderedTime': '5:00 PM–10:00 PM'}], 'segments': []}, {'days': 'Fri', 'open': [{'renderedTime': '11:00 AM–3:00 PM'}, {'renderedTime': '5:00 PM–Midnight'}], 'segments': []}, {'days': 'Sat', 'open': [{'renderedTime': '5:00 PM–Midnight'}], 'segments': []}, {'days': 'Sun', 'includesToday': True, 'open': [{'renderedTime': '5:00 PM–10:00 PM'}], 'segments': []}]}, 'popular': {'isOpen': False, 'isLocalHoliday': False, 'timeframes': [{'days': 'Today', 'includesToday': True, 'open': [{'renderedTime': '4:00 PM–10:00 PM'}], 'segments': []}, {'days': 'Mon', 'open': [{'renderedTime': '5:00 PM–9:00 PM'}], 'segments': []}, {'days': 'Tue', 'open': [{'renderedTime': 'Noon–1:00 PM'}, {'renderedTime': '6:00 PM–10:00 PM'}], 'segments': []}, {'days': 'Wed', 'open': [{'renderedTime': '1:00 PM–2:00 PM'}, {'renderedTime': '4:00 PM–9:00 PM'}], 'segments': []}, {'days': 'Thu', 'open': [{'renderedTime': 'Noon–2:00 PM'}, {'renderedTime': '6:00 PM–9:00 PM'}], 'segments': []}, {'days': 'Fri', 'open': [{'renderedTime': 'Noon–2:00 PM'}, {'renderedTime': '5:00 PM–11:00 PM'}], 'segments': []}, {'days': 'Sat', 'open': [{'renderedTime': '5:00 PM–11:00 PM'}], 'segments': []}]}, 'seasonalHours': [], 'defaultHours': {'status': 'Closed until 5:00 PM', 'richStatus': {'entities': [], 'text': 'Closed until 5:00 PM'}, 'isOpen': False, 'isLocalHoliday': False, 'dayData': [], 'timeframes': [{'days': 'Mon–Thu', 'open': [{'renderedTime': '11:00 AM–3:00 PM'}, {'renderedTime': '5:00 PM–10:00 PM'}], 'segments': []}, {'days': 'Fri', 'open': [{'renderedTime': '11:00 AM–3:00 PM'}, {'renderedTime': '5:00 PM–Midnight'}], 'segments': []}, {'days': 'Sat', 'open': [{'renderedTime': '5:00 PM–Midnight'}], 'segments': []}, {'days': 'Sun', 'includesToday': True, 'open': [{'renderedTime': '5:00 PM–10:00 PM'}], 'segments': []}]}, 'pageUpdates': {'count': 0, 'items': []}, 'inbox': {'count': 0, 'items': []}, 'attributes': {'groups': [{'type': 'price', 'name': 'Price', 'summary': '$$', 'count': 1, 'items': [{'displayName': 'Price', 'displayValue': '$$', 'priceTier': 2}]}, {'type': 'payments', 'name': 'Credit Cards', 'summary': 'Credit Cards', 'count': 5, 'items': [{'displayName': 'Credit Cards', 'displayValue': 'Yes (incl. American Express & MasterCard)'}]}, {'type': 'outdoorSeating', 'name': 'Outdoor Seating', 'summary': 'Outdoor Seating', 'count': 1, 'items': [{'displayName': 'Outdoor Seating', 'displayValue': 'Yes'}]}]}, 'bestPhoto': {'id': '5334a250498e58385a0f3505', 'createdAt': 1395958352, 'source': {'name': 'Foursquare for iOS', 'url': 'https://foursquare.com/download/#/iphone'}, 'prefix': 'https://fastly.4sqi.net/img/general/', 'suffix': '/20896249_rYxndS-tuaSX7LR22kDBOOMQqdJdcfNy_SOXpNM79ys.jpg', 'width': 640, 'height': 960, 'visibility': 'public'}, 'colors': {'highlightColor': {'photoId': '5334a250498e58385a0f3505', 'value': -2037536}, 'highlightTextColor': {'photoId': '5334a250498e58385a0f3505', 'value': -16777216}, 'algoVersion': 3}}}}\n",
      "                         ID                    Name  Likes  Rating  Tips\n",
      "0  4c8c21fdf0ce236ab28e15ef  Butter Chicken Factory     16     7.9    11\n",
      "( 10 / 12 ) processed\n"
     ]
    },
    {
     "name": "stdout",
     "output_type": "stream",
     "text": [
      "{'meta': {'code': 200, 'requestId': '61192c85232d424860f17db9'}, 'response': {'venue': {'id': '4bedf8b5e24d20a17b567214', 'name': 'Kothur Indian Cuisine', 'contact': {'phone': '4169260953', 'formattedPhone': '(416) 926-0953'}, 'location': {'address': '649 Yonge St.', 'lat': 43.66787229558206, 'lng': -79.38565911153148, 'labeledLatLngs': [{'label': 'display', 'lat': 43.66787229558206, 'lng': -79.38565911153148}], 'postalCode': 'M4Y', 'cc': 'CA', 'neighborhood': 'Church and Wellesley', 'city': 'Toronto', 'state': 'ON', 'country': 'Canada', 'formattedAddress': ['649 Yonge St.', 'Toronto ON M4Y', 'Canada']}, 'canonicalUrl': 'https://foursquare.com/v/kothur-indian-cuisine/4bedf8b5e24d20a17b567214', 'categories': [{'id': '4bf58dd8d48988d10f941735', 'name': 'Indian Restaurant', 'pluralName': 'Indian Restaurants', 'shortName': 'Indian', 'icon': {'prefix': 'https://ss3.4sqi.net/img/categories_v2/food/indian_', 'suffix': '.png'}, 'primary': True}], 'verified': False, 'stats': {'tipCount': 19}, 'url': 'http://kothur.com', 'price': {'tier': 2, 'message': 'Moderate', 'currency': '$'}, 'hasMenu': True, 'likes': {'count': 16, 'groups': [{'type': 'others', 'count': 16, 'items': []}], 'summary': '16 Likes'}, 'dislike': False, 'ok': False, 'rating': 8.0, 'ratingColor': '73CF42', 'ratingSignals': 32, 'menu': {'type': 'Menu', 'label': 'Menu', 'anchor': 'View Menu', 'url': 'https://foursquare.com/v/kothur-indian-cuisine/4bedf8b5e24d20a17b567214/menu', 'mobileUrl': 'https://foursquare.com/v/4bedf8b5e24d20a17b567214/device_menu'}, 'allowMenuUrlEdit': True, 'beenHere': {'count': 0, 'unconfirmedCount': 0, 'marked': False, 'lastCheckinExpiredAt': 0}, 'specials': {'count': 0, 'items': []}, 'photos': {'count': 12, 'groups': [{'type': 'venue', 'name': 'Venue photos', 'count': 12, 'items': [{'id': '517ab890e4b0ca8d6b16f174', 'createdAt': 1366997136, 'source': {'name': 'Foursquare for Android', 'url': 'https://foursquare.com/download/#/android'}, 'prefix': 'https://fastly.4sqi.net/img/general/', 'suffix': '/3568690_AN0Vjxg2oRARd7uZlT-tP6wsFgZ2bdrIlUyIE_B79aQ.jpg', 'width': 960, 'height': 960, 'visibility': 'public'}]}]}, 'reasons': {'count': 0, 'items': []}, 'hereNow': {'count': 0, 'summary': 'Nobody here', 'groups': []}, 'createdAt': 1273886901, 'tips': {'count': 19, 'groups': [{'type': 'others', 'name': 'All tips', 'count': 19, 'items': [{'id': '4c5201ca7f6e20a1772402eb', 'createdAt': 1280442826, 'text': 'This place is just incredible.', 'type': 'user', 'canonicalUrl': 'https://foursquare.com/item/4c5201ca7f6e20a1772402eb', 'lang': 'en', 'likes': {'count': 4, 'groups': [{'type': 'others', 'count': 4, 'items': [{'firstName': 'Angela', 'lastName': 'W', 'countryCode': 'US'}]}], 'summary': '4 likes'}, 'logView': True, 'agreeCount': 1, 'disagreeCount': 0, 'todo': {'count': 2}, 'user': {'firstName': 'Mark', 'lastName': 'R', 'countryCode': 'CA'}}]}]}, 'shortUrl': 'http://4sq.com/ckxnQ3', 'timeZone': 'America/Toronto', 'listed': {'count': 12, 'groups': [{'type': 'others', 'name': 'Lists from other people', 'count': 12, 'items': [{'id': '4e4d79c418505001d0ebf194', 'name': 'Top picks for Indian Restaurants', 'description': '', 'type': 'others', 'user': {'firstName': 'Jason', 'lastName': 'P', 'countryCode': 'CA'}, 'editable': False, 'public': True, 'collaborative': False, 'url': '/jasonpereira/list/top-picks-for-indian-restaurants', 'canonicalUrl': 'https://foursquare.com/jasonpereira/list/top-picks-for-indian-restaurants', 'createdAt': 1313700292, 'updatedAt': 1313700292, 'followers': {'count': 0}, 'listItems': {'count': 3, 'items': [{'id': 'v4bedf8b5e24d20a17b567214', 'createdAt': 1313700292}]}}, {'id': '5bb3e1876336be002c93e9ef', 'name': 'Toronto', 'description': '', 'type': 'others', 'user': {'firstName': 'seb', 'countryCode': 'CA'}, 'editable': False, 'public': True, 'collaborative': False, 'url': '/sebcado/list/toronto', 'canonicalUrl': 'https://foursquare.com/sebcado/list/toronto', 'createdAt': 1538515335, 'updatedAt': 1543243369, 'photo': {'id': '5ba99d4cdd70c50039cc327e', 'createdAt': 1537842508, 'prefix': 'https://fastly.4sqi.net/img/general/', 'suffix': '/435068888_jA_YVpflXlFC-4rbM4JwMSYouniuVQtLlsjYxkaoitQ.jpg', 'width': 1440, 'height': 1920, 'visibility': 'public'}, 'followers': {'count': 0}, 'listItems': {'count': 35, 'items': [{'id': 'v4bedf8b5e24d20a17b567214', 'createdAt': 1543027521}]}}, {'id': '5553db3c498e0dc58cd3af78', 'name': 'Quick Bites', 'description': '', 'type': 'others', 'user': {'firstName': 'Adventuressa', 'countryCode': 'CA'}, 'editable': False, 'public': True, 'collaborative': False, 'url': '/user/128601710/list/quick-bites', 'canonicalUrl': 'https://foursquare.com/user/128601710/list/quick-bites', 'createdAt': 1431558972, 'updatedAt': 1526158559, 'followers': {'count': 0}, 'listItems': {'count': 57, 'items': [{'id': 'v4bedf8b5e24d20a17b567214', 'createdAt': 1477366937}]}}, {'id': '58f476e25d0fea76e12fad48', 'name': 'Home is Toronto ✨', 'description': 'My favourite spots.. if only I could change all their ratings to above 9 ;)', 'type': 'others', 'user': {'firstName': 'Audrey', 'lastName': 'E', 'countryCode': 'CA'}, 'editable': False, 'public': True, 'collaborative': False, 'url': '/user/401279049/list/home-is-toronto-', 'canonicalUrl': 'https://foursquare.com/user/401279049/list/home-is-toronto-', 'createdAt': 1492416226, 'updatedAt': 1597527390, 'photo': {'id': '570a5a76498e119ec476f69b', 'createdAt': 1460296310, 'prefix': 'https://fastly.4sqi.net/img/general/', 'suffix': '/32180891_go9zelCwkqVw3X5IS9KV64f7RsZqngW2MNem63ircnU.jpg', 'width': 1440, 'height': 1799, 'visibility': 'public'}, 'followers': {'count': 0}, 'listItems': {'count': 43, 'items': [{'id': 'v4bedf8b5e24d20a17b567214', 'createdAt': 1493000559}]}}]}]}, 'popular': {'isOpen': False, 'isLocalHoliday': False, 'timeframes': [{'days': 'Today', 'includesToday': True, 'open': [{'renderedTime': '1:00 PM–10:00 PM'}], 'segments': []}, {'days': 'Mon–Tue', 'open': [{'renderedTime': 'Noon–2:00 PM'}, {'renderedTime': '5:00 PM–9:00 PM'}], 'segments': []}, {'days': 'Wed', 'open': [{'renderedTime': 'Noon–2:00 PM'}, {'renderedTime': '6:00 PM–9:00 PM'}], 'segments': []}, {'days': 'Thu', 'open': [{'renderedTime': 'Noon–3:00 PM'}, {'renderedTime': '6:00 PM–11:00 PM'}], 'segments': []}, {'days': 'Fri', 'open': [{'renderedTime': 'Noon–3:00 PM'}, {'renderedTime': '5:00 PM–11:00 PM'}], 'segments': []}, {'days': 'Sat', 'open': [{'renderedTime': '1:00 PM–10:00 PM'}], 'segments': []}]}, 'seasonalHours': [], 'pageUpdates': {'count': 0, 'items': []}, 'inbox': {'count': 0, 'items': []}, 'attributes': {'groups': [{'type': 'price', 'name': 'Price', 'summary': '$$', 'count': 1, 'items': [{'displayName': 'Price', 'displayValue': '$$', 'priceTier': 2}]}, {'type': 'reservations', 'name': 'Reservations', 'summary': 'Reservations', 'count': 3, 'items': [{'displayName': 'Reservations', 'displayValue': 'Yes'}]}, {'type': 'payments', 'name': 'Credit Cards', 'summary': 'Credit Cards', 'count': 5, 'items': [{'displayName': 'Credit Cards', 'displayValue': 'Yes (incl. American Express)'}]}, {'type': 'outdoorSeating', 'name': 'Outdoor Seating', 'count': 1, 'items': [{'displayName': 'Outdoor Seating', 'displayValue': 'No'}]}]}, 'bestPhoto': {'id': '517ab890e4b0ca8d6b16f174', 'createdAt': 1366997136, 'source': {'name': 'Foursquare for Android', 'url': 'https://foursquare.com/download/#/android'}, 'prefix': 'https://fastly.4sqi.net/img/general/', 'suffix': '/3568690_AN0Vjxg2oRARd7uZlT-tP6wsFgZ2bdrIlUyIE_B79aQ.jpg', 'width': 960, 'height': 960, 'visibility': 'public'}, 'colors': {'highlightColor': {'photoId': '517ab890e4b0ca8d6b16f174', 'value': -4677520}, 'highlightTextColor': {'photoId': '517ab890e4b0ca8d6b16f174', 'value': -16777216}, 'algoVersion': 3}}}}\n",
      "                         ID                   Name  Likes  Rating  Tips\n",
      "0  4bedf8b5e24d20a17b567214  Kothur Indian Cuisine     16     8.0    19\n",
      "( 11 / 12 ) processed\n",
      "{'meta': {'code': 200, 'requestId': '61192c8544745c58bcbd3319'}, 'response': {'venue': {'id': '4ad8a5a7f964a5203c1321e3', 'name': 'Little India Restaurant', 'contact': {'phone': '4162059836', 'formattedPhone': '(416) 205-9836', 'twitter': 'littleindiadine', 'facebook': '124259190949118', 'facebookUsername': 'LittleIndiaDine', 'facebookName': 'Little India Restaurant'}, 'location': {'address': '255 Queen St. W', 'crossStreet': 'Queen and University', 'lat': 43.65031880877208, 'lng': -79.38899760320798, 'labeledLatLngs': [{'label': 'display', 'lat': 43.65031880877208, 'lng': -79.38899760320798}], 'postalCode': 'M5V 1Z4', 'cc': 'CA', 'city': 'Toronto', 'state': 'ON', 'country': 'Canada', 'formattedAddress': ['255 Queen St. W (Queen and University)', 'Toronto ON M5V 1Z4', 'Canada']}, 'canonicalUrl': 'https://foursquare.com/littleindiadine', 'categories': [{'id': '4bf58dd8d48988d10f941735', 'name': 'Indian Restaurant', 'pluralName': 'Indian Restaurants', 'shortName': 'Indian', 'icon': {'prefix': 'https://ss3.4sqi.net/img/categories_v2/food/indian_', 'suffix': '.png'}, 'primary': True}, {'id': '4bf58dd8d48988d1d3941735', 'name': 'Vegetarian / Vegan Restaurant', 'pluralName': 'Vegetarian / Vegan Restaurants', 'shortName': 'Vegetarian / Vegan', 'icon': {'prefix': 'https://ss3.4sqi.net/img/categories_v2/food/vegetarian_', 'suffix': '.png'}}], 'verified': True, 'stats': {'tipCount': 73}, 'url': 'http://www.littleindia.ca/menu1.aspx', 'price': {'tier': 2, 'message': 'Moderate', 'currency': '$'}, 'hasMenu': True, 'likes': {'count': 127, 'groups': [{'type': 'others', 'count': 127, 'items': []}], 'summary': '127 Likes'}, 'dislike': False, 'ok': False, 'rating': 7.3, 'ratingColor': 'C5DE35', 'ratingSignals': 221, 'menu': {'type': 'Menu', 'label': 'Menu', 'anchor': 'View Menu', 'url': 'https://foursquare.com/littleindiadine/menu', 'mobileUrl': 'https://foursquare.com/v/4ad8a5a7f964a5203c1321e3/device_menu'}, 'allowMenuUrlEdit': True, 'beenHere': {'count': 0, 'unconfirmedCount': 0, 'marked': False, 'lastCheckinExpiredAt': 0}, 'specials': {'count': 0, 'items': []}, 'photos': {'count': 66, 'groups': [{'type': 'venue', 'name': 'Venue photos', 'count': 66, 'items': [{'id': '4f1b5812e4b0c74ef1d05e72', 'createdAt': 1327192082, 'source': {'name': 'Foursquare for Android', 'url': 'https://foursquare.com/download/#/android'}, 'prefix': 'https://fastly.4sqi.net/img/general/', 'suffix': '/R5JJ3VNCTDZN0OCZ0TWADNCSGTPAUQX3UZLMD43Q1I02SGXU.jpg', 'width': 720, 'height': 404, 'visibility': 'public'}]}]}, 'venuePage': {'id': '57793907'}, 'reasons': {'count': 1, 'items': [{'summary': 'Lots of people like this place', 'type': 'general', 'reasonName': 'rawLikesReason'}]}, 'description': \"Welcome to Little India Welcome to Little India, one of Toronto's most popular spots for the Thalies, tandoori's and curries of Northern India.\", 'storeId': 'info@littleindia.ca', 'page': {'user': {'firstName': 'Little India Restaurant', 'countryCode': 'CA', 'type': 'venuePage', 'venue': {'id': '4ad8a5a7f964a5203c1321e3'}, 'tips': {'count': 5}, 'lists': {'groups': [{'type': 'created', 'count': 2, 'items': []}]}, 'bio': ''}}, 'hereNow': {'count': 0, 'summary': 'Nobody here', 'groups': []}, 'createdAt': 1255712167, 'tips': {'count': 73, 'groups': [{'type': 'others', 'name': 'All tips', 'count': 73, 'items': [{'id': '4b3b86f870c603bb18ab8fb4', 'createdAt': 1262192376, 'text': 'Do the lunch buffet. All the flavors for only $11.  Delish!', 'type': 'user', 'canonicalUrl': 'https://foursquare.com/item/4b3b86f870c603bb18ab8fb4', 'lang': 'en', 'likes': {'count': 11, 'groups': [{'type': 'others', 'count': 11, 'items': []}], 'summary': '11 likes'}, 'logView': True, 'agreeCount': 3, 'disagreeCount': 0, 'todo': {'count': 3}, 'user': {'firstName': 'Kara', 'lastName': 'M', 'countryCode': 'CA'}}]}]}, 'shortUrl': 'http://4sq.com/7sta1J', 'timeZone': 'America/Toronto', 'listed': {'count': 93, 'groups': [{'type': 'others', 'name': 'Lists from other people', 'count': 93, 'items': [{'id': '4e7ac27ce4cdee7588d08142', 'name': \"Restaurants I've Been To\", 'description': '', 'type': 'others', 'user': {'firstName': 'Judy', 'lastName': 'N', 'countryCode': 'CA'}, 'editable': False, 'public': True, 'collaborative': False, 'url': '/judskii/list/restaurants-ive-been-to', 'canonicalUrl': 'https://foursquare.com/judskii/list/restaurants-ive-been-to', 'createdAt': 1316668028, 'updatedAt': 1348287327, 'followers': {'count': 11}, 'listItems': {'count': 80, 'items': [{'id': 'v4ad8a5a7f964a5203c1321e3', 'createdAt': 1332435142}]}}, {'id': '4ea74df38231a8f6a16baa77', 'name': 'Movable Hype - \"The List\" part 1', 'description': 'Before moving to Toronto I started a list of places I wanted to see and things I wanted to do, and it keeps growing. Once in a while I get around to blogging about the places I strike off \"the list\"', 'type': 'others', 'user': {'firstName': 'Yuli', 'lastName': 'S', 'countryCode': 'CA'}, 'editable': False, 'public': True, 'collaborative': False, 'url': '/paperapostle/list/movable-hype--the-list-part-1', 'canonicalUrl': 'https://foursquare.com/paperapostle/list/movable-hype--the-list-part-1', 'createdAt': 1319587315, 'updatedAt': 1357174598, 'followers': {'count': 37}, 'listItems': {'count': 200, 'items': [{'id': 'v4ad8a5a7f964a5203c1321e3', 'createdAt': 1319589130}]}}, {'id': '50b92b9be4b0cdd4baf716a2', 'name': 'Toronto Food - Part 1', 'description': '', 'type': 'others', 'user': {'firstName': 'Denise', 'countryCode': 'CA'}, 'editable': False, 'public': True, 'collaborative': False, 'url': '/user/3875010/list/toronto-food--part-1', 'canonicalUrl': 'https://foursquare.com/user/3875010/list/toronto-food--part-1', 'createdAt': 1354312603, 'updatedAt': 1545517748, 'photo': {'id': '50893469e4b0aa994cbdacd7', 'createdAt': 1351169129, 'prefix': 'https://fastly.4sqi.net/img/general/', 'suffix': '/1589524_YV4qTFt0C_EjiNxnCmG8eglubmxOAUaN9oFFSfkXz7Q.jpg', 'width': 800, 'height': 800, 'visibility': 'public'}, 'followers': {'count': 15}, 'listItems': {'count': 242, 'items': [{'id': 'v4ad8a5a7f964a5203c1321e3', 'createdAt': 1355203590}]}}, {'id': '515222a9e4b05955e63d4c7b', 'name': 'Toronto, Canada', 'description': '', 'type': 'others', 'user': {'firstName': 'Len', 'lastName': '❤', 'countryCode': 'US'}, 'editable': False, 'public': True, 'collaborative': False, 'url': '/user/17766136/list/toronto-canada', 'canonicalUrl': 'https://foursquare.com/user/17766136/list/toronto-canada', 'createdAt': 1364337321, 'updatedAt': 1379445585, 'photo': {'id': '50c55250e4b0a6a6505ca20a', 'createdAt': 1355108944, 'prefix': 'https://fastly.4sqi.net/img/general/', 'suffix': '/6768779_zdIciLMIyKFkVxXH2kuWe1G0cW3FqX8lVdh91QOXUcU.jpg', 'width': 612, 'height': 612, 'visibility': 'public'}, 'followers': {'count': 37}, 'listItems': {'count': 82, 'items': [{'id': 'v4ad8a5a7f964a5203c1321e3', 'createdAt': 1367981615, 'photo': {'id': '4ff317cbe4b0f0083b62b97f', 'createdAt': 1341331403, 'prefix': 'https://fastly.4sqi.net/img/general/', 'suffix': '/mzDDUKCCmO_XbxGuYm-wu4PGxM7ULnjaHWBctr_fRbg.jpg', 'width': 720, 'height': 540, 'visibility': 'public'}}]}}]}]}, 'hours': {'status': 'Closed until 11:30 AM', 'richStatus': {'entities': [], 'text': 'Closed until 11:30 AM'}, 'isOpen': False, 'isLocalHoliday': False, 'dayData': [], 'timeframes': [{'days': 'Mon, Sun', 'includesToday': True, 'open': [{'renderedTime': '11:30 AM–10:00 PM'}], 'segments': []}, {'days': 'Tue–Sat', 'open': [{'renderedTime': '11:30 AM–10:30 PM'}], 'segments': []}]}, 'popular': {'isOpen': False, 'isLocalHoliday': False, 'timeframes': [{'days': 'Today', 'includesToday': True, 'open': [{'renderedTime': 'Noon–10:00 PM'}], 'segments': []}, {'days': 'Mon', 'open': [{'renderedTime': 'Noon–10:00 PM'}], 'segments': []}, {'days': 'Tue', 'open': [{'renderedTime': 'Noon–3:00 PM'}, {'renderedTime': '5:00 PM–10:00 PM'}], 'segments': []}, {'days': 'Wed', 'open': [{'renderedTime': 'Noon–3:00 PM'}, {'renderedTime': '5:00 PM–9:00 PM'}], 'segments': []}, {'days': 'Thu', 'open': [{'renderedTime': 'Noon–2:00 PM'}, {'renderedTime': '6:00 PM–10:00 PM'}], 'segments': []}, {'days': 'Fri', 'open': [{'renderedTime': '11:00 AM–3:00 PM'}, {'renderedTime': '5:00 PM–11:00 PM'}], 'segments': []}, {'days': 'Sat', 'open': [{'renderedTime': 'Noon–10:00 PM'}], 'segments': []}]}, 'seasonalHours': [], 'defaultHours': {'status': 'Closed until 11:30 AM', 'richStatus': {'entities': [], 'text': 'Closed until 11:30 AM'}, 'isOpen': False, 'isLocalHoliday': False, 'dayData': [], 'timeframes': [{'days': 'Mon, Sun', 'includesToday': True, 'open': [{'renderedTime': '11:30 AM–10:00 PM'}], 'segments': []}, {'days': 'Tue–Sat', 'open': [{'renderedTime': '11:30 AM–10:30 PM'}], 'segments': []}]}, 'pageUpdates': {'count': 0, 'items': []}, 'inbox': {'count': 0, 'items': []}, 'attributes': {'groups': [{'type': 'price', 'name': 'Price', 'summary': '$$', 'count': 1, 'items': [{'displayName': 'Price', 'displayValue': '$$', 'priceTier': 2}]}, {'type': 'reservations', 'name': 'Reservations', 'summary': 'Reservations', 'count': 3, 'items': [{'displayName': 'Reservations', 'displayValue': 'Yes'}]}, {'type': 'payments', 'name': 'Credit Cards', 'summary': 'Credit Cards', 'count': 5, 'items': [{'displayName': 'Credit Cards', 'displayValue': 'Yes'}]}, {'type': 'outdoorSeating', 'name': 'Outdoor Seating', 'count': 1, 'items': [{'displayName': 'Outdoor Seating', 'displayValue': 'No'}]}, {'type': 'wifi', 'name': 'Wi-Fi', 'summary': 'Wi-Fi', 'count': 1, 'items': [{'displayName': 'Wi-Fi', 'displayValue': 'Yes'}]}, {'type': 'serves', 'name': 'Menus', 'summary': 'Dinner, Lunch & more', 'count': 8, 'items': [{'displayName': 'Brunch', 'displayValue': 'Brunch'}, {'displayName': 'Lunch', 'displayValue': 'Lunch'}, {'displayName': 'Dinner', 'displayValue': 'Dinner'}]}, {'type': 'drinks', 'name': 'Drinks', 'summary': 'Cocktails', 'count': 5, 'items': [{'displayName': 'Cocktails', 'displayValue': 'Cocktails'}]}]}, 'bestPhoto': {'id': '4f1b5812e4b0c74ef1d05e72', 'createdAt': 1327192082, 'source': {'name': 'Foursquare for Android', 'url': 'https://foursquare.com/download/#/android'}, 'prefix': 'https://fastly.4sqi.net/img/general/', 'suffix': '/R5JJ3VNCTDZN0OCZ0TWADNCSGTPAUQX3UZLMD43Q1I02SGXU.jpg', 'width': 720, 'height': 404, 'visibility': 'public'}, 'colors': {'highlightColor': {'photoId': '4f1b5812e4b0c74ef1d05e72', 'value': -13107200}, 'highlightTextColor': {'photoId': '4f1b5812e4b0c74ef1d05e72', 'value': -1}, 'algoVersion': 3}}}}\n",
      "                         ID                     Name  Likes  Rating  Tips\n",
      "0  4ad8a5a7f964a5203c1321e3  Little India Restaurant    127     7.3    73\n",
      "( 12 / 12 ) processed\n"
     ]
    }
   ],
   "source": [
    "column_names=['Borough', 'Neighborhood', 'ID','Name','Likes','Rating','Tips']\n",
    "indian_rest_stats=pd.DataFrame(columns=column_names)\n",
    "count=1\n",
    "for row in indian_rest.values.tolist():\n",
    "    Borough,Neighborhood,ID,Name=row\n",
    "    try:\n",
    "        venue_details=get_venue_details(ID)\n",
    "        print(venue_details)\n",
    "        id,name,likes,rating,tips=venue_details.values.tolist()[0]\n",
    "    except IndexError:\n",
    "        print('No data available for id=',ID)\n",
    "        # we will assign 0 value for these resturants as they may have been \n",
    "        #recently opened or details does not exist in FourSquare Database\n",
    "        id,name,likes,rating,tips=[0]*5\n",
    "    print('(',count,'/',len(indian_rest),')','processed')\n",
    "    indian_rest_stats = indian_rest_stats.append({'Borough': Borough,\n",
    "                                                'Neighborhood': Neighborhood, \n",
    "                                                'ID': id,\n",
    "                                                'Name' : name,\n",
    "                                                'Likes' : likes,\n",
    "                                                'Rating' : rating,\n",
    "                                                'Tips' : tips\n",
    "                                               }, ignore_index=True)\n",
    "    count+=1"
   ]
  },
  {
   "cell_type": "code",
   "execution_count": 69,
   "metadata": {},
   "outputs": [
    {
     "data": {
      "text/html": [
       "<div>\n",
       "<style scoped>\n",
       "    .dataframe tbody tr th:only-of-type {\n",
       "        vertical-align: middle;\n",
       "    }\n",
       "\n",
       "    .dataframe tbody tr th {\n",
       "        vertical-align: top;\n",
       "    }\n",
       "\n",
       "    .dataframe thead th {\n",
       "        text-align: right;\n",
       "    }\n",
       "</style>\n",
       "<table border=\"1\" class=\"dataframe\">\n",
       "  <thead>\n",
       "    <tr style=\"text-align: right;\">\n",
       "      <th></th>\n",
       "      <th>Borough</th>\n",
       "      <th>Neighborhood</th>\n",
       "      <th>ID</th>\n",
       "      <th>Name</th>\n",
       "      <th>Likes</th>\n",
       "      <th>Rating</th>\n",
       "      <th>Tips</th>\n",
       "    </tr>\n",
       "  </thead>\n",
       "  <tbody>\n",
       "    <tr>\n",
       "      <th>0</th>\n",
       "      <td>North York</td>\n",
       "      <td>Lawrence Manor, Lawrence Heights</td>\n",
       "      <td>4fca1f88e4b07c8e3ddb22bf</td>\n",
       "      <td>Amaya Express</td>\n",
       "      <td>8.0</td>\n",
       "      <td>6.3</td>\n",
       "      <td>3.0</td>\n",
       "    </tr>\n",
       "    <tr>\n",
       "      <th>1</th>\n",
       "      <td>Downtown Toronto</td>\n",
       "      <td>Berczy Park</td>\n",
       "      <td>526c649111d2200c3216dbc2</td>\n",
       "      <td>Bindia Indian Bistro</td>\n",
       "      <td>30.0</td>\n",
       "      <td>7.3</td>\n",
       "      <td>14.0</td>\n",
       "    </tr>\n",
       "    <tr>\n",
       "      <th>2</th>\n",
       "      <td>East York</td>\n",
       "      <td>Thorncliffe Park</td>\n",
       "      <td>4bed9f2fbac3c9b6ad93fee9</td>\n",
       "      <td>Hakka Garden</td>\n",
       "      <td>9.0</td>\n",
       "      <td>6.3</td>\n",
       "      <td>12.0</td>\n",
       "    </tr>\n",
       "    <tr>\n",
       "      <th>3</th>\n",
       "      <td>North York</td>\n",
       "      <td>Bedford Park, Lawrence Manor East</td>\n",
       "      <td>4d796616542ab1f75eb87c41</td>\n",
       "      <td>The Copper Chimney</td>\n",
       "      <td>14.0</td>\n",
       "      <td>7.3</td>\n",
       "      <td>15.0</td>\n",
       "    </tr>\n",
       "    <tr>\n",
       "      <th>4</th>\n",
       "      <td>Central Toronto</td>\n",
       "      <td>The Annex, North Midtown, Yorkville</td>\n",
       "      <td>4c62c59ce1621b8dd0332453</td>\n",
       "      <td>Roti Cuisine of India</td>\n",
       "      <td>39.0</td>\n",
       "      <td>8.4</td>\n",
       "      <td>19.0</td>\n",
       "    </tr>\n",
       "    <tr>\n",
       "      <th>5</th>\n",
       "      <td>Mississauga</td>\n",
       "      <td>Enclave of L4W</td>\n",
       "      <td>4ad8a5a7f964a5203c1321e3</td>\n",
       "      <td>Little India Restaurant</td>\n",
       "      <td>127.0</td>\n",
       "      <td>7.3</td>\n",
       "      <td>73.0</td>\n",
       "    </tr>\n",
       "    <tr>\n",
       "      <th>6</th>\n",
       "      <td>Central Toronto</td>\n",
       "      <td>Davisville</td>\n",
       "      <td>5169d445e4b07de190b5c3d6</td>\n",
       "      <td>Marigold Indian Bistro</td>\n",
       "      <td>11.0</td>\n",
       "      <td>8.0</td>\n",
       "      <td>11.0</td>\n",
       "    </tr>\n",
       "    <tr>\n",
       "      <th>7</th>\n",
       "      <td>West Toronto</td>\n",
       "      <td>Runnymede, Swansea</td>\n",
       "      <td>525e1812498e2c14b4d80b8b</td>\n",
       "      <td>Bukhara indian cuisine</td>\n",
       "      <td>6.0</td>\n",
       "      <td>7.0</td>\n",
       "      <td>3.0</td>\n",
       "    </tr>\n",
       "    <tr>\n",
       "      <th>8</th>\n",
       "      <td>Downtown Toronto Stn A</td>\n",
       "      <td>Enclave of M5E</td>\n",
       "      <td>4ad8a5a7f964a5203c1321e3</td>\n",
       "      <td>Little India Restaurant</td>\n",
       "      <td>127.0</td>\n",
       "      <td>7.3</td>\n",
       "      <td>73.0</td>\n",
       "    </tr>\n",
       "    <tr>\n",
       "      <th>9</th>\n",
       "      <td>Downtown Toronto</td>\n",
       "      <td>St. James Town, Cabbagetown</td>\n",
       "      <td>4c8c21fdf0ce236ab28e15ef</td>\n",
       "      <td>Butter Chicken Factory</td>\n",
       "      <td>16.0</td>\n",
       "      <td>7.9</td>\n",
       "      <td>11.0</td>\n",
       "    </tr>\n",
       "    <tr>\n",
       "      <th>10</th>\n",
       "      <td>Downtown Toronto</td>\n",
       "      <td>Church and Wellesley</td>\n",
       "      <td>4bedf8b5e24d20a17b567214</td>\n",
       "      <td>Kothur Indian Cuisine</td>\n",
       "      <td>16.0</td>\n",
       "      <td>8.0</td>\n",
       "      <td>19.0</td>\n",
       "    </tr>\n",
       "    <tr>\n",
       "      <th>11</th>\n",
       "      <td>East Toronto Business</td>\n",
       "      <td>Enclave of M4L</td>\n",
       "      <td>4ad8a5a7f964a5203c1321e3</td>\n",
       "      <td>Little India Restaurant</td>\n",
       "      <td>127.0</td>\n",
       "      <td>7.3</td>\n",
       "      <td>73.0</td>\n",
       "    </tr>\n",
       "  </tbody>\n",
       "</table>\n",
       "</div>"
      ],
      "text/plain": [
       "                   Borough                         Neighborhood  \\\n",
       "0               North York     Lawrence Manor, Lawrence Heights   \n",
       "1         Downtown Toronto                          Berczy Park   \n",
       "2                East York                     Thorncliffe Park   \n",
       "3               North York    Bedford Park, Lawrence Manor East   \n",
       "4          Central Toronto  The Annex, North Midtown, Yorkville   \n",
       "5              Mississauga                       Enclave of L4W   \n",
       "6          Central Toronto                           Davisville   \n",
       "7             West Toronto                   Runnymede, Swansea   \n",
       "8   Downtown Toronto Stn A                       Enclave of M5E   \n",
       "9         Downtown Toronto          St. James Town, Cabbagetown   \n",
       "10        Downtown Toronto                 Church and Wellesley   \n",
       "11   East Toronto Business                       Enclave of M4L   \n",
       "\n",
       "                          ID                     Name  Likes  Rating  Tips  \n",
       "0   4fca1f88e4b07c8e3ddb22bf            Amaya Express    8.0     6.3   3.0  \n",
       "1   526c649111d2200c3216dbc2     Bindia Indian Bistro   30.0     7.3  14.0  \n",
       "2   4bed9f2fbac3c9b6ad93fee9             Hakka Garden    9.0     6.3  12.0  \n",
       "3   4d796616542ab1f75eb87c41       The Copper Chimney   14.0     7.3  15.0  \n",
       "4   4c62c59ce1621b8dd0332453    Roti Cuisine of India   39.0     8.4  19.0  \n",
       "5   4ad8a5a7f964a5203c1321e3  Little India Restaurant  127.0     7.3  73.0  \n",
       "6   5169d445e4b07de190b5c3d6   Marigold Indian Bistro   11.0     8.0  11.0  \n",
       "7   525e1812498e2c14b4d80b8b   Bukhara indian cuisine    6.0     7.0   3.0  \n",
       "8   4ad8a5a7f964a5203c1321e3  Little India Restaurant  127.0     7.3  73.0  \n",
       "9   4c8c21fdf0ce236ab28e15ef   Butter Chicken Factory   16.0     7.9  11.0  \n",
       "10  4bedf8b5e24d20a17b567214    Kothur Indian Cuisine   16.0     8.0  19.0  \n",
       "11  4ad8a5a7f964a5203c1321e3  Little India Restaurant  127.0     7.3  73.0  "
      ]
     },
     "execution_count": 69,
     "metadata": {},
     "output_type": "execute_result"
    }
   ],
   "source": [
    "indian_rest_stats"
   ]
  },
  {
   "cell_type": "code",
   "execution_count": 33,
   "metadata": {},
   "outputs": [],
   "source": [
    "indian_rest_stats.to_excel(\"D:Vaishali/Data/IndianRestaurantsStats.xlsx\", index=False)"
   ]
  },
  {
   "cell_type": "markdown",
   "metadata": {},
   "source": [
    "##### Checking the statistical information of the Indian restaurant dataframe:"
   ]
  },
  {
   "cell_type": "code",
   "execution_count": 34,
   "metadata": {},
   "outputs": [
    {
     "data": {
      "text/plain": [
       "(12, 7)"
      ]
     },
     "execution_count": 34,
     "metadata": {},
     "output_type": "execute_result"
    }
   ],
   "source": [
    "indian_rest_stats.shape"
   ]
  },
  {
   "cell_type": "code",
   "execution_count": 35,
   "metadata": {},
   "outputs": [
    {
     "name": "stdout",
     "output_type": "stream",
     "text": [
      "<class 'pandas.core.frame.DataFrame'>\n",
      "RangeIndex: 12 entries, 0 to 11\n",
      "Data columns (total 7 columns):\n",
      " #   Column        Non-Null Count  Dtype  \n",
      "---  ------        --------------  -----  \n",
      " 0   Borough       12 non-null     object \n",
      " 1   Neighborhood  12 non-null     object \n",
      " 2   ID            12 non-null     object \n",
      " 3   Name          12 non-null     object \n",
      " 4   Likes         12 non-null     object \n",
      " 5   Rating        12 non-null     float64\n",
      " 6   Tips          12 non-null     object \n",
      "dtypes: float64(1), object(6)\n",
      "memory usage: 800.0+ bytes\n"
     ]
    }
   ],
   "source": [
    "indian_rest_stats.info()"
   ]
  },
  {
   "cell_type": "code",
   "execution_count": 36,
   "metadata": {},
   "outputs": [
    {
     "name": "stdout",
     "output_type": "stream",
     "text": [
      "<class 'pandas.core.frame.DataFrame'>\n",
      "RangeIndex: 12 entries, 0 to 11\n",
      "Data columns (total 7 columns):\n",
      " #   Column        Non-Null Count  Dtype  \n",
      "---  ------        --------------  -----  \n",
      " 0   Borough       12 non-null     object \n",
      " 1   Neighborhood  12 non-null     object \n",
      " 2   ID            12 non-null     object \n",
      " 3   Name          12 non-null     object \n",
      " 4   Likes         12 non-null     float64\n",
      " 5   Rating        12 non-null     float64\n",
      " 6   Tips          12 non-null     float64\n",
      "dtypes: float64(3), object(4)\n",
      "memory usage: 800.0+ bytes\n"
     ]
    }
   ],
   "source": [
    "indian_rest_stats['Likes'] = indian_rest_stats['Likes'].astype('float64')\n",
    "indian_rest_stats['Tips'] = indian_rest_stats['Tips'].astype('float64')\n",
    "indian_rest_stats.info()"
   ]
  },
  {
   "cell_type": "code",
   "execution_count": 37,
   "metadata": {},
   "outputs": [
    {
     "data": {
      "text/html": [
       "<div>\n",
       "<style scoped>\n",
       "    .dataframe tbody tr th:only-of-type {\n",
       "        vertical-align: middle;\n",
       "    }\n",
       "\n",
       "    .dataframe tbody tr th {\n",
       "        vertical-align: top;\n",
       "    }\n",
       "\n",
       "    .dataframe thead th {\n",
       "        text-align: right;\n",
       "    }\n",
       "</style>\n",
       "<table border=\"1\" class=\"dataframe\">\n",
       "  <thead>\n",
       "    <tr style=\"text-align: right;\">\n",
       "      <th></th>\n",
       "      <th>Likes</th>\n",
       "      <th>Rating</th>\n",
       "      <th>Tips</th>\n",
       "    </tr>\n",
       "  </thead>\n",
       "  <tbody>\n",
       "    <tr>\n",
       "      <th>count</th>\n",
       "      <td>12.000000</td>\n",
       "      <td>12.000000</td>\n",
       "      <td>12.000000</td>\n",
       "    </tr>\n",
       "    <tr>\n",
       "      <th>mean</th>\n",
       "      <td>44.166667</td>\n",
       "      <td>7.366667</td>\n",
       "      <td>27.166667</td>\n",
       "    </tr>\n",
       "    <tr>\n",
       "      <th>std</th>\n",
       "      <td>50.820242</td>\n",
       "      <td>0.645732</td>\n",
       "      <td>28.086986</td>\n",
       "    </tr>\n",
       "    <tr>\n",
       "      <th>min</th>\n",
       "      <td>6.000000</td>\n",
       "      <td>6.300000</td>\n",
       "      <td>3.000000</td>\n",
       "    </tr>\n",
       "    <tr>\n",
       "      <th>25%</th>\n",
       "      <td>10.500000</td>\n",
       "      <td>7.225000</td>\n",
       "      <td>11.000000</td>\n",
       "    </tr>\n",
       "    <tr>\n",
       "      <th>50%</th>\n",
       "      <td>16.000000</td>\n",
       "      <td>7.300000</td>\n",
       "      <td>14.500000</td>\n",
       "    </tr>\n",
       "    <tr>\n",
       "      <th>75%</th>\n",
       "      <td>61.000000</td>\n",
       "      <td>7.925000</td>\n",
       "      <td>32.500000</td>\n",
       "    </tr>\n",
       "    <tr>\n",
       "      <th>max</th>\n",
       "      <td>127.000000</td>\n",
       "      <td>8.400000</td>\n",
       "      <td>73.000000</td>\n",
       "    </tr>\n",
       "  </tbody>\n",
       "</table>\n",
       "</div>"
      ],
      "text/plain": [
       "            Likes     Rating       Tips\n",
       "count   12.000000  12.000000  12.000000\n",
       "mean    44.166667   7.366667  27.166667\n",
       "std     50.820242   0.645732  28.086986\n",
       "min      6.000000   6.300000   3.000000\n",
       "25%     10.500000   7.225000  11.000000\n",
       "50%     16.000000   7.300000  14.500000\n",
       "75%     61.000000   7.925000  32.500000\n",
       "max    127.000000   8.400000  73.000000"
      ]
     },
     "execution_count": 37,
     "metadata": {},
     "output_type": "execute_result"
    }
   ],
   "source": [
    "indian_rest_stats.describe()"
   ]
  },
  {
   "cell_type": "code",
   "execution_count": 38,
   "metadata": {},
   "outputs": [
    {
     "data": {
      "text/plain": [
       "Borough                      Mississauga\n",
       "Neighborhood              Enclave of L4W\n",
       "ID              4ad8a5a7f964a5203c1321e3\n",
       "Name             Little India Restaurant\n",
       "Likes                              127.0\n",
       "Rating                               7.3\n",
       "Tips                                73.0\n",
       "Name: 5, dtype: object"
      ]
     },
     "execution_count": 38,
     "metadata": {},
     "output_type": "execute_result"
    }
   ],
   "source": [
    "indian_rest_stats.iloc[indian_rest_stats['Likes'].idxmax()]"
   ]
  },
  {
   "cell_type": "code",
   "execution_count": 39,
   "metadata": {},
   "outputs": [
    {
     "data": {
      "text/plain": [
       "Borough                             Central Toronto\n",
       "Neighborhood    The Annex, North Midtown, Yorkville\n",
       "ID                         4c62c59ce1621b8dd0332453\n",
       "Name                          Roti Cuisine of India\n",
       "Likes                                          39.0\n",
       "Rating                                          8.4\n",
       "Tips                                           19.0\n",
       "Name: 4, dtype: object"
      ]
     },
     "execution_count": 39,
     "metadata": {},
     "output_type": "execute_result"
    }
   ],
   "source": [
    "indian_rest_stats.iloc[indian_rest_stats['Rating'].idxmax()]"
   ]
  },
  {
   "cell_type": "code",
   "execution_count": 40,
   "metadata": {},
   "outputs": [
    {
     "data": {
      "text/plain": [
       "Borough                      Mississauga\n",
       "Neighborhood              Enclave of L4W\n",
       "ID              4ad8a5a7f964a5203c1321e3\n",
       "Name             Little India Restaurant\n",
       "Likes                              127.0\n",
       "Rating                               7.3\n",
       "Tips                                73.0\n",
       "Name: 5, dtype: object"
      ]
     },
     "execution_count": 40,
     "metadata": {},
     "output_type": "execute_result"
    }
   ],
   "source": [
    "indian_rest_stats.iloc[indian_rest_stats['Tips'].idxmax()]"
   ]
  },
  {
   "cell_type": "markdown",
   "metadata": {},
   "source": [
    "##### Dataframe based on average rating of the Indian restaurant in a neighbourhood:"
   ]
  },
  {
   "cell_type": "code",
   "execution_count": 42,
   "metadata": {},
   "outputs": [
    {
     "data": {
      "text/html": [
       "<div>\n",
       "<style scoped>\n",
       "    .dataframe tbody tr th:only-of-type {\n",
       "        vertical-align: middle;\n",
       "    }\n",
       "\n",
       "    .dataframe tbody tr th {\n",
       "        vertical-align: top;\n",
       "    }\n",
       "\n",
       "    .dataframe thead th {\n",
       "        text-align: right;\n",
       "    }\n",
       "</style>\n",
       "<table border=\"1\" class=\"dataframe\">\n",
       "  <thead>\n",
       "    <tr style=\"text-align: right;\">\n",
       "      <th></th>\n",
       "      <th>Neighborhood</th>\n",
       "      <th>Average Rating</th>\n",
       "    </tr>\n",
       "  </thead>\n",
       "  <tbody>\n",
       "    <tr>\n",
       "      <th>10</th>\n",
       "      <td>The Annex, North Midtown, Yorkville</td>\n",
       "      <td>8.4</td>\n",
       "    </tr>\n",
       "    <tr>\n",
       "      <th>2</th>\n",
       "      <td>Church and Wellesley</td>\n",
       "      <td>8.0</td>\n",
       "    </tr>\n",
       "    <tr>\n",
       "      <th>3</th>\n",
       "      <td>Davisville</td>\n",
       "      <td>8.0</td>\n",
       "    </tr>\n",
       "    <tr>\n",
       "      <th>9</th>\n",
       "      <td>St. James Town, Cabbagetown</td>\n",
       "      <td>7.9</td>\n",
       "    </tr>\n",
       "    <tr>\n",
       "      <th>0</th>\n",
       "      <td>Bedford Park, Lawrence Manor East</td>\n",
       "      <td>7.3</td>\n",
       "    </tr>\n",
       "    <tr>\n",
       "      <th>1</th>\n",
       "      <td>Berczy Park</td>\n",
       "      <td>7.3</td>\n",
       "    </tr>\n",
       "    <tr>\n",
       "      <th>4</th>\n",
       "      <td>Enclave of L4W</td>\n",
       "      <td>7.3</td>\n",
       "    </tr>\n",
       "    <tr>\n",
       "      <th>5</th>\n",
       "      <td>Enclave of M4L</td>\n",
       "      <td>7.3</td>\n",
       "    </tr>\n",
       "    <tr>\n",
       "      <th>6</th>\n",
       "      <td>Enclave of M5E</td>\n",
       "      <td>7.3</td>\n",
       "    </tr>\n",
       "    <tr>\n",
       "      <th>8</th>\n",
       "      <td>Runnymede, Swansea</td>\n",
       "      <td>7.0</td>\n",
       "    </tr>\n",
       "    <tr>\n",
       "      <th>7</th>\n",
       "      <td>Lawrence Manor, Lawrence Heights</td>\n",
       "      <td>6.3</td>\n",
       "    </tr>\n",
       "    <tr>\n",
       "      <th>11</th>\n",
       "      <td>Thorncliffe Park</td>\n",
       "      <td>6.3</td>\n",
       "    </tr>\n",
       "  </tbody>\n",
       "</table>\n",
       "</div>"
      ],
      "text/plain": [
       "                           Neighborhood  Average Rating\n",
       "10  The Annex, North Midtown, Yorkville             8.4\n",
       "2                  Church and Wellesley             8.0\n",
       "3                            Davisville             8.0\n",
       "9           St. James Town, Cabbagetown             7.9\n",
       "0     Bedford Park, Lawrence Manor East             7.3\n",
       "1                           Berczy Park             7.3\n",
       "4                        Enclave of L4W             7.3\n",
       "5                        Enclave of M4L             7.3\n",
       "6                        Enclave of M5E             7.3\n",
       "8                    Runnymede, Swansea             7.0\n",
       "7      Lawrence Manor, Lawrence Heights             6.3\n",
       "11                     Thorncliffe Park             6.3"
      ]
     },
     "execution_count": 42,
     "metadata": {},
     "output_type": "execute_result"
    }
   ],
   "source": [
    "neighborhood_stats=indian_rest_stats.groupby('Neighborhood',as_index=False).mean()[['Neighborhood','Rating']]\n",
    "neighborhood_stats.columns=['Neighborhood','Average Rating']\n",
    "neighborhood_stats.sort_values(['Average Rating'],ascending=False)"
   ]
  },
  {
   "cell_type": "markdown",
   "metadata": {},
   "source": [
    "##### Dataframe based on average rating of the Indian restaurant in a borough:"
   ]
  },
  {
   "cell_type": "code",
   "execution_count": 62,
   "metadata": {},
   "outputs": [
    {
     "data": {
      "text/html": [
       "<div>\n",
       "<style scoped>\n",
       "    .dataframe tbody tr th:only-of-type {\n",
       "        vertical-align: middle;\n",
       "    }\n",
       "\n",
       "    .dataframe tbody tr th {\n",
       "        vertical-align: top;\n",
       "    }\n",
       "\n",
       "    .dataframe thead th {\n",
       "        text-align: right;\n",
       "    }\n",
       "</style>\n",
       "<table border=\"1\" class=\"dataframe\">\n",
       "  <thead>\n",
       "    <tr style=\"text-align: right;\">\n",
       "      <th></th>\n",
       "      <th>Borough</th>\n",
       "      <th>Average Rating</th>\n",
       "    </tr>\n",
       "  </thead>\n",
       "  <tbody>\n",
       "    <tr>\n",
       "      <th>0</th>\n",
       "      <td>Central Toronto</td>\n",
       "      <td>8.200000</td>\n",
       "    </tr>\n",
       "    <tr>\n",
       "      <th>1</th>\n",
       "      <td>Downtown Toronto</td>\n",
       "      <td>7.733333</td>\n",
       "    </tr>\n",
       "    <tr>\n",
       "      <th>2</th>\n",
       "      <td>Downtown Toronto Stn A</td>\n",
       "      <td>7.300000</td>\n",
       "    </tr>\n",
       "    <tr>\n",
       "      <th>3</th>\n",
       "      <td>East Toronto Business</td>\n",
       "      <td>7.300000</td>\n",
       "    </tr>\n",
       "    <tr>\n",
       "      <th>5</th>\n",
       "      <td>Mississauga</td>\n",
       "      <td>7.300000</td>\n",
       "    </tr>\n",
       "    <tr>\n",
       "      <th>7</th>\n",
       "      <td>West Toronto</td>\n",
       "      <td>7.000000</td>\n",
       "    </tr>\n",
       "    <tr>\n",
       "      <th>6</th>\n",
       "      <td>North York</td>\n",
       "      <td>6.800000</td>\n",
       "    </tr>\n",
       "    <tr>\n",
       "      <th>4</th>\n",
       "      <td>East York</td>\n",
       "      <td>6.300000</td>\n",
       "    </tr>\n",
       "  </tbody>\n",
       "</table>\n",
       "</div>"
      ],
      "text/plain": [
       "                  Borough  Average Rating\n",
       "0         Central Toronto        8.200000\n",
       "1        Downtown Toronto        7.733333\n",
       "2  Downtown Toronto Stn A        7.300000\n",
       "3   East Toronto Business        7.300000\n",
       "5             Mississauga        7.300000\n",
       "7            West Toronto        7.000000\n",
       "6              North York        6.800000\n",
       "4               East York        6.300000"
      ]
     },
     "execution_count": 62,
     "metadata": {},
     "output_type": "execute_result"
    }
   ],
   "source": [
    "borough_stats=indian_rest_stats.groupby('Borough',as_index=False).mean()[['Borough','Rating']]\n",
    "borough_stats.columns=['Borough','Average Rating']\n",
    "borough_stats.sort_values(['Average Rating'],ascending=False)"
   ]
  },
  {
   "cell_type": "markdown",
   "metadata": {},
   "source": [
    "#### Visualising average rating of Indian restaurants for each borough:"
   ]
  },
  {
   "cell_type": "code",
   "execution_count": 50,
   "metadata": {},
   "outputs": [
    {
     "data": {
      "image/png": "[encoded data removed]",
      "text/plain": [
       "<Figure size 900x500 with 1 Axes>"
      ]
     },
     "metadata": {
      "needs_background": "light"
     },
     "output_type": "display_data"
    }
   ],
   "source": [
    "plt.figure(figsize=(9,5), dpi = 100)\n",
    "plt.title('Average rating of Indian Restaurants for each Borough')\n",
    "plt.xlabel('Borough', fontsize = 15)\n",
    "plt.ylabel('Average Rating', fontsize=15)\n",
    "indian_rest_stats.groupby('Borough').mean()['Rating'].plot(kind='bar', color='#0A1054')\n",
    "plt.legend()\n",
    "plt.show()"
   ]
  },
  {
   "cell_type": "code",
   "execution_count": 63,
   "metadata": {},
   "outputs": [
    {
     "data": {
      "text/html": [
       "<div>\n",
       "<style scoped>\n",
       "    .dataframe tbody tr th:only-of-type {\n",
       "        vertical-align: middle;\n",
       "    }\n",
       "\n",
       "    .dataframe tbody tr th {\n",
       "        vertical-align: top;\n",
       "    }\n",
       "\n",
       "    .dataframe thead th {\n",
       "        text-align: right;\n",
       "    }\n",
       "</style>\n",
       "<table border=\"1\" class=\"dataframe\">\n",
       "  <thead>\n",
       "    <tr style=\"text-align: right;\">\n",
       "      <th></th>\n",
       "      <th>Borough_x</th>\n",
       "      <th>Neighborhood</th>\n",
       "      <th>Latitude_x</th>\n",
       "      <th>Longitude_x</th>\n",
       "      <th>Average Rating</th>\n",
       "      <th>Borough_y</th>\n",
       "      <th>Latitude_y</th>\n",
       "      <th>Longitude_y</th>\n",
       "    </tr>\n",
       "  </thead>\n",
       "  <tbody>\n",
       "    <tr>\n",
       "      <th>0</th>\n",
       "      <td>North York</td>\n",
       "      <td>Bedford Park, Lawrence Manor East</td>\n",
       "      <td>43.73545</td>\n",
       "      <td>-79.41916</td>\n",
       "      <td>7.3</td>\n",
       "      <td>North York</td>\n",
       "      <td>43.73545</td>\n",
       "      <td>-79.41916</td>\n",
       "    </tr>\n",
       "    <tr>\n",
       "      <th>1</th>\n",
       "      <td>Downtown Toronto</td>\n",
       "      <td>Berczy Park</td>\n",
       "      <td>43.64536</td>\n",
       "      <td>-79.37306</td>\n",
       "      <td>7.3</td>\n",
       "      <td>Downtown Toronto</td>\n",
       "      <td>43.64536</td>\n",
       "      <td>-79.37306</td>\n",
       "    </tr>\n",
       "    <tr>\n",
       "      <th>2</th>\n",
       "      <td>Downtown Toronto</td>\n",
       "      <td>Church and Wellesley</td>\n",
       "      <td>43.66659</td>\n",
       "      <td>-79.38133</td>\n",
       "      <td>8.0</td>\n",
       "      <td>Downtown Toronto</td>\n",
       "      <td>43.66659</td>\n",
       "      <td>-79.38133</td>\n",
       "    </tr>\n",
       "    <tr>\n",
       "      <th>3</th>\n",
       "      <td>Central Toronto</td>\n",
       "      <td>Davisville</td>\n",
       "      <td>43.70340</td>\n",
       "      <td>-79.38659</td>\n",
       "      <td>8.0</td>\n",
       "      <td>Central Toronto</td>\n",
       "      <td>43.70340</td>\n",
       "      <td>-79.38659</td>\n",
       "    </tr>\n",
       "    <tr>\n",
       "      <th>4</th>\n",
       "      <td>Mississauga</td>\n",
       "      <td>Enclave of L4W</td>\n",
       "      <td>43.64869</td>\n",
       "      <td>-79.38544</td>\n",
       "      <td>7.3</td>\n",
       "      <td>Mississauga</td>\n",
       "      <td>43.64869</td>\n",
       "      <td>-79.38544</td>\n",
       "    </tr>\n",
       "    <tr>\n",
       "      <th>5</th>\n",
       "      <td>East Toronto Business</td>\n",
       "      <td>Enclave of M4L</td>\n",
       "      <td>43.64869</td>\n",
       "      <td>-79.38544</td>\n",
       "      <td>7.3</td>\n",
       "      <td>East Toronto Business</td>\n",
       "      <td>43.64869</td>\n",
       "      <td>-79.38544</td>\n",
       "    </tr>\n",
       "    <tr>\n",
       "      <th>6</th>\n",
       "      <td>Downtown Toronto Stn A</td>\n",
       "      <td>Enclave of M5E</td>\n",
       "      <td>43.64869</td>\n",
       "      <td>-79.38544</td>\n",
       "      <td>7.3</td>\n",
       "      <td>Downtown Toronto Stn A</td>\n",
       "      <td>43.64869</td>\n",
       "      <td>-79.38544</td>\n",
       "    </tr>\n",
       "    <tr>\n",
       "      <th>7</th>\n",
       "      <td>West Toronto</td>\n",
       "      <td>Runnymede, Swansea</td>\n",
       "      <td>43.64982</td>\n",
       "      <td>-79.47548</td>\n",
       "      <td>7.0</td>\n",
       "      <td>West Toronto</td>\n",
       "      <td>43.64982</td>\n",
       "      <td>-79.47548</td>\n",
       "    </tr>\n",
       "    <tr>\n",
       "      <th>8</th>\n",
       "      <td>Downtown Toronto</td>\n",
       "      <td>St. James Town, Cabbagetown</td>\n",
       "      <td>43.66788</td>\n",
       "      <td>-79.36649</td>\n",
       "      <td>7.9</td>\n",
       "      <td>Downtown Toronto</td>\n",
       "      <td>43.66788</td>\n",
       "      <td>-79.36649</td>\n",
       "    </tr>\n",
       "    <tr>\n",
       "      <th>9</th>\n",
       "      <td>Central Toronto</td>\n",
       "      <td>The Annex, North Midtown, Yorkville</td>\n",
       "      <td>43.67484</td>\n",
       "      <td>-79.40452</td>\n",
       "      <td>8.4</td>\n",
       "      <td>Central Toronto</td>\n",
       "      <td>43.67484</td>\n",
       "      <td>-79.40452</td>\n",
       "    </tr>\n",
       "  </tbody>\n",
       "</table>\n",
       "</div>"
      ],
      "text/plain": [
       "                Borough_x                         Neighborhood  Latitude_x  \\\n",
       "0              North York    Bedford Park, Lawrence Manor East    43.73545   \n",
       "1        Downtown Toronto                          Berczy Park    43.64536   \n",
       "2        Downtown Toronto                 Church and Wellesley    43.66659   \n",
       "3         Central Toronto                           Davisville    43.70340   \n",
       "4             Mississauga                       Enclave of L4W    43.64869   \n",
       "5   East Toronto Business                       Enclave of M4L    43.64869   \n",
       "6  Downtown Toronto Stn A                       Enclave of M5E    43.64869   \n",
       "7            West Toronto                   Runnymede, Swansea    43.64982   \n",
       "8        Downtown Toronto          St. James Town, Cabbagetown    43.66788   \n",
       "9         Central Toronto  The Annex, North Midtown, Yorkville    43.67484   \n",
       "\n",
       "   Longitude_x  Average Rating               Borough_y  Latitude_y  \\\n",
       "0    -79.41916             7.3              North York    43.73545   \n",
       "1    -79.37306             7.3        Downtown Toronto    43.64536   \n",
       "2    -79.38133             8.0        Downtown Toronto    43.66659   \n",
       "3    -79.38659             8.0         Central Toronto    43.70340   \n",
       "4    -79.38544             7.3             Mississauga    43.64869   \n",
       "5    -79.38544             7.3   East Toronto Business    43.64869   \n",
       "6    -79.38544             7.3  Downtown Toronto Stn A    43.64869   \n",
       "7    -79.47548             7.0            West Toronto    43.64982   \n",
       "8    -79.36649             7.9        Downtown Toronto    43.66788   \n",
       "9    -79.40452             8.4         Central Toronto    43.67484   \n",
       "\n",
       "   Longitude_y  \n",
       "0    -79.41916  \n",
       "1    -79.37306  \n",
       "2    -79.38133  \n",
       "3    -79.38659  \n",
       "4    -79.38544  \n",
       "5    -79.38544  \n",
       "6    -79.38544  \n",
       "7    -79.47548  \n",
       "8    -79.36649  \n",
       "9    -79.40452  "
      ]
     },
     "execution_count": 63,
     "metadata": {},
     "output_type": "execute_result"
    }
   ],
   "source": [
    "neighborhood_stats=neighborhood_stats[neighborhood_stats['Average Rating']>=7.0]\n",
    "neighborhood_stats"
   ]
  },
  {
   "cell_type": "code",
   "execution_count": 64,
   "metadata": {},
   "outputs": [
    {
     "data": {
      "text/html": [
       "<div>\n",
       "<style scoped>\n",
       "    .dataframe tbody tr th:only-of-type {\n",
       "        vertical-align: middle;\n",
       "    }\n",
       "\n",
       "    .dataframe tbody tr th {\n",
       "        vertical-align: top;\n",
       "    }\n",
       "\n",
       "    .dataframe thead th {\n",
       "        text-align: right;\n",
       "    }\n",
       "</style>\n",
       "<table border=\"1\" class=\"dataframe\">\n",
       "  <thead>\n",
       "    <tr style=\"text-align: right;\">\n",
       "      <th></th>\n",
       "      <th>Borough</th>\n",
       "      <th>Neighborhood</th>\n",
       "      <th>Latitude</th>\n",
       "      <th>Longitude</th>\n",
       "      <th>Average Rating</th>\n",
       "    </tr>\n",
       "  </thead>\n",
       "  <tbody>\n",
       "    <tr>\n",
       "      <th>0</th>\n",
       "      <td>North York</td>\n",
       "      <td>Bedford Park, Lawrence Manor East</td>\n",
       "      <td>43.73545</td>\n",
       "      <td>-79.41916</td>\n",
       "      <td>7.3</td>\n",
       "    </tr>\n",
       "    <tr>\n",
       "      <th>1</th>\n",
       "      <td>Downtown Toronto</td>\n",
       "      <td>Berczy Park</td>\n",
       "      <td>43.64536</td>\n",
       "      <td>-79.37306</td>\n",
       "      <td>7.3</td>\n",
       "    </tr>\n",
       "    <tr>\n",
       "      <th>2</th>\n",
       "      <td>Downtown Toronto</td>\n",
       "      <td>Church and Wellesley</td>\n",
       "      <td>43.66659</td>\n",
       "      <td>-79.38133</td>\n",
       "      <td>8.0</td>\n",
       "    </tr>\n",
       "    <tr>\n",
       "      <th>3</th>\n",
       "      <td>Central Toronto</td>\n",
       "      <td>Davisville</td>\n",
       "      <td>43.70340</td>\n",
       "      <td>-79.38659</td>\n",
       "      <td>8.0</td>\n",
       "    </tr>\n",
       "    <tr>\n",
       "      <th>4</th>\n",
       "      <td>Mississauga</td>\n",
       "      <td>Enclave of L4W</td>\n",
       "      <td>43.64869</td>\n",
       "      <td>-79.38544</td>\n",
       "      <td>7.3</td>\n",
       "    </tr>\n",
       "    <tr>\n",
       "      <th>5</th>\n",
       "      <td>East Toronto Business</td>\n",
       "      <td>Enclave of M4L</td>\n",
       "      <td>43.64869</td>\n",
       "      <td>-79.38544</td>\n",
       "      <td>7.3</td>\n",
       "    </tr>\n",
       "    <tr>\n",
       "      <th>6</th>\n",
       "      <td>Downtown Toronto Stn A</td>\n",
       "      <td>Enclave of M5E</td>\n",
       "      <td>43.64869</td>\n",
       "      <td>-79.38544</td>\n",
       "      <td>7.3</td>\n",
       "    </tr>\n",
       "    <tr>\n",
       "      <th>7</th>\n",
       "      <td>West Toronto</td>\n",
       "      <td>Runnymede, Swansea</td>\n",
       "      <td>43.64982</td>\n",
       "      <td>-79.47548</td>\n",
       "      <td>7.0</td>\n",
       "    </tr>\n",
       "    <tr>\n",
       "      <th>8</th>\n",
       "      <td>Downtown Toronto</td>\n",
       "      <td>St. James Town, Cabbagetown</td>\n",
       "      <td>43.66788</td>\n",
       "      <td>-79.36649</td>\n",
       "      <td>7.9</td>\n",
       "    </tr>\n",
       "    <tr>\n",
       "      <th>9</th>\n",
       "      <td>Central Toronto</td>\n",
       "      <td>The Annex, North Midtown, Yorkville</td>\n",
       "      <td>43.67484</td>\n",
       "      <td>-79.40452</td>\n",
       "      <td>8.4</td>\n",
       "    </tr>\n",
       "  </tbody>\n",
       "</table>\n",
       "</div>"
      ],
      "text/plain": [
       "                  Borough                         Neighborhood  Latitude  \\\n",
       "0              North York    Bedford Park, Lawrence Manor East  43.73545   \n",
       "1        Downtown Toronto                          Berczy Park  43.64536   \n",
       "2        Downtown Toronto                 Church and Wellesley  43.66659   \n",
       "3         Central Toronto                           Davisville  43.70340   \n",
       "4             Mississauga                       Enclave of L4W  43.64869   \n",
       "5   East Toronto Business                       Enclave of M4L  43.64869   \n",
       "6  Downtown Toronto Stn A                       Enclave of M5E  43.64869   \n",
       "7            West Toronto                   Runnymede, Swansea  43.64982   \n",
       "8        Downtown Toronto          St. James Town, Cabbagetown  43.66788   \n",
       "9         Central Toronto  The Annex, North Midtown, Yorkville  43.67484   \n",
       "\n",
       "   Longitude  Average Rating  \n",
       "0  -79.41916             7.3  \n",
       "1  -79.37306             7.3  \n",
       "2  -79.38133             8.0  \n",
       "3  -79.38659             8.0  \n",
       "4  -79.38544             7.3  \n",
       "5  -79.38544             7.3  \n",
       "6  -79.38544             7.3  \n",
       "7  -79.47548             7.0  \n",
       "8  -79.36649             7.9  \n",
       "9  -79.40452             8.4  "
      ]
     },
     "execution_count": 64,
     "metadata": {},
     "output_type": "execute_result"
    }
   ],
   "source": [
    "neighborhood_stats=pd.merge(neighborhood_stats,frame, on='Neighborhood')\n",
    "neighborhood_stats=neighborhood_stats[['Borough','Neighborhood','Latitude','Longitude','Average Rating']]\n",
    "neighborhood_stats"
   ]
  },
  {
   "cell_type": "markdown",
   "metadata": {},
   "source": [
    "### PLOTTING THE RESTAURANTS ON THE FOLIUM MAPS:"
   ]
  },
  {
   "cell_type": "code",
   "execution_count": 65,
   "metadata": {},
   "outputs": [],
   "source": [
    "i_map = folium.Map(location=[43.66659,-79.38133], zoom_start=12)\n",
    "# instantiate a feature group for the ratings in the dataframe\n",
    "rating = folium.map.FeatureGroup()\n",
    "\n",
    "# loop through the ratings and add each to the neighborhood feature group\n",
    "for lat, lng, in neighborhood_stats[['Latitude','Longitude']].values:\n",
    "    rating.add_child(\n",
    "        folium.CircleMarker(\n",
    "            [lat, lng],\n",
    "            radius=10, # define how big you want the circle markers to be\n",
    "            color='yellow',\n",
    "            fill=True,\n",
    "            fill_color='blue',\n",
    "            fill_opacity=0.6\n",
    "        )\n",
    "    )"
   ]
  },
  {
   "cell_type": "code",
   "execution_count": 66,
   "metadata": {},
   "outputs": [
    {
     "data": {
      "text/html": [
       "<div style=\"width:100%;\"><div style=\"position:relative;width:100%;height:0;padding-bottom:60%;\"><span style=\"color:#565656\">Make this Notebook Trusted to load map: File -> Trust Notebook</span><iframe src=\"about:blank\" style=\"position:absolute;width:100%;height:100%;left:0;top:0;border:none !important;\" data-html=%3C%21DOCTYPE%20html%3E%0A%3Chead%3E%20%20%20%20%0A%20%20%20%20%3Cmeta%20http-equiv%3D%22content-type%22%20content%3D%22text/html%3B%20charset%3DUTF-8%22%20/%3E%0A%20%20%20%20%0A%20%20%20%20%20%20%20%20%3Cscript%3E%0A%20%20%20%20%20%20%20%20%20%20%20%20L_NO_TOUCH%20%3D%20false%3B%0A%20%20%20%20%20%20%20%20%20%20%20%20L_DISABLE_3D%20%3D%20false%3B%0A%20%20%20%20%20%20%20%20%3C/script%3E%0A%20%20%20%20%0A%20%20%20%20%3Cstyle%3Ehtml%2C%20body%20%7Bwidth%3A%20100%25%3Bheight%3A%20100%25%3Bmargin%3A%200%3Bpadding%3A%200%3B%7D%3C/style%3E%0A%20%20%20%20%3Cstyle%3E%23map%20%7Bposition%3Aabsolute%3Btop%3A0%3Bbottom%3A0%3Bright%3A0%3Bleft%3A0%3B%7D%3C/style%3E%0A%20%20%20%20%3Cscript%20src%3D%22https%3A//cdn.jsdelivr.net/npm/leaflet%401.6.0/dist/leaflet.js%22%3E%3C/script%3E%0A%20%20%20%20%3Cscript%20src%3D%22https%3A//code.jquery.com/jquery-1.12.4.min.js%22%3E%3C/script%3E%0A%20%20%20%20%3Cscript%20src%3D%22https%3A//maxcdn.bootstrapcdn.com/bootstrap/3.2.0/js/bootstrap.min.js%22%3E%3C/script%3E%0A%20%20%20%20%3Cscript%20src%3D%22https%3A//cdnjs.cloudflare.com/ajax/libs/Leaflet.awesome-markers/2.0.2/leaflet.awesome-markers.js%22%3E%3C/script%3E%0A%20%20%20%20%3Clink%20rel%3D%22stylesheet%22%20href%3D%22https%3A//cdn.jsdelivr.net/npm/leaflet%401.6.0/dist/leaflet.css%22/%3E%0A%20%20%20%20%3Clink%20rel%3D%22stylesheet%22%20href%3D%22https%3A//maxcdn.bootstrapcdn.com/bootstrap/3.2.0/css/bootstrap.min.css%22/%3E%0A%20%20%20%20%3Clink%20rel%3D%22stylesheet%22%20href%3D%22https%3A//maxcdn.bootstrapcdn.com/bootstrap/3.2.0/css/bootstrap-theme.min.css%22/%3E%0A%20%20%20%20%3Clink%20rel%3D%22stylesheet%22%20href%3D%22https%3A//maxcdn.bootstrapcdn.com/font-awesome/4.6.3/css/font-awesome.min.css%22/%3E%0A%20%20%20%20%3Clink%20rel%3D%22stylesheet%22%20href%3D%22https%3A//cdnjs.cloudflare.com/ajax/libs/Leaflet.awesome-markers/2.0.2/leaflet.awesome-markers.css%22/%3E%0A%20%20%20%20%3Clink%20rel%3D%22stylesheet%22%20href%3D%22https%3A//cdn.jsdelivr.net/gh/python-visualization/folium/folium/templates/leaflet.awesome.rotate.min.css%22/%3E%0A%20%20%20%20%0A%20%20%20%20%20%20%20%20%20%20%20%20%3Cmeta%20name%3D%22viewport%22%20content%3D%22width%3Ddevice-width%2C%0A%20%20%20%20%20%20%20%20%20%20%20%20%20%20%20%20initial-scale%3D1.0%2C%20maximum-scale%3D1.0%2C%20user-scalable%3Dno%22%20/%3E%0A%20%20%20%20%20%20%20%20%20%20%20%20%3Cstyle%3E%0A%20%20%20%20%20%20%20%20%20%20%20%20%20%20%20%20%23map_6f1f5e617f6548c98136320fb475facc%20%7B%0A%20%20%20%20%20%20%20%20%20%20%20%20%20%20%20%20%20%20%20%20position%3A%20relative%3B%0A%20%20%20%20%20%20%20%20%20%20%20%20%20%20%20%20%20%20%20%20width%3A%20100.0%25%3B%0A%20%20%20%20%20%20%20%20%20%20%20%20%20%20%20%20%20%20%20%20height%3A%20100.0%25%3B%0A%20%20%20%20%20%20%20%20%20%20%20%20%20%20%20%20%20%20%20%20left%3A%200.0%25%3B%0A%20%20%20%20%20%20%20%20%20%20%20%20%20%20%20%20%20%20%20%20top%3A%200.0%25%3B%0A%20%20%20%20%20%20%20%20%20%20%20%20%20%20%20%20%7D%0A%20%20%20%20%20%20%20%20%20%20%20%20%3C/style%3E%0A%20%20%20%20%20%20%20%20%0A%3C/head%3E%0A%3Cbody%3E%20%20%20%20%0A%20%20%20%20%0A%20%20%20%20%20%20%20%20%20%20%20%20%3Cdiv%20class%3D%22folium-map%22%20id%3D%22map_6f1f5e617f6548c98136320fb475facc%22%20%3E%3C/div%3E%0A%20%20%20%20%20%20%20%20%0A%3C/body%3E%0A%3Cscript%3E%20%20%20%20%0A%20%20%20%20%0A%20%20%20%20%20%20%20%20%20%20%20%20var%20map_6f1f5e617f6548c98136320fb475facc%20%3D%20L.map%28%0A%20%20%20%20%20%20%20%20%20%20%20%20%20%20%20%20%22map_6f1f5e617f6548c98136320fb475facc%22%2C%0A%20%20%20%20%20%20%20%20%20%20%20%20%20%20%20%20%7B%0A%20%20%20%20%20%20%20%20%20%20%20%20%20%20%20%20%20%20%20%20center%3A%20%5B43.66659%2C%20-79.38133%5D%2C%0A%20%20%20%20%20%20%20%20%20%20%20%20%20%20%20%20%20%20%20%20crs%3A%20L.CRS.EPSG3857%2C%0A%20%20%20%20%20%20%20%20%20%20%20%20%20%20%20%20%20%20%20%20zoom%3A%2012%2C%0A%20%20%20%20%20%20%20%20%20%20%20%20%20%20%20%20%20%20%20%20zoomControl%3A%20true%2C%0A%20%20%20%20%20%20%20%20%20%20%20%20%20%20%20%20%20%20%20%20preferCanvas%3A%20false%2C%0A%20%20%20%20%20%20%20%20%20%20%20%20%20%20%20%20%7D%0A%20%20%20%20%20%20%20%20%20%20%20%20%29%3B%0A%0A%20%20%20%20%20%20%20%20%20%20%20%20%0A%0A%20%20%20%20%20%20%20%20%0A%20%20%20%20%0A%20%20%20%20%20%20%20%20%20%20%20%20var%20tile_layer_a7a468017c324088aca4a4eb657bdf3a%20%3D%20L.tileLayer%28%0A%20%20%20%20%20%20%20%20%20%20%20%20%20%20%20%20%22https%3A//%7Bs%7D.tile.openstreetmap.org/%7Bz%7D/%7Bx%7D/%7By%7D.png%22%2C%0A%20%20%20%20%20%20%20%20%20%20%20%20%20%20%20%20%7B%22attribution%22%3A%20%22Data%20by%20%5Cu0026copy%3B%20%5Cu003ca%20href%3D%5C%22http%3A//openstreetmap.org%5C%22%5Cu003eOpenStreetMap%5Cu003c/a%5Cu003e%2C%20under%20%5Cu003ca%20href%3D%5C%22http%3A//www.openstreetmap.org/copyright%5C%22%5Cu003eODbL%5Cu003c/a%5Cu003e.%22%2C%20%22detectRetina%22%3A%20false%2C%20%22maxNativeZoom%22%3A%2018%2C%20%22maxZoom%22%3A%2018%2C%20%22minZoom%22%3A%200%2C%20%22noWrap%22%3A%20false%2C%20%22opacity%22%3A%201%2C%20%22subdomains%22%3A%20%22abc%22%2C%20%22tms%22%3A%20false%7D%0A%20%20%20%20%20%20%20%20%20%20%20%20%29.addTo%28map_6f1f5e617f6548c98136320fb475facc%29%3B%0A%20%20%20%20%20%20%20%20%0A%20%20%20%20%0A%20%20%20%20%20%20%20%20%20%20%20%20var%20marker_0c0e587099474d8f82186d7fa65df820%20%3D%20L.marker%28%0A%20%20%20%20%20%20%20%20%20%20%20%20%20%20%20%20%5B43.73545000000007%2C%20-79.41915999999998%5D%2C%0A%20%20%20%20%20%20%20%20%20%20%20%20%20%20%20%20%7B%7D%0A%20%20%20%20%20%20%20%20%20%20%20%20%29.addTo%28map_6f1f5e617f6548c98136320fb475facc%29%3B%0A%20%20%20%20%20%20%20%20%0A%20%20%20%20%0A%20%20%20%20%20%20%20%20var%20popup_c1f533575b244dce9c36ec2486bf9219%20%3D%20L.popup%28%7B%22maxWidth%22%3A%20%22100%25%22%7D%29%3B%0A%0A%20%20%20%20%20%20%20%20%0A%20%20%20%20%20%20%20%20%20%20%20%20var%20html_defe057b549f40db9c0ab9cee665f07e%20%3D%20%24%28%60%3Cdiv%20id%3D%22html_defe057b549f40db9c0ab9cee665f07e%22%20style%3D%22width%3A%20100.0%25%3B%20height%3A%20100.0%25%3B%22%3EBedford%20Park%2C%20Lawrence%20Manor%20East%2C%20North%20York%287.3%29%3C/div%3E%60%29%5B0%5D%3B%0A%20%20%20%20%20%20%20%20%20%20%20%20popup_c1f533575b244dce9c36ec2486bf9219.setContent%28html_defe057b549f40db9c0ab9cee665f07e%29%3B%0A%20%20%20%20%20%20%20%20%0A%0A%20%20%20%20%20%20%20%20marker_0c0e587099474d8f82186d7fa65df820.bindPopup%28popup_c1f533575b244dce9c36ec2486bf9219%29%0A%20%20%20%20%20%20%20%20%3B%0A%0A%20%20%20%20%20%20%20%20%0A%20%20%20%20%0A%20%20%20%20%0A%20%20%20%20%20%20%20%20%20%20%20%20var%20marker_1a0a21c52eef4b458225775a46ab4c25%20%3D%20L.marker%28%0A%20%20%20%20%20%20%20%20%20%20%20%20%20%20%20%20%5B43.64536000000004%2C%20-79.37305999999995%5D%2C%0A%20%20%20%20%20%20%20%20%20%20%20%20%20%20%20%20%7B%7D%0A%20%20%20%20%20%20%20%20%20%20%20%20%29.addTo%28map_6f1f5e617f6548c98136320fb475facc%29%3B%0A%20%20%20%20%20%20%20%20%0A%20%20%20%20%0A%20%20%20%20%20%20%20%20var%20popup_6c921ef93abc49c0b836dee7e9fc0096%20%3D%20L.popup%28%7B%22maxWidth%22%3A%20%22100%25%22%7D%29%3B%0A%0A%20%20%20%20%20%20%20%20%0A%20%20%20%20%20%20%20%20%20%20%20%20var%20html_79eb97c093b84017b4e293255981e780%20%3D%20%24%28%60%3Cdiv%20id%3D%22html_79eb97c093b84017b4e293255981e780%22%20style%3D%22width%3A%20100.0%25%3B%20height%3A%20100.0%25%3B%22%3EBerczy%20Park%2C%20Downtown%20Toronto%287.3%29%3C/div%3E%60%29%5B0%5D%3B%0A%20%20%20%20%20%20%20%20%20%20%20%20popup_6c921ef93abc49c0b836dee7e9fc0096.setContent%28html_79eb97c093b84017b4e293255981e780%29%3B%0A%20%20%20%20%20%20%20%20%0A%0A%20%20%20%20%20%20%20%20marker_1a0a21c52eef4b458225775a46ab4c25.bindPopup%28popup_6c921ef93abc49c0b836dee7e9fc0096%29%0A%20%20%20%20%20%20%20%20%3B%0A%0A%20%20%20%20%20%20%20%20%0A%20%20%20%20%0A%20%20%20%20%0A%20%20%20%20%20%20%20%20%20%20%20%20var%20marker_899c1cb2c1384489a38dc358772f5bb0%20%3D%20L.marker%28%0A%20%20%20%20%20%20%20%20%20%20%20%20%20%20%20%20%5B43.66659000000004%2C%20-79.38132999999993%5D%2C%0A%20%20%20%20%20%20%20%20%20%20%20%20%20%20%20%20%7B%7D%0A%20%20%20%20%20%20%20%20%20%20%20%20%29.addTo%28map_6f1f5e617f6548c98136320fb475facc%29%3B%0A%20%20%20%20%20%20%20%20%0A%20%20%20%20%0A%20%20%20%20%20%20%20%20var%20popup_24737bfadf344f01954d29f9a097ee08%20%3D%20L.popup%28%7B%22maxWidth%22%3A%20%22100%25%22%7D%29%3B%0A%0A%20%20%20%20%20%20%20%20%0A%20%20%20%20%20%20%20%20%20%20%20%20var%20html_3ee2dd88b96740e3b9893ed328d73a1c%20%3D%20%24%28%60%3Cdiv%20id%3D%22html_3ee2dd88b96740e3b9893ed328d73a1c%22%20style%3D%22width%3A%20100.0%25%3B%20height%3A%20100.0%25%3B%22%3EChurch%20and%20Wellesley%2C%20Downtown%20Toronto%288.0%29%3C/div%3E%60%29%5B0%5D%3B%0A%20%20%20%20%20%20%20%20%20%20%20%20popup_24737bfadf344f01954d29f9a097ee08.setContent%28html_3ee2dd88b96740e3b9893ed328d73a1c%29%3B%0A%20%20%20%20%20%20%20%20%0A%0A%20%20%20%20%20%20%20%20marker_899c1cb2c1384489a38dc358772f5bb0.bindPopup%28popup_24737bfadf344f01954d29f9a097ee08%29%0A%20%20%20%20%20%20%20%20%3B%0A%0A%20%20%20%20%20%20%20%20%0A%20%20%20%20%0A%20%20%20%20%0A%20%20%20%20%20%20%20%20%20%20%20%20var%20marker_c8c2043604d646b49d182e4a926eb1d3%20%3D%20L.marker%28%0A%20%20%20%20%20%20%20%20%20%20%20%20%20%20%20%20%5B43.70340000000004%2C%20-79.38658999999996%5D%2C%0A%20%20%20%20%20%20%20%20%20%20%20%20%20%20%20%20%7B%7D%0A%20%20%20%20%20%20%20%20%20%20%20%20%29.addTo%28map_6f1f5e617f6548c98136320fb475facc%29%3B%0A%20%20%20%20%20%20%20%20%0A%20%20%20%20%0A%20%20%20%20%20%20%20%20var%20popup_0d4d6f0723224e71bb31eb2ac02c17b1%20%3D%20L.popup%28%7B%22maxWidth%22%3A%20%22100%25%22%7D%29%3B%0A%0A%20%20%20%20%20%20%20%20%0A%20%20%20%20%20%20%20%20%20%20%20%20var%20html_eeec5e472ced43a28fcc5c60a4f9fdfb%20%3D%20%24%28%60%3Cdiv%20id%3D%22html_eeec5e472ced43a28fcc5c60a4f9fdfb%22%20style%3D%22width%3A%20100.0%25%3B%20height%3A%20100.0%25%3B%22%3EDavisville%2C%20Central%20Toronto%288.0%29%3C/div%3E%60%29%5B0%5D%3B%0A%20%20%20%20%20%20%20%20%20%20%20%20popup_0d4d6f0723224e71bb31eb2ac02c17b1.setContent%28html_eeec5e472ced43a28fcc5c60a4f9fdfb%29%3B%0A%20%20%20%20%20%20%20%20%0A%0A%20%20%20%20%20%20%20%20marker_c8c2043604d646b49d182e4a926eb1d3.bindPopup%28popup_0d4d6f0723224e71bb31eb2ac02c17b1%29%0A%20%20%20%20%20%20%20%20%3B%0A%0A%20%20%20%20%20%20%20%20%0A%20%20%20%20%0A%20%20%20%20%0A%20%20%20%20%20%20%20%20%20%20%20%20var%20marker_0745e17f577740b2b5083fea0d269c27%20%3D%20L.marker%28%0A%20%20%20%20%20%20%20%20%20%20%20%20%20%20%20%20%5B43.64869000000004%2C%20-79.38543999999996%5D%2C%0A%20%20%20%20%20%20%20%20%20%20%20%20%20%20%20%20%7B%7D%0A%20%20%20%20%20%20%20%20%20%20%20%20%29.addTo%28map_6f1f5e617f6548c98136320fb475facc%29%3B%0A%20%20%20%20%20%20%20%20%0A%20%20%20%20%0A%20%20%20%20%20%20%20%20var%20popup_0e0629ae3e74487f95f89fc13fe22eeb%20%3D%20L.popup%28%7B%22maxWidth%22%3A%20%22100%25%22%7D%29%3B%0A%0A%20%20%20%20%20%20%20%20%0A%20%20%20%20%20%20%20%20%20%20%20%20var%20html_ce320a0889bb409caf8ce3fd3e620ee3%20%3D%20%24%28%60%3Cdiv%20id%3D%22html_ce320a0889bb409caf8ce3fd3e620ee3%22%20style%3D%22width%3A%20100.0%25%3B%20height%3A%20100.0%25%3B%22%3EEnclave%20of%20L4W%2C%20Mississauga%287.3%29%3C/div%3E%60%29%5B0%5D%3B%0A%20%20%20%20%20%20%20%20%20%20%20%20popup_0e0629ae3e74487f95f89fc13fe22eeb.setContent%28html_ce320a0889bb409caf8ce3fd3e620ee3%29%3B%0A%20%20%20%20%20%20%20%20%0A%0A%20%20%20%20%20%20%20%20marker_0745e17f577740b2b5083fea0d269c27.bindPopup%28popup_0e0629ae3e74487f95f89fc13fe22eeb%29%0A%20%20%20%20%20%20%20%20%3B%0A%0A%20%20%20%20%20%20%20%20%0A%20%20%20%20%0A%20%20%20%20%0A%20%20%20%20%20%20%20%20%20%20%20%20var%20marker_9a054ee95a8c4c69a6dc9fddd4655965%20%3D%20L.marker%28%0A%20%20%20%20%20%20%20%20%20%20%20%20%20%20%20%20%5B43.64869000000004%2C%20-79.38543999999996%5D%2C%0A%20%20%20%20%20%20%20%20%20%20%20%20%20%20%20%20%7B%7D%0A%20%20%20%20%20%20%20%20%20%20%20%20%29.addTo%28map_6f1f5e617f6548c98136320fb475facc%29%3B%0A%20%20%20%20%20%20%20%20%0A%20%20%20%20%0A%20%20%20%20%20%20%20%20var%20popup_b74a6c68beee4bcc9bab077d6a271762%20%3D%20L.popup%28%7B%22maxWidth%22%3A%20%22100%25%22%7D%29%3B%0A%0A%20%20%20%20%20%20%20%20%0A%20%20%20%20%20%20%20%20%20%20%20%20var%20html_6bba287a85ee4a48b7f1ddb6daf68854%20%3D%20%24%28%60%3Cdiv%20id%3D%22html_6bba287a85ee4a48b7f1ddb6daf68854%22%20style%3D%22width%3A%20100.0%25%3B%20height%3A%20100.0%25%3B%22%3EEnclave%20of%20M4L%2C%20East%20Toronto%20Business%287.3%29%3C/div%3E%60%29%5B0%5D%3B%0A%20%20%20%20%20%20%20%20%20%20%20%20popup_b74a6c68beee4bcc9bab077d6a271762.setContent%28html_6bba287a85ee4a48b7f1ddb6daf68854%29%3B%0A%20%20%20%20%20%20%20%20%0A%0A%20%20%20%20%20%20%20%20marker_9a054ee95a8c4c69a6dc9fddd4655965.bindPopup%28popup_b74a6c68beee4bcc9bab077d6a271762%29%0A%20%20%20%20%20%20%20%20%3B%0A%0A%20%20%20%20%20%20%20%20%0A%20%20%20%20%0A%20%20%20%20%0A%20%20%20%20%20%20%20%20%20%20%20%20var%20marker_8787745068124ab9ab8519b128d6c0d4%20%3D%20L.marker%28%0A%20%20%20%20%20%20%20%20%20%20%20%20%20%20%20%20%5B43.64869000000004%2C%20-79.38543999999996%5D%2C%0A%20%20%20%20%20%20%20%20%20%20%20%20%20%20%20%20%7B%7D%0A%20%20%20%20%20%20%20%20%20%20%20%20%29.addTo%28map_6f1f5e617f6548c98136320fb475facc%29%3B%0A%20%20%20%20%20%20%20%20%0A%20%20%20%20%0A%20%20%20%20%20%20%20%20var%20popup_c6e3264787a74507b7669014e42bc3d7%20%3D%20L.popup%28%7B%22maxWidth%22%3A%20%22100%25%22%7D%29%3B%0A%0A%20%20%20%20%20%20%20%20%0A%20%20%20%20%20%20%20%20%20%20%20%20var%20html_8f90eb077b5b44e7bff1e6b64418c82a%20%3D%20%24%28%60%3Cdiv%20id%3D%22html_8f90eb077b5b44e7bff1e6b64418c82a%22%20style%3D%22width%3A%20100.0%25%3B%20height%3A%20100.0%25%3B%22%3EEnclave%20of%20M5E%2C%20Downtown%20Toronto%20Stn%20A%287.3%29%3C/div%3E%60%29%5B0%5D%3B%0A%20%20%20%20%20%20%20%20%20%20%20%20popup_c6e3264787a74507b7669014e42bc3d7.setContent%28html_8f90eb077b5b44e7bff1e6b64418c82a%29%3B%0A%20%20%20%20%20%20%20%20%0A%0A%20%20%20%20%20%20%20%20marker_8787745068124ab9ab8519b128d6c0d4.bindPopup%28popup_c6e3264787a74507b7669014e42bc3d7%29%0A%20%20%20%20%20%20%20%20%3B%0A%0A%20%20%20%20%20%20%20%20%0A%20%20%20%20%0A%20%20%20%20%0A%20%20%20%20%20%20%20%20%20%20%20%20var%20marker_b9651313e5354444b2012fa678156020%20%3D%20L.marker%28%0A%20%20%20%20%20%20%20%20%20%20%20%20%20%20%20%20%5B43.64982000000003%2C%20-79.47547999999995%5D%2C%0A%20%20%20%20%20%20%20%20%20%20%20%20%20%20%20%20%7B%7D%0A%20%20%20%20%20%20%20%20%20%20%20%20%29.addTo%28map_6f1f5e617f6548c98136320fb475facc%29%3B%0A%20%20%20%20%20%20%20%20%0A%20%20%20%20%0A%20%20%20%20%20%20%20%20var%20popup_b9642462aaa84de0bbd4964328506cbf%20%3D%20L.popup%28%7B%22maxWidth%22%3A%20%22100%25%22%7D%29%3B%0A%0A%20%20%20%20%20%20%20%20%0A%20%20%20%20%20%20%20%20%20%20%20%20var%20html_c2ebfcf7417b470d90131f23f624f927%20%3D%20%24%28%60%3Cdiv%20id%3D%22html_c2ebfcf7417b470d90131f23f624f927%22%20style%3D%22width%3A%20100.0%25%3B%20height%3A%20100.0%25%3B%22%3ERunnymede%2C%20Swansea%2C%20West%20Toronto%287.0%29%3C/div%3E%60%29%5B0%5D%3B%0A%20%20%20%20%20%20%20%20%20%20%20%20popup_b9642462aaa84de0bbd4964328506cbf.setContent%28html_c2ebfcf7417b470d90131f23f624f927%29%3B%0A%20%20%20%20%20%20%20%20%0A%0A%20%20%20%20%20%20%20%20marker_b9651313e5354444b2012fa678156020.bindPopup%28popup_b9642462aaa84de0bbd4964328506cbf%29%0A%20%20%20%20%20%20%20%20%3B%0A%0A%20%20%20%20%20%20%20%20%0A%20%20%20%20%0A%20%20%20%20%0A%20%20%20%20%20%20%20%20%20%20%20%20var%20marker_1c900b0ccf7e45a49d3502888b2e7842%20%3D%20L.marker%28%0A%20%20%20%20%20%20%20%20%20%20%20%20%20%20%20%20%5B43.66788000000003%2C%20-79.36648999999994%5D%2C%0A%20%20%20%20%20%20%20%20%20%20%20%20%20%20%20%20%7B%7D%0A%20%20%20%20%20%20%20%20%20%20%20%20%29.addTo%28map_6f1f5e617f6548c98136320fb475facc%29%3B%0A%20%20%20%20%20%20%20%20%0A%20%20%20%20%0A%20%20%20%20%20%20%20%20var%20popup_6729363d72a04951b50d50b66f5c20e6%20%3D%20L.popup%28%7B%22maxWidth%22%3A%20%22100%25%22%7D%29%3B%0A%0A%20%20%20%20%20%20%20%20%0A%20%20%20%20%20%20%20%20%20%20%20%20var%20html_e09ef3c97e364f1e8be6e5a1d5720104%20%3D%20%24%28%60%3Cdiv%20id%3D%22html_e09ef3c97e364f1e8be6e5a1d5720104%22%20style%3D%22width%3A%20100.0%25%3B%20height%3A%20100.0%25%3B%22%3ESt.%20James%20Town%2C%20Cabbagetown%2C%20Downtown%20Toronto%287.9%29%3C/div%3E%60%29%5B0%5D%3B%0A%20%20%20%20%20%20%20%20%20%20%20%20popup_6729363d72a04951b50d50b66f5c20e6.setContent%28html_e09ef3c97e364f1e8be6e5a1d5720104%29%3B%0A%20%20%20%20%20%20%20%20%0A%0A%20%20%20%20%20%20%20%20marker_1c900b0ccf7e45a49d3502888b2e7842.bindPopup%28popup_6729363d72a04951b50d50b66f5c20e6%29%0A%20%20%20%20%20%20%20%20%3B%0A%0A%20%20%20%20%20%20%20%20%0A%20%20%20%20%0A%20%20%20%20%0A%20%20%20%20%20%20%20%20%20%20%20%20var%20marker_fa3eac1e31ed43ed90c913de69360416%20%3D%20L.marker%28%0A%20%20%20%20%20%20%20%20%20%20%20%20%20%20%20%20%5B43.67484000000007%2C%20-79.40451999999993%5D%2C%0A%20%20%20%20%20%20%20%20%20%20%20%20%20%20%20%20%7B%7D%0A%20%20%20%20%20%20%20%20%20%20%20%20%29.addTo%28map_6f1f5e617f6548c98136320fb475facc%29%3B%0A%20%20%20%20%20%20%20%20%0A%20%20%20%20%0A%20%20%20%20%20%20%20%20var%20popup_aa610a674629429a9faaab3fda52eca8%20%3D%20L.popup%28%7B%22maxWidth%22%3A%20%22100%25%22%7D%29%3B%0A%0A%20%20%20%20%20%20%20%20%0A%20%20%20%20%20%20%20%20%20%20%20%20var%20html_ad7188de4fbb455c8a4d2f0429390d1d%20%3D%20%24%28%60%3Cdiv%20id%3D%22html_ad7188de4fbb455c8a4d2f0429390d1d%22%20style%3D%22width%3A%20100.0%25%3B%20height%3A%20100.0%25%3B%22%3EThe%20Annex%2C%20North%20Midtown%2C%20Yorkville%2C%20Central%20Toronto%288.4%29%3C/div%3E%60%29%5B0%5D%3B%0A%20%20%20%20%20%20%20%20%20%20%20%20popup_aa610a674629429a9faaab3fda52eca8.setContent%28html_ad7188de4fbb455c8a4d2f0429390d1d%29%3B%0A%20%20%20%20%20%20%20%20%0A%0A%20%20%20%20%20%20%20%20marker_fa3eac1e31ed43ed90c913de69360416.bindPopup%28popup_aa610a674629429a9faaab3fda52eca8%29%0A%20%20%20%20%20%20%20%20%3B%0A%0A%20%20%20%20%20%20%20%20%0A%20%20%20%20%0A%20%20%20%20%0A%20%20%20%20%20%20%20%20%20%20%20%20var%20feature_group_40acabaa46a54ebd9f2f49186e0d7575%20%3D%20L.featureGroup%28%0A%20%20%20%20%20%20%20%20%20%20%20%20%20%20%20%20%7B%7D%0A%20%20%20%20%20%20%20%20%20%20%20%20%29.addTo%28map_6f1f5e617f6548c98136320fb475facc%29%3B%0A%20%20%20%20%20%20%20%20%0A%20%20%20%20%0A%20%20%20%20%20%20%20%20%20%20%20%20var%20circle_marker_abae70f918c14a26be44a0ffcb090c85%20%3D%20L.circleMarker%28%0A%20%20%20%20%20%20%20%20%20%20%20%20%20%20%20%20%5B43.73545000000007%2C%20-79.41915999999998%5D%2C%0A%20%20%20%20%20%20%20%20%20%20%20%20%20%20%20%20%7B%22bubblingMouseEvents%22%3A%20true%2C%20%22color%22%3A%20%22yellow%22%2C%20%22dashArray%22%3A%20null%2C%20%22dashOffset%22%3A%20null%2C%20%22fill%22%3A%20true%2C%20%22fillColor%22%3A%20%22blue%22%2C%20%22fillOpacity%22%3A%200.6%2C%20%22fillRule%22%3A%20%22evenodd%22%2C%20%22lineCap%22%3A%20%22round%22%2C%20%22lineJoin%22%3A%20%22round%22%2C%20%22opacity%22%3A%201.0%2C%20%22radius%22%3A%2010%2C%20%22stroke%22%3A%20true%2C%20%22weight%22%3A%203%7D%0A%20%20%20%20%20%20%20%20%20%20%20%20%29.addTo%28feature_group_40acabaa46a54ebd9f2f49186e0d7575%29%3B%0A%20%20%20%20%20%20%20%20%0A%20%20%20%20%0A%20%20%20%20%20%20%20%20%20%20%20%20var%20circle_marker_4eb7ff66308b422ea1289365403b253c%20%3D%20L.circleMarker%28%0A%20%20%20%20%20%20%20%20%20%20%20%20%20%20%20%20%5B43.64536000000004%2C%20-79.37305999999995%5D%2C%0A%20%20%20%20%20%20%20%20%20%20%20%20%20%20%20%20%7B%22bubblingMouseEvents%22%3A%20true%2C%20%22color%22%3A%20%22yellow%22%2C%20%22dashArray%22%3A%20null%2C%20%22dashOffset%22%3A%20null%2C%20%22fill%22%3A%20true%2C%20%22fillColor%22%3A%20%22blue%22%2C%20%22fillOpacity%22%3A%200.6%2C%20%22fillRule%22%3A%20%22evenodd%22%2C%20%22lineCap%22%3A%20%22round%22%2C%20%22lineJoin%22%3A%20%22round%22%2C%20%22opacity%22%3A%201.0%2C%20%22radius%22%3A%2010%2C%20%22stroke%22%3A%20true%2C%20%22weight%22%3A%203%7D%0A%20%20%20%20%20%20%20%20%20%20%20%20%29.addTo%28feature_group_40acabaa46a54ebd9f2f49186e0d7575%29%3B%0A%20%20%20%20%20%20%20%20%0A%20%20%20%20%0A%20%20%20%20%20%20%20%20%20%20%20%20var%20circle_marker_6728a99dc3ee48dabfd16d91f0dfed8d%20%3D%20L.circleMarker%28%0A%20%20%20%20%20%20%20%20%20%20%20%20%20%20%20%20%5B43.66659000000004%2C%20-79.38132999999993%5D%2C%0A%20%20%20%20%20%20%20%20%20%20%20%20%20%20%20%20%7B%22bubblingMouseEvents%22%3A%20true%2C%20%22color%22%3A%20%22yellow%22%2C%20%22dashArray%22%3A%20null%2C%20%22dashOffset%22%3A%20null%2C%20%22fill%22%3A%20true%2C%20%22fillColor%22%3A%20%22blue%22%2C%20%22fillOpacity%22%3A%200.6%2C%20%22fillRule%22%3A%20%22evenodd%22%2C%20%22lineCap%22%3A%20%22round%22%2C%20%22lineJoin%22%3A%20%22round%22%2C%20%22opacity%22%3A%201.0%2C%20%22radius%22%3A%2010%2C%20%22stroke%22%3A%20true%2C%20%22weight%22%3A%203%7D%0A%20%20%20%20%20%20%20%20%20%20%20%20%29.addTo%28feature_group_40acabaa46a54ebd9f2f49186e0d7575%29%3B%0A%20%20%20%20%20%20%20%20%0A%20%20%20%20%0A%20%20%20%20%20%20%20%20%20%20%20%20var%20circle_marker_8e4f7dd115c04cbf996af702f8f4faff%20%3D%20L.circleMarker%28%0A%20%20%20%20%20%20%20%20%20%20%20%20%20%20%20%20%5B43.70340000000004%2C%20-79.38658999999996%5D%2C%0A%20%20%20%20%20%20%20%20%20%20%20%20%20%20%20%20%7B%22bubblingMouseEvents%22%3A%20true%2C%20%22color%22%3A%20%22yellow%22%2C%20%22dashArray%22%3A%20null%2C%20%22dashOffset%22%3A%20null%2C%20%22fill%22%3A%20true%2C%20%22fillColor%22%3A%20%22blue%22%2C%20%22fillOpacity%22%3A%200.6%2C%20%22fillRule%22%3A%20%22evenodd%22%2C%20%22lineCap%22%3A%20%22round%22%2C%20%22lineJoin%22%3A%20%22round%22%2C%20%22opacity%22%3A%201.0%2C%20%22radius%22%3A%2010%2C%20%22stroke%22%3A%20true%2C%20%22weight%22%3A%203%7D%0A%20%20%20%20%20%20%20%20%20%20%20%20%29.addTo%28feature_group_40acabaa46a54ebd9f2f49186e0d7575%29%3B%0A%20%20%20%20%20%20%20%20%0A%20%20%20%20%0A%20%20%20%20%20%20%20%20%20%20%20%20var%20circle_marker_1f9734c5fc1b49bc87735d87bbb4295c%20%3D%20L.circleMarker%28%0A%20%20%20%20%20%20%20%20%20%20%20%20%20%20%20%20%5B43.64869000000004%2C%20-79.38543999999996%5D%2C%0A%20%20%20%20%20%20%20%20%20%20%20%20%20%20%20%20%7B%22bubblingMouseEvents%22%3A%20true%2C%20%22color%22%3A%20%22yellow%22%2C%20%22dashArray%22%3A%20null%2C%20%22dashOffset%22%3A%20null%2C%20%22fill%22%3A%20true%2C%20%22fillColor%22%3A%20%22blue%22%2C%20%22fillOpacity%22%3A%200.6%2C%20%22fillRule%22%3A%20%22evenodd%22%2C%20%22lineCap%22%3A%20%22round%22%2C%20%22lineJoin%22%3A%20%22round%22%2C%20%22opacity%22%3A%201.0%2C%20%22radius%22%3A%2010%2C%20%22stroke%22%3A%20true%2C%20%22weight%22%3A%203%7D%0A%20%20%20%20%20%20%20%20%20%20%20%20%29.addTo%28feature_group_40acabaa46a54ebd9f2f49186e0d7575%29%3B%0A%20%20%20%20%20%20%20%20%0A%20%20%20%20%0A%20%20%20%20%20%20%20%20%20%20%20%20var%20circle_marker_e2e71fd8a2484e51a05e8143a2740045%20%3D%20L.circleMarker%28%0A%20%20%20%20%20%20%20%20%20%20%20%20%20%20%20%20%5B43.64869000000004%2C%20-79.38543999999996%5D%2C%0A%20%20%20%20%20%20%20%20%20%20%20%20%20%20%20%20%7B%22bubblingMouseEvents%22%3A%20true%2C%20%22color%22%3A%20%22yellow%22%2C%20%22dashArray%22%3A%20null%2C%20%22dashOffset%22%3A%20null%2C%20%22fill%22%3A%20true%2C%20%22fillColor%22%3A%20%22blue%22%2C%20%22fillOpacity%22%3A%200.6%2C%20%22fillRule%22%3A%20%22evenodd%22%2C%20%22lineCap%22%3A%20%22round%22%2C%20%22lineJoin%22%3A%20%22round%22%2C%20%22opacity%22%3A%201.0%2C%20%22radius%22%3A%2010%2C%20%22stroke%22%3A%20true%2C%20%22weight%22%3A%203%7D%0A%20%20%20%20%20%20%20%20%20%20%20%20%29.addTo%28feature_group_40acabaa46a54ebd9f2f49186e0d7575%29%3B%0A%20%20%20%20%20%20%20%20%0A%20%20%20%20%0A%20%20%20%20%20%20%20%20%20%20%20%20var%20circle_marker_ad324a5e6c3340658b13bdf2ed412917%20%3D%20L.circleMarker%28%0A%20%20%20%20%20%20%20%20%20%20%20%20%20%20%20%20%5B43.64869000000004%2C%20-79.38543999999996%5D%2C%0A%20%20%20%20%20%20%20%20%20%20%20%20%20%20%20%20%7B%22bubblingMouseEvents%22%3A%20true%2C%20%22color%22%3A%20%22yellow%22%2C%20%22dashArray%22%3A%20null%2C%20%22dashOffset%22%3A%20null%2C%20%22fill%22%3A%20true%2C%20%22fillColor%22%3A%20%22blue%22%2C%20%22fillOpacity%22%3A%200.6%2C%20%22fillRule%22%3A%20%22evenodd%22%2C%20%22lineCap%22%3A%20%22round%22%2C%20%22lineJoin%22%3A%20%22round%22%2C%20%22opacity%22%3A%201.0%2C%20%22radius%22%3A%2010%2C%20%22stroke%22%3A%20true%2C%20%22weight%22%3A%203%7D%0A%20%20%20%20%20%20%20%20%20%20%20%20%29.addTo%28feature_group_40acabaa46a54ebd9f2f49186e0d7575%29%3B%0A%20%20%20%20%20%20%20%20%0A%20%20%20%20%0A%20%20%20%20%20%20%20%20%20%20%20%20var%20circle_marker_2330122ac21b443ab01a62fc26cf7757%20%3D%20L.circleMarker%28%0A%20%20%20%20%20%20%20%20%20%20%20%20%20%20%20%20%5B43.64982000000003%2C%20-79.47547999999995%5D%2C%0A%20%20%20%20%20%20%20%20%20%20%20%20%20%20%20%20%7B%22bubblingMouseEvents%22%3A%20true%2C%20%22color%22%3A%20%22yellow%22%2C%20%22dashArray%22%3A%20null%2C%20%22dashOffset%22%3A%20null%2C%20%22fill%22%3A%20true%2C%20%22fillColor%22%3A%20%22blue%22%2C%20%22fillOpacity%22%3A%200.6%2C%20%22fillRule%22%3A%20%22evenodd%22%2C%20%22lineCap%22%3A%20%22round%22%2C%20%22lineJoin%22%3A%20%22round%22%2C%20%22opacity%22%3A%201.0%2C%20%22radius%22%3A%2010%2C%20%22stroke%22%3A%20true%2C%20%22weight%22%3A%203%7D%0A%20%20%20%20%20%20%20%20%20%20%20%20%29.addTo%28feature_group_40acabaa46a54ebd9f2f49186e0d7575%29%3B%0A%20%20%20%20%20%20%20%20%0A%20%20%20%20%0A%20%20%20%20%20%20%20%20%20%20%20%20var%20circle_marker_c286353cb16c4bbba43a3364db128dc5%20%3D%20L.circleMarker%28%0A%20%20%20%20%20%20%20%20%20%20%20%20%20%20%20%20%5B43.66788000000003%2C%20-79.36648999999994%5D%2C%0A%20%20%20%20%20%20%20%20%20%20%20%20%20%20%20%20%7B%22bubblingMouseEvents%22%3A%20true%2C%20%22color%22%3A%20%22yellow%22%2C%20%22dashArray%22%3A%20null%2C%20%22dashOffset%22%3A%20null%2C%20%22fill%22%3A%20true%2C%20%22fillColor%22%3A%20%22blue%22%2C%20%22fillOpacity%22%3A%200.6%2C%20%22fillRule%22%3A%20%22evenodd%22%2C%20%22lineCap%22%3A%20%22round%22%2C%20%22lineJoin%22%3A%20%22round%22%2C%20%22opacity%22%3A%201.0%2C%20%22radius%22%3A%2010%2C%20%22stroke%22%3A%20true%2C%20%22weight%22%3A%203%7D%0A%20%20%20%20%20%20%20%20%20%20%20%20%29.addTo%28feature_group_40acabaa46a54ebd9f2f49186e0d7575%29%3B%0A%20%20%20%20%20%20%20%20%0A%20%20%20%20%0A%20%20%20%20%20%20%20%20%20%20%20%20var%20circle_marker_61f748f8984d49ccbc919e57cb5b5025%20%3D%20L.circleMarker%28%0A%20%20%20%20%20%20%20%20%20%20%20%20%20%20%20%20%5B43.67484000000007%2C%20-79.40451999999993%5D%2C%0A%20%20%20%20%20%20%20%20%20%20%20%20%20%20%20%20%7B%22bubblingMouseEvents%22%3A%20true%2C%20%22color%22%3A%20%22yellow%22%2C%20%22dashArray%22%3A%20null%2C%20%22dashOffset%22%3A%20null%2C%20%22fill%22%3A%20true%2C%20%22fillColor%22%3A%20%22blue%22%2C%20%22fillOpacity%22%3A%200.6%2C%20%22fillRule%22%3A%20%22evenodd%22%2C%20%22lineCap%22%3A%20%22round%22%2C%20%22lineJoin%22%3A%20%22round%22%2C%20%22opacity%22%3A%201.0%2C%20%22radius%22%3A%2010%2C%20%22stroke%22%3A%20true%2C%20%22weight%22%3A%203%7D%0A%20%20%20%20%20%20%20%20%20%20%20%20%29.addTo%28feature_group_40acabaa46a54ebd9f2f49186e0d7575%29%3B%0A%20%20%20%20%20%20%20%20%0A%3C/script%3E onload=\"this.contentDocument.open();this.contentDocument.write(    decodeURIComponent(this.getAttribute('data-html')));this.contentDocument.close();\" allowfullscreen webkitallowfullscreen mozallowfullscreen></iframe></div></div>"
      ],
      "text/plain": [
       "<folium.folium.Map at 0x16a913fe640>"
      ]
     },
     "execution_count": 66,
     "metadata": {},
     "output_type": "execute_result"
    }
   ],
   "source": [
    "neighborhood_stats['Label']=neighborhood_stats['Neighborhood']+', '+neighborhood_stats['Borough']+'('+neighborhood_stats['Average Rating'].map(str)+')'\n",
    "# add pop-up text to each marker on the map\n",
    "for lat, lng, label in neighborhood_stats[['Latitude','Longitude','Label']].values:\n",
    "    folium.Marker([lat, lng], popup=label).add_to(i_map)        \n",
    "# add ratings to map\n",
    "i_map.add_child(rating)"
   ]
  },
  {
   "cell_type": "code",
   "execution_count": 68,
   "metadata": {},
   "outputs": [
    {
     "data": {
      "text/html": [
       "<div>\n",
       "<style scoped>\n",
       "    .dataframe tbody tr th:only-of-type {\n",
       "        vertical-align: middle;\n",
       "    }\n",
       "\n",
       "    .dataframe tbody tr th {\n",
       "        vertical-align: top;\n",
       "    }\n",
       "\n",
       "    .dataframe thead th {\n",
       "        text-align: right;\n",
       "    }\n",
       "</style>\n",
       "<table border=\"1\" class=\"dataframe\">\n",
       "  <thead>\n",
       "    <tr style=\"text-align: right;\">\n",
       "      <th></th>\n",
       "      <th>Borough</th>\n",
       "      <th>Neighborhood</th>\n",
       "      <th>Latitude</th>\n",
       "      <th>Longitude</th>\n",
       "      <th>Average Rating</th>\n",
       "      <th>Label</th>\n",
       "    </tr>\n",
       "  </thead>\n",
       "  <tbody>\n",
       "    <tr>\n",
       "      <th>9</th>\n",
       "      <td>Central Toronto</td>\n",
       "      <td>The Annex, North Midtown, Yorkville</td>\n",
       "      <td>43.67484</td>\n",
       "      <td>-79.40452</td>\n",
       "      <td>8.4</td>\n",
       "      <td>The Annex, North Midtown, Yorkville, Central T...</td>\n",
       "    </tr>\n",
       "    <tr>\n",
       "      <th>2</th>\n",
       "      <td>Downtown Toronto</td>\n",
       "      <td>Church and Wellesley</td>\n",
       "      <td>43.66659</td>\n",
       "      <td>-79.38133</td>\n",
       "      <td>8.0</td>\n",
       "      <td>Church and Wellesley, Downtown Toronto(8.0)</td>\n",
       "    </tr>\n",
       "    <tr>\n",
       "      <th>3</th>\n",
       "      <td>Central Toronto</td>\n",
       "      <td>Davisville</td>\n",
       "      <td>43.70340</td>\n",
       "      <td>-79.38659</td>\n",
       "      <td>8.0</td>\n",
       "      <td>Davisville, Central Toronto(8.0)</td>\n",
       "    </tr>\n",
       "    <tr>\n",
       "      <th>8</th>\n",
       "      <td>Downtown Toronto</td>\n",
       "      <td>St. James Town, Cabbagetown</td>\n",
       "      <td>43.66788</td>\n",
       "      <td>-79.36649</td>\n",
       "      <td>7.9</td>\n",
       "      <td>St. James Town, Cabbagetown, Downtown Toronto(...</td>\n",
       "    </tr>\n",
       "    <tr>\n",
       "      <th>0</th>\n",
       "      <td>North York</td>\n",
       "      <td>Bedford Park, Lawrence Manor East</td>\n",
       "      <td>43.73545</td>\n",
       "      <td>-79.41916</td>\n",
       "      <td>7.3</td>\n",
       "      <td>Bedford Park, Lawrence Manor East, North York(...</td>\n",
       "    </tr>\n",
       "    <tr>\n",
       "      <th>1</th>\n",
       "      <td>Downtown Toronto</td>\n",
       "      <td>Berczy Park</td>\n",
       "      <td>43.64536</td>\n",
       "      <td>-79.37306</td>\n",
       "      <td>7.3</td>\n",
       "      <td>Berczy Park, Downtown Toronto(7.3)</td>\n",
       "    </tr>\n",
       "    <tr>\n",
       "      <th>4</th>\n",
       "      <td>Mississauga</td>\n",
       "      <td>Enclave of L4W</td>\n",
       "      <td>43.64869</td>\n",
       "      <td>-79.38544</td>\n",
       "      <td>7.3</td>\n",
       "      <td>Enclave of L4W, Mississauga(7.3)</td>\n",
       "    </tr>\n",
       "    <tr>\n",
       "      <th>5</th>\n",
       "      <td>East Toronto Business</td>\n",
       "      <td>Enclave of M4L</td>\n",
       "      <td>43.64869</td>\n",
       "      <td>-79.38544</td>\n",
       "      <td>7.3</td>\n",
       "      <td>Enclave of M4L, East Toronto Business(7.3)</td>\n",
       "    </tr>\n",
       "    <tr>\n",
       "      <th>6</th>\n",
       "      <td>Downtown Toronto Stn A</td>\n",
       "      <td>Enclave of M5E</td>\n",
       "      <td>43.64869</td>\n",
       "      <td>-79.38544</td>\n",
       "      <td>7.3</td>\n",
       "      <td>Enclave of M5E, Downtown Toronto Stn A(7.3)</td>\n",
       "    </tr>\n",
       "    <tr>\n",
       "      <th>7</th>\n",
       "      <td>West Toronto</td>\n",
       "      <td>Runnymede, Swansea</td>\n",
       "      <td>43.64982</td>\n",
       "      <td>-79.47548</td>\n",
       "      <td>7.0</td>\n",
       "      <td>Runnymede, Swansea, West Toronto(7.0)</td>\n",
       "    </tr>\n",
       "  </tbody>\n",
       "</table>\n",
       "</div>"
      ],
      "text/plain": [
       "                  Borough                         Neighborhood  Latitude  \\\n",
       "9         Central Toronto  The Annex, North Midtown, Yorkville  43.67484   \n",
       "2        Downtown Toronto                 Church and Wellesley  43.66659   \n",
       "3         Central Toronto                           Davisville  43.70340   \n",
       "8        Downtown Toronto          St. James Town, Cabbagetown  43.66788   \n",
       "0              North York    Bedford Park, Lawrence Manor East  43.73545   \n",
       "1        Downtown Toronto                          Berczy Park  43.64536   \n",
       "4             Mississauga                       Enclave of L4W  43.64869   \n",
       "5   East Toronto Business                       Enclave of M4L  43.64869   \n",
       "6  Downtown Toronto Stn A                       Enclave of M5E  43.64869   \n",
       "7            West Toronto                   Runnymede, Swansea  43.64982   \n",
       "\n",
       "   Longitude  Average Rating  \\\n",
       "9  -79.40452             8.4   \n",
       "2  -79.38133             8.0   \n",
       "3  -79.38659             8.0   \n",
       "8  -79.36649             7.9   \n",
       "0  -79.41916             7.3   \n",
       "1  -79.37306             7.3   \n",
       "4  -79.38544             7.3   \n",
       "5  -79.38544             7.3   \n",
       "6  -79.38544             7.3   \n",
       "7  -79.47548             7.0   \n",
       "\n",
       "                                               Label  \n",
       "9  The Annex, North Midtown, Yorkville, Central T...  \n",
       "2        Church and Wellesley, Downtown Toronto(8.0)  \n",
       "3                   Davisville, Central Toronto(8.0)  \n",
       "8  St. James Town, Cabbagetown, Downtown Toronto(...  \n",
       "0  Bedford Park, Lawrence Manor East, North York(...  \n",
       "1                 Berczy Park, Downtown Toronto(7.3)  \n",
       "4                   Enclave of L4W, Mississauga(7.3)  \n",
       "5         Enclave of M4L, East Toronto Business(7.3)  \n",
       "6        Enclave of M5E, Downtown Toronto Stn A(7.3)  \n",
       "7              Runnymede, Swansea, West Toronto(7.0)  "
      ]
     },
     "execution_count": 68,
     "metadata": {},
     "output_type": "execute_result"
    }
   ],
   "source": [
    "neighborhood_stats.sort_values(by='Average Rating', ascending=False)"
   ]
  },
  {
   "cell_type": "markdown",
   "metadata": {},
   "source": [
    "### RESULTS & CONCLUSION:"
   ]
  },
  {
   "cell_type": "markdown",
   "metadata": {},
   "source": [
    "Central Toronto and Downtown Toronto have the best rated Indian restaurants on average. West Toronto has the least amount of Indian restaurants per borough. However, of note,The Annex, North Midtown, Yorkville in Central Toronto has the highest number of Indian Restaurants in all of Toronto. Despite Downtown Toronto having the least number of neighborhoods in all the boroughs, it has the most number of Indian restaurants. Based on the above information, I would state that Central Toronto and Downtown Toronto are the best locations for Indian cuisine in Toronto. To have the best shot of success, I would open a Indian restaurant in Central Toronto. Central Toronto has multiple neighborhoods with average ratings exceeding 7.0 on a scale of 1.0 to 10.0 and has less amount of Indian restaurants than Downtown Toronto, making competition easier. Also we should keep in mind, that real estate prices in Brooklyn are much cheaper than in Manhattan. Finally, I would go to Little India Restaurant in Missisuaga,Downtown Toronto Stn A or East Toronto Business for the best Indian food based on 127 likes. As a final note, all of the above analysis is depended on the accuracy of Four Square data. A more comprehensive analysis and future work would need to incorporate data from other external databases."
   ]
  },
  {
   "cell_type": "code",
   "execution_count": null,
   "metadata": {},
   "outputs": [],
   "source": []
  }
 ],
 "metadata": {
  "kernelspec": {
   "display_name": "Python 3",
   "language": "python",
   "name": "python3"
  },
  "language_info": {
   "codemirror_mode": {
    "name": "ipython",
    "version": 3
   },
   "file_extension": ".py",
   "mimetype": "text/x-python",
   "name": "python",
   "nbconvert_exporter": "python",
   "pygments_lexer": "ipython3",
   "version": "3.8.5"
  }
 },
 "nbformat": 4,
 "nbformat_minor": 4
}
